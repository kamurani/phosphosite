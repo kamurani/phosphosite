{
 "cells": [
  {
   "cell_type": "code",
   "execution_count": 4,
   "metadata": {},
   "outputs": [
    {
     "name": "stdout",
     "output_type": "stream",
     "text": [
      "The autoreload extension is already loaded. To reload it, use:\n",
      "  %reload_ext autoreload\n"
     ]
    }
   ],
   "source": [
    "# Autoreload\n",
    "%load_ext autoreload\n",
    "%autoreload 2\n",
    "\n",
    "import json\n",
    "import numpy as np\n",
    "import pandas as pd\n",
    "\n",
    "from tqdm import tqdm \n",
    "from pathlib import Path\n",
    "from typing import List, Dict, Any, Union\n",
    "\n",
    "from phosphosite.dataset.psp.scraper import get_psp_mods\n",
    "from phosphosite.dataset.psp.psp import phosphorylation "
   ]
  },
  {
   "cell_type": "code",
   "execution_count": 5,
   "metadata": {},
   "outputs": [],
   "source": [
    "df = phosphorylation[phosphorylation[\"ORGANISM\"] == \"human\"]\n",
    "all_proteins = list(df[\"ACC_ID\"].unique())"
   ]
  },
  {
   "cell_type": "code",
   "execution_count": 25,
   "metadata": {},
   "outputs": [
    {
     "data": {
      "text/plain": [
       "17581"
      ]
     },
     "execution_count": 25,
     "metadata": {},
     "output_type": "execute_result"
    }
   ],
   "source": [
    "len(all_proteins)"
   ]
  },
  {
   "cell_type": "code",
   "execution_count": 17,
   "metadata": {},
   "outputs": [],
   "source": [
    "big_df = mods"
   ]
  },
  {
   "cell_type": "code",
   "execution_count": 24,
   "metadata": {},
   "outputs": [
    {
     "name": "stderr",
     "output_type": "stream",
     "text": [
      "Processing Q3ZCQ2: : 741it [00:08, 55.10it/s]           "
     ]
    },
    {
     "name": "stdout",
     "output_type": "stream",
     "text": [
      "Error: Could not decode JSON for A6NMY6\n"
     ]
    },
    {
     "name": "stderr",
     "output_type": "stream",
     "text": [
      "Processing Q5T2E6: : 1013it [04:37,  1.36it/s]   "
     ]
    },
    {
     "name": "stdout",
     "output_type": "stream",
     "text": [
      "Error: Could not decode JSON for Q49AH0\n"
     ]
    },
    {
     "name": "stderr",
     "output_type": "stream",
     "text": [
      "Processing Q5FYB1: : 1044it [05:06,  1.26it/s]"
     ]
    },
    {
     "name": "stdout",
     "output_type": "stream",
     "text": [
      "Error: Could not decode JSON for Q5FYA8\n"
     ]
    },
    {
     "name": "stderr",
     "output_type": "stream",
     "text": [
      "Processing Q9H6B4: : 1060it [05:20,  1.10it/s]"
     ]
    },
    {
     "name": "stdout",
     "output_type": "stream",
     "text": [
      "Error: Could not decode JSON for P0C7U1\n"
     ]
    },
    {
     "name": "stderr",
     "output_type": "stream",
     "text": [
      "Processing Q9BZE3: : 1365it [09:47,  1.12it/s]           "
     ]
    },
    {
     "name": "stdout",
     "output_type": "stream",
     "text": [
      "Error: Could not decode JSON for Q6ZT62\n"
     ]
    },
    {
     "name": "stderr",
     "output_type": "stream",
     "text": [
      "Processing Q5XLA6: : 2043it [19:32,  1.15it/s]          "
     ]
    },
    {
     "name": "stdout",
     "output_type": "stream",
     "text": [
      "Error: Could not decode JSON for Q5EG05\n"
     ]
    },
    {
     "name": "stderr",
     "output_type": "stream",
     "text": [
      "Processing Q6NUI1: : 2171it [21:25,  1.16it/s]      "
     ]
    },
    {
     "name": "stdout",
     "output_type": "stream",
     "text": [
      "Error: Could not decode JSON for Q8IYA2\n"
     ]
    },
    {
     "name": "stderr",
     "output_type": "stream",
     "text": [
      "Processing Q8IYE0: : 2172it [21:25,  1.25it/s]"
     ]
    },
    {
     "name": "stdout",
     "output_type": "stream",
     "text": [
      "Error: Could not decode JSON for Q6NUI1\n"
     ]
    },
    {
     "name": "stderr",
     "output_type": "stream",
     "text": [
      "Processing Q8N954: : 2270it [22:44,  1.39it/s]    "
     ]
    },
    {
     "name": "stdout",
     "output_type": "stream",
     "text": [
      "Error: Could not decode JSON for Q96LY2\n"
     ]
    },
    {
     "name": "stderr",
     "output_type": "stream",
     "text": [
      "Processing A8MXV6: : 2560it [27:04,  1.33it/s]"
     ]
    },
    {
     "name": "stdout",
     "output_type": "stream",
     "text": [
      "Error: Could not decode JSON for Q96T59\n"
     ]
    },
    {
     "name": "stderr",
     "output_type": "stream",
     "text": [
      "Processing P36980: : 2702it [29:13,  1.28it/s]"
     ]
    },
    {
     "name": "stdout",
     "output_type": "stream",
     "text": [
      "Error: Could not decode JSON for Q03591\n"
     ]
    },
    {
     "name": "stderr",
     "output_type": "stream",
     "text": [
      "Processing Q92496: : 2704it [29:15,  1.34it/s]"
     ]
    },
    {
     "name": "stdout",
     "output_type": "stream",
     "text": [
      "Error: Could not decode JSON for Q02985\n"
     ]
    },
    {
     "name": "stderr",
     "output_type": "stream",
     "text": [
      "Processing Q9UFW8: : 2716it [29:25,  1.22it/s]"
     ]
    },
    {
     "name": "stdout",
     "output_type": "stream",
     "text": [
      "Error: Could not decode JSON for Q6NT52\n"
     ]
    },
    {
     "name": "stderr",
     "output_type": "stream",
     "text": [
      "Processing Q9GZX3: : 2802it [30:42,  1.06it/s]      "
     ]
    },
    {
     "name": "stdout",
     "output_type": "stream",
     "text": [
      "Error: Could not decode JSON for Q9GZS9\n"
     ]
    },
    {
     "name": "stderr",
     "output_type": "stream",
     "text": [
      "Processing A5D8T8: : 2904it [32:12,  1.17it/s]"
     ]
    },
    {
     "name": "stdout",
     "output_type": "stream",
     "text": [
      "Error: Could not decode JSON for Q6ZS10\n"
     ]
    },
    {
     "name": "stderr",
     "output_type": "stream",
     "text": [
      "Processing Q9P126: : 2906it [32:14,  1.31it/s]"
     ]
    },
    {
     "name": "stdout",
     "output_type": "stream",
     "text": [
      "Error: Could not decode JSON for Q8NCF0\n"
     ]
    },
    {
     "name": "stderr",
     "output_type": "stream",
     "text": [
      "Processing Q8WXI2: : 2993it [33:32,  1.10it/s]          "
     ]
    },
    {
     "name": "stdout",
     "output_type": "stream",
     "text": [
      "Error: Could not decode JSON for G9CGD6\n"
     ]
    },
    {
     "name": "stderr",
     "output_type": "stream",
     "text": [
      "Processing P16989: : 3302it [37:57,  1.31it/s]      "
     ]
    },
    {
     "name": "stdout",
     "output_type": "stream",
     "text": [
      "Error: Could not decode JSON for P0DP91\n"
     ]
    },
    {
     "name": "stderr",
     "output_type": "stream",
     "text": [
      "Processing Q5DJT8: : 3341it [38:33,  1.15it/s]"
     ]
    },
    {
     "name": "stdout",
     "output_type": "stream",
     "text": [
      "Error: Could not decode JSON for Q5HYN5\n"
     ]
    },
    {
     "name": "stderr",
     "output_type": "stream",
     "text": [
      "Processing Q8NHU0: : 3343it [38:34,  1.30it/s]"
     ]
    },
    {
     "name": "stdout",
     "output_type": "stream",
     "text": [
      "Error: Could not decode JSON for P0DMU9\n"
     ]
    },
    {
     "name": "stderr",
     "output_type": "stream",
     "text": [
      "Processing P0DMV0: : 3346it [38:36,  1.31it/s]"
     ]
    },
    {
     "name": "stdout",
     "output_type": "stream",
     "text": [
      "Error: Could not decode JSON for P0DMU7\n"
     ]
    },
    {
     "name": "stderr",
     "output_type": "stream",
     "text": [
      "Processing P0DMV1: : 3347it [38:37,  1.38it/s]"
     ]
    },
    {
     "name": "stdout",
     "output_type": "stream",
     "text": [
      "Error: Could not decode JSON for P0DMV0\n"
     ]
    },
    {
     "name": "stderr",
     "output_type": "stream",
     "text": [
      "Processing Q86SG3: : 3592it [42:05,  1.21it/s]          "
     ]
    },
    {
     "name": "stdout",
     "output_type": "stream",
     "text": [
      "Error: Could not decode JSON for Q9NR90\n"
     ]
    },
    {
     "name": "stderr",
     "output_type": "stream",
     "text": [
      "Processing Q96EP5: : 3593it [42:05,  1.27it/s]"
     ]
    },
    {
     "name": "stdout",
     "output_type": "stream",
     "text": [
      "Error: Could not decode JSON for Q86SG3\n"
     ]
    },
    {
     "name": "stderr",
     "output_type": "stream",
     "text": [
      "Processing Q8WVC6: : 3615it [42:25,  1.35it/s]"
     ]
    },
    {
     "name": "stdout",
     "output_type": "stream",
     "text": [
      "Error: Could not decode JSON for A6NGE4\n"
     ]
    },
    {
     "name": "stderr",
     "output_type": "stream",
     "text": [
      "Processing Q9BY27: : 3786it [44:59,  1.35it/s]          "
     ]
    },
    {
     "name": "stdout",
     "output_type": "stream",
     "text": [
      "Error: Could not decode JSON for Q14129\n"
     ]
    },
    {
     "name": "stderr",
     "output_type": "stream",
     "text": [
      "Processing P10515: : 3868it [46:11,  1.27it/s]"
     ]
    },
    {
     "name": "stdout",
     "output_type": "stream",
     "text": [
      "Error: Could not decode JSON for Q9UK85\n"
     ]
    },
    {
     "name": "stderr",
     "output_type": "stream",
     "text": [
      "Processing P0CJ86: : 4159it [50:32,  1.27it/s]           "
     ]
    },
    {
     "name": "stdout",
     "output_type": "stream",
     "text": [
      "Error: Could not decode JSON for P0CJ85\n"
     ]
    },
    {
     "name": "stderr",
     "output_type": "stream",
     "text": [
      "Processing P0CJ87: : 4160it [50:33,  1.37it/s]"
     ]
    },
    {
     "name": "stdout",
     "output_type": "stream",
     "text": [
      "Error: Could not decode JSON for P0CJ86\n"
     ]
    },
    {
     "name": "stderr",
     "output_type": "stream",
     "text": [
      "Processing P0CJ88: : 4161it [50:34,  1.43it/s]"
     ]
    },
    {
     "name": "stdout",
     "output_type": "stream",
     "text": [
      "Error: Could not decode JSON for P0CJ87\n"
     ]
    },
    {
     "name": "stderr",
     "output_type": "stream",
     "text": [
      "Processing P0CJ89: : 4162it [50:34,  1.50it/s]"
     ]
    },
    {
     "name": "stdout",
     "output_type": "stream",
     "text": [
      "Error: Could not decode JSON for P0CJ88\n"
     ]
    },
    {
     "name": "stderr",
     "output_type": "stream",
     "text": [
      "Processing P0CJ90: : 4163it [50:35,  1.54it/s]"
     ]
    },
    {
     "name": "stdout",
     "output_type": "stream",
     "text": [
      "Error: Could not decode JSON for P0CJ89\n"
     ]
    },
    {
     "name": "stderr",
     "output_type": "stream",
     "text": [
      "Processing Q6RFH8: : 4164it [50:36,  1.51it/s]"
     ]
    },
    {
     "name": "stdout",
     "output_type": "stream",
     "text": [
      "Error: Could not decode JSON for P0CJ90\n"
     ]
    },
    {
     "name": "stderr",
     "output_type": "stream",
     "text": [
      "Processing A6NLW8: : 4165it [50:36,  1.52it/s]"
     ]
    },
    {
     "name": "stdout",
     "output_type": "stream",
     "text": [
      "Error: Could not decode JSON for Q6RFH8\n"
     ]
    },
    {
     "name": "stderr",
     "output_type": "stream",
     "text": [
      "Processing O14641: : 4168it [50:39,  1.23it/s]"
     ]
    },
    {
     "name": "stdout",
     "output_type": "stream",
     "text": [
      "Error: Could not decode JSON for P54792\n"
     ]
    },
    {
     "name": "stderr",
     "output_type": "stream",
     "text": [
      "Processing O42043: : 4492it [55:36,  1.25it/s]    "
     ]
    },
    {
     "name": "stdout",
     "output_type": "stream",
     "text": [
      "Error: Could not decode JSON for P61570\n"
     ]
    },
    {
     "name": "stderr",
     "output_type": "stream",
     "text": [
      "Processing Q9H0I2: : 4493it [55:37,  1.33it/s]"
     ]
    },
    {
     "name": "stdout",
     "output_type": "stream",
     "text": [
      "Error: Could not decode JSON for O42043\n"
     ]
    },
    {
     "name": "stderr",
     "output_type": "stream",
     "text": [
      "Processing O71037: : 4527it [56:07,  1.26it/s]         "
     ]
    },
    {
     "name": "stdout",
     "output_type": "stream",
     "text": [
      "Error: Could not decode JSON for P61565\n"
     ]
    },
    {
     "name": "stderr",
     "output_type": "stream",
     "text": [
      "Processing Q9UKH3: : 4528it [56:08,  1.32it/s]"
     ]
    },
    {
     "name": "stdout",
     "output_type": "stream",
     "text": [
      "Error: Could not decode JSON for O71037\n"
     ]
    },
    {
     "name": "stderr",
     "output_type": "stream",
     "text": [
      "Processing Q902F9: : 4529it [56:09,  1.35it/s]"
     ]
    },
    {
     "name": "stdout",
     "output_type": "stream",
     "text": [
      "Error: Could not decode JSON for Q9UKH3\n"
     ]
    },
    {
     "name": "stderr",
     "output_type": "stream",
     "text": [
      "Processing Q69384: : 4530it [56:09,  1.37it/s]"
     ]
    },
    {
     "name": "stdout",
     "output_type": "stream",
     "text": [
      "Error: Could not decode JSON for Q902F9\n"
     ]
    },
    {
     "name": "stderr",
     "output_type": "stream",
     "text": [
      "Processing Q92817: : 4532it [56:11,  1.44it/s]"
     ]
    },
    {
     "name": "stdout",
     "output_type": "stream",
     "text": [
      "Error: Could not decode JSON for Q902F8\n"
     ]
    },
    {
     "name": "stderr",
     "output_type": "stream",
     "text": [
      "Processing P0C7A2: : 4828it [1:00:41,  1.31it/s]"
     ]
    },
    {
     "name": "stdout",
     "output_type": "stream",
     "text": [
      "Error: Could not decode JSON for Q9UHL3\n"
     ]
    },
    {
     "name": "stderr",
     "output_type": "stream",
     "text": [
      "Processing P0CG43: : 4834it [1:00:46,  1.45it/s]"
     ]
    },
    {
     "name": "stdout",
     "output_type": "stream",
     "text": [
      "Error: Could not decode JSON for P0CG42\n"
     ]
    },
    {
     "name": "stderr",
     "output_type": "stream",
     "text": [
      "Processing Q9Y3B6: : 4835it [1:00:46,  1.45it/s]"
     ]
    },
    {
     "name": "stdout",
     "output_type": "stream",
     "text": [
      "Error: Could not decode JSON for P0CG43\n"
     ]
    },
    {
     "name": "stderr",
     "output_type": "stream",
     "text": [
      "Processing Q5VU36: : 4986it [1:02:50,  1.18it/s]          "
     ]
    },
    {
     "name": "stdout",
     "output_type": "stream",
     "text": [
      "Error: Could not decode JSON for Q5VYP0\n"
     ]
    },
    {
     "name": "stderr",
     "output_type": "stream",
     "text": [
      "Processing Q8IWB4: : 4987it [1:02:50,  1.30it/s]"
     ]
    },
    {
     "name": "stdout",
     "output_type": "stream",
     "text": [
      "Error: Could not decode JSON for Q5VU36\n"
     ]
    },
    {
     "name": "stderr",
     "output_type": "stream",
     "text": [
      "Processing B4DYI2: : 4989it [1:02:52,  1.37it/s]"
     ]
    },
    {
     "name": "stdout",
     "output_type": "stream",
     "text": [
      "Error: Could not decode JSON for P0DKV0\n"
     ]
    },
    {
     "name": "stderr",
     "output_type": "stream",
     "text": [
      "Processing Q8TAV0: : 4992it [1:02:54,  1.46it/s]"
     ]
    },
    {
     "name": "stdout",
     "output_type": "stream",
     "text": [
      "Error: Could not decode JSON for Q6ZUB0\n"
     ]
    },
    {
     "name": "stderr",
     "output_type": "stream",
     "text": [
      "Processing Q9NVL1: : 5015it [1:03:14,  1.25it/s]"
     ]
    },
    {
     "name": "stdout",
     "output_type": "stream",
     "text": [
      "Error: Could not decode JSON for P0C5J1\n"
     ]
    },
    {
     "name": "stderr",
     "output_type": "stream",
     "text": [
      "Processing O00358: : 5375it [1:08:31,  1.39it/s]"
     ]
    },
    {
     "name": "stdout",
     "output_type": "stream",
     "text": [
      "Error: Could not decode JSON for Q3SYB3\n"
     ]
    },
    {
     "name": "stderr",
     "output_type": "stream",
     "text": [
      "Processing A6NGY1: : 5426it [1:09:14,  1.26it/s]"
     ]
    },
    {
     "name": "stdout",
     "output_type": "stream",
     "text": [
      "Error: Could not decode JSON for Q96QU4\n"
     ]
    },
    {
     "name": "stderr",
     "output_type": "stream",
     "text": [
      "Processing A1L429: : 5598it [1:11:40,  1.42it/s]"
     ]
    },
    {
     "name": "stdout",
     "output_type": "stream",
     "text": [
      "Error: Could not decode JSON for A6NGK3\n"
     ]
    },
    {
     "name": "stderr",
     "output_type": "stream",
     "text": [
      "Processing P0CL80: : 5599it [1:11:41,  1.43it/s]"
     ]
    },
    {
     "name": "stdout",
     "output_type": "stream",
     "text": [
      "Error: Could not decode JSON for A1L429\n"
     ]
    },
    {
     "name": "stderr",
     "output_type": "stream",
     "text": [
      "Processing P0CL81: : 5600it [1:11:41,  1.49it/s]"
     ]
    },
    {
     "name": "stdout",
     "output_type": "stream",
     "text": [
      "Error: Could not decode JSON for P0CL80\n"
     ]
    },
    {
     "name": "stderr",
     "output_type": "stream",
     "text": [
      "Processing A6NDE8: : 5601it [1:11:42,  1.51it/s]"
     ]
    },
    {
     "name": "stdout",
     "output_type": "stream",
     "text": [
      "Error: Could not decode JSON for P0CL81\n"
     ]
    },
    {
     "name": "stderr",
     "output_type": "stream",
     "text": [
      "Processing P0CL82: : 5602it [1:11:43,  1.49it/s]"
     ]
    },
    {
     "name": "stdout",
     "output_type": "stream",
     "text": [
      "Error: Could not decode JSON for A6NDE8\n"
     ]
    },
    {
     "name": "stderr",
     "output_type": "stream",
     "text": [
      "Processing Q6NT46: : 5604it [1:11:44,  1.43it/s]"
     ]
    },
    {
     "name": "stdout",
     "output_type": "stream",
     "text": [
      "Error: Could not decode JSON for A6NER3\n"
     ]
    },
    {
     "name": "stderr",
     "output_type": "stream",
     "text": [
      "Processing Q13066: : 5605it [1:11:45,  1.44it/s]"
     ]
    },
    {
     "name": "stdout",
     "output_type": "stream",
     "text": [
      "Error: Could not decode JSON for Q6NT46\n"
     ]
    },
    {
     "name": "stderr",
     "output_type": "stream",
     "text": [
      "Processing Q13069: : 5607it [1:11:46,  1.42it/s]"
     ]
    },
    {
     "name": "stdout",
     "output_type": "stream",
     "text": [
      "Error: Could not decode JSON for Q4V326\n"
     ]
    },
    {
     "name": "stderr",
     "output_type": "stream",
     "text": [
      "Processing Q9UEU5: : 5610it [1:11:49,  1.28it/s]"
     ]
    },
    {
     "name": "stdout",
     "output_type": "stream",
     "text": [
      "Error: Could not decode JSON for O76087\n"
     ]
    },
    {
     "name": "stderr",
     "output_type": "stream",
     "text": [
      "Processing A8MZA4: : 5800it [1:14:34,  1.41it/s]"
     ]
    },
    {
     "name": "stdout",
     "output_type": "stream",
     "text": [
      "Error: Could not decode JSON for Q8N7Z2\n"
     ]
    },
    {
     "name": "stderr",
     "output_type": "stream",
     "text": [
      "Processing P01241: : 5815it [1:14:48,  1.17it/s]"
     ]
    },
    {
     "name": "stdout",
     "output_type": "stream",
     "text": [
      "Error: Could not decode JSON for Q14390\n"
     ]
    },
    {
     "name": "stderr",
     "output_type": "stream",
     "text": [
      "Processing A6NI86: : 6003it [1:17:29,  1.25it/s]"
     ]
    },
    {
     "name": "stdout",
     "output_type": "stream",
     "text": [
      "Error: Could not decode JSON for P0CG33\n"
     ]
    },
    {
     "name": "stderr",
     "output_type": "stream",
     "text": [
      "Processing Q8N9W4: : 6005it [1:17:30,  1.42it/s]"
     ]
    },
    {
     "name": "stdout",
     "output_type": "stream",
     "text": [
      "Error: Could not decode JSON for H0YKK7\n"
     ]
    },
    {
     "name": "stderr",
     "output_type": "stream",
     "text": [
      "Processing A6NEF3: : 6007it [1:17:32,  1.42it/s]"
     ]
    },
    {
     "name": "stdout",
     "output_type": "stream",
     "text": [
      "Error: Could not decode JSON for A6NEY3\n"
     ]
    },
    {
     "name": "stderr",
     "output_type": "stream",
     "text": [
      "Processing A6NEM1: : 6008it [1:17:32,  1.45it/s]"
     ]
    },
    {
     "name": "stdout",
     "output_type": "stream",
     "text": [
      "Error: Could not decode JSON for A6NEF3\n"
     ]
    },
    {
     "name": "stderr",
     "output_type": "stream",
     "text": [
      "Processing Q7Z5G4: : 6009it [1:17:33,  1.48it/s]"
     ]
    },
    {
     "name": "stdout",
     "output_type": "stream",
     "text": [
      "Error: Could not decode JSON for A6NEM1\n"
     ]
    },
    {
     "name": "stderr",
     "output_type": "stream",
     "text": [
      "Processing P0CJ92: : 6013it [1:17:36,  1.41it/s]"
     ]
    },
    {
     "name": "stdout",
     "output_type": "stream",
     "text": [
      "Error: Could not decode JSON for A8MQT2\n"
     ]
    },
    {
     "name": "stderr",
     "output_type": "stream",
     "text": [
      "Processing D6RF30: : 6015it [1:17:37,  1.39it/s]"
     ]
    },
    {
     "name": "stdout",
     "output_type": "stream",
     "text": [
      "Error: Could not decode JSON for A6NMD2\n"
     ]
    },
    {
     "name": "stderr",
     "output_type": "stream",
     "text": [
      "Processing H3BSY2: : 6016it [1:17:38,  1.38it/s]"
     ]
    },
    {
     "name": "stdout",
     "output_type": "stream",
     "text": [
      "Error: Could not decode JSON for D6RF30\n"
     ]
    },
    {
     "name": "stderr",
     "output_type": "stream",
     "text": [
      "Processing F8WBI6: : 6017it [1:17:39,  1.29it/s]"
     ]
    },
    {
     "name": "stdout",
     "output_type": "stream",
     "text": [
      "Error: Could not decode JSON for H3BSY2\n"
     ]
    },
    {
     "name": "stderr",
     "output_type": "stream",
     "text": [
      "Processing Q5T601: : 6074it [1:18:30,  1.39it/s]"
     ]
    },
    {
     "name": "stdout",
     "output_type": "stream",
     "text": [
      "Error: Could not decode JSON for P49019\n"
     ]
    },
    {
     "name": "stderr",
     "output_type": "stream",
     "text": [
      "Processing P08263: : 6255it [1:21:00,  1.21it/s]"
     ]
    },
    {
     "name": "stdout",
     "output_type": "stream",
     "text": [
      "Error: Could not decode JSON for P0CG29\n"
     ]
    },
    {
     "name": "stderr",
     "output_type": "stream",
     "text": [
      "Processing P52657: : 6277it [1:21:18,  1.34it/s]"
     ]
    },
    {
     "name": "stdout",
     "output_type": "stream",
     "text": [
      "Error: Could not decode JSON for Q9UNN4\n"
     ]
    },
    {
     "name": "stderr",
     "output_type": "stream",
     "text": [
      "Processing P0C5Z0: : 6353it [1:22:22,  1.29it/s]             "
     ]
    },
    {
     "name": "stdout",
     "output_type": "stream",
     "text": [
      "Error: Could not decode JSON for P0C5Y9\n"
     ]
    },
    {
     "name": "stderr",
     "output_type": "stream",
     "text": [
      "Processing P61567: : 6529it [1:24:58,  1.35it/s]"
     ]
    },
    {
     "name": "stdout",
     "output_type": "stream",
     "text": [
      "Error: Could not decode JSON for P61566\n"
     ]
    },
    {
     "name": "stderr",
     "output_type": "stream",
     "text": [
      "Processing P63128: : 6530it [1:24:58,  1.39it/s]"
     ]
    },
    {
     "name": "stdout",
     "output_type": "stream",
     "text": [
      "Error: Could not decode JSON for P61567\n"
     ]
    },
    {
     "name": "stderr",
     "output_type": "stream",
     "text": [
      "Processing Q14469: : 6531it [1:24:59,  1.41it/s]"
     ]
    },
    {
     "name": "stdout",
     "output_type": "stream",
     "text": [
      "Error: Could not decode JSON for P63128\n"
     ]
    },
    {
     "name": "stderr",
     "output_type": "stream",
     "text": [
      "Processing P31937: : 6560it [1:25:24,  1.36it/s]"
     ]
    },
    {
     "name": "stdout",
     "output_type": "stream",
     "text": [
      "Error: Could not decode JSON for Q5VZR4\n"
     ]
    },
    {
     "name": "stderr",
     "output_type": "stream",
     "text": [
      "Processing Q02535: : 6926it [1:30:53,  1.29it/s]           "
     ]
    },
    {
     "name": "stdout",
     "output_type": "stream",
     "text": [
      "Error: Could not decode JSON for Q14602\n"
     ]
    },
    {
     "name": "stderr",
     "output_type": "stream",
     "text": [
      "Processing P78318: : 6995it [1:31:53,  1.15it/s]"
     ]
    },
    {
     "name": "stdout",
     "output_type": "stream",
     "text": [
      "Error: Could not decode JSON for P0DOX2\n"
     ]
    },
    {
     "name": "stderr",
     "output_type": "stream",
     "text": [
      "Processing Q6P089: : 7013it [1:32:09,  1.16it/s]"
     ]
    },
    {
     "name": "stdout",
     "output_type": "stream",
     "text": [
      "Error: Could not decode JSON for P0DOX5\n"
     ]
    },
    {
     "name": "stderr",
     "output_type": "stream",
     "text": [
      "Processing P01871: : 7020it [1:32:14,  1.38it/s]"
     ]
    },
    {
     "name": "stdout",
     "output_type": "stream",
     "text": [
      "Error: Could not decode JSON for P01861\n"
     ]
    },
    {
     "name": "stderr",
     "output_type": "stream",
     "text": [
      "Processing P01591: : 7024it [1:32:18,  1.27it/s]"
     ]
    },
    {
     "name": "stdout",
     "output_type": "stream",
     "text": [
      "Error: Could not decode JSON for P01742\n"
     ]
    },
    {
     "name": "stderr",
     "output_type": "stream",
     "text": [
      "Processing P01602: : 7027it [1:32:20,  1.46it/s]"
     ]
    },
    {
     "name": "stdout",
     "output_type": "stream",
     "text": [
      "Error: Could not decode JSON for P01834\n"
     ]
    },
    {
     "name": "stderr",
     "output_type": "stream",
     "text": [
      "Processing P01614: : 7031it [1:32:22,  1.50it/s]"
     ]
    },
    {
     "name": "stdout",
     "output_type": "stream",
     "text": [
      "Error: Could not decode JSON for P01615\n"
     ]
    },
    {
     "name": "stderr",
     "output_type": "stream",
     "text": [
      "Processing P06315: : 7032it [1:32:23,  1.47it/s]"
     ]
    },
    {
     "name": "stdout",
     "output_type": "stream",
     "text": [
      "Error: Could not decode JSON for P01614\n"
     ]
    },
    {
     "name": "stderr",
     "output_type": "stream",
     "text": [
      "Processing Q13651: : 7072it [1:32:58,  1.32it/s]"
     ]
    },
    {
     "name": "stdout",
     "output_type": "stream",
     "text": [
      "Error: Could not decode JSON for Q8IZI9\n"
     ]
    },
    {
     "name": "stderr",
     "output_type": "stream",
     "text": [
      "Processing P01589: : 7122it [1:33:37,  1.23it/s]"
     ]
    },
    {
     "name": "stdout",
     "output_type": "stream",
     "text": [
      "Error: Could not decode JSON for Q8IU54\n"
     ]
    },
    {
     "name": "stderr",
     "output_type": "stream",
     "text": [
      "Processing P63252: : 7510it [1:39:24,  1.37it/s]           "
     ]
    },
    {
     "name": "stdout",
     "output_type": "stream",
     "text": [
      "Error: Could not decode JSON for B7U540\n"
     ]
    },
    {
     "name": "stderr",
     "output_type": "stream",
     "text": [
      "Processing Q14954: : 7665it [1:41:46,  1.23it/s]      "
     ]
    },
    {
     "name": "stdout",
     "output_type": "stream",
     "text": [
      "Error: Could not decode JSON for Q8NHK3\n"
     ]
    },
    {
     "name": "stderr",
     "output_type": "stream",
     "text": [
      "Processing P43631: : 7666it [1:41:47,  1.26it/s]"
     ]
    },
    {
     "name": "stdout",
     "output_type": "stream",
     "text": [
      "Error: Could not decode JSON for Q14954\n"
     ]
    },
    {
     "name": "stderr",
     "output_type": "stream",
     "text": [
      "Processing Q14952: : 7667it [1:41:47,  1.36it/s]"
     ]
    },
    {
     "name": "stdout",
     "output_type": "stream",
     "text": [
      "Error: Could not decode JSON for P43631\n"
     ]
    },
    {
     "name": "stderr",
     "output_type": "stream",
     "text": [
      "Processing Q9H7L2: : 7671it [1:41:50,  1.36it/s]"
     ]
    },
    {
     "name": "stdout",
     "output_type": "stream",
     "text": [
      "Error: Could not decode JSON for Q14943\n"
     ]
    },
    {
     "name": "stderr",
     "output_type": "stream",
     "text": [
      "Processing Q8N1A0: : 7803it [1:43:38,  1.17it/s]           "
     ]
    },
    {
     "name": "stdout",
     "output_type": "stream",
     "text": [
      "Error: Could not decode JSON for Q8N7Q0\n"
     ]
    },
    {
     "name": "stderr",
     "output_type": "stream",
     "text": [
      "Processing Q8N9S8: : 7813it [1:43:46,  1.35it/s]"
     ]
    },
    {
     "name": "stdout",
     "output_type": "stream",
     "text": [
      "Error: Could not decode JSON for O76015\n"
     ]
    },
    {
     "name": "stderr",
     "output_type": "stream",
     "text": [
      "Processing P60409: : 7825it [1:43:56,  1.17it/s]"
     ]
    },
    {
     "name": "stdout",
     "output_type": "stream",
     "text": [
      "Error: Could not decode JSON for P60371\n"
     ]
    },
    {
     "name": "stderr",
     "output_type": "stream",
     "text": [
      "Processing P60410: : 7826it [1:43:57,  1.22it/s]"
     ]
    },
    {
     "name": "stdout",
     "output_type": "stream",
     "text": [
      "Error: Could not decode JSON for P60409\n"
     ]
    },
    {
     "name": "stderr",
     "output_type": "stream",
     "text": [
      "Processing Q6L8G4: : 7844it [1:44:11,  1.28it/s]          "
     ]
    },
    {
     "name": "stdout",
     "output_type": "stream",
     "text": [
      "Error: Could not decode JSON for Q6L8G5\n"
     ]
    },
    {
     "name": "stderr",
     "output_type": "stream",
     "text": [
      "Processing Q6L8H1: : 7847it [1:44:13,  1.44it/s]"
     ]
    },
    {
     "name": "stdout",
     "output_type": "stream",
     "text": [
      "Error: Could not decode JSON for Q6L8H2\n"
     ]
    },
    {
     "name": "stderr",
     "output_type": "stream",
     "text": [
      "Processing Q701N2: : 7848it [1:44:13,  1.45it/s]"
     ]
    },
    {
     "name": "stdout",
     "output_type": "stream",
     "text": [
      "Error: Could not decode JSON for Q6L8H1\n"
     ]
    },
    {
     "name": "stderr",
     "output_type": "stream",
     "text": [
      "Processing Q6L8G8: : 7850it [1:44:15,  1.43it/s]"
     ]
    },
    {
     "name": "stdout",
     "output_type": "stream",
     "text": [
      "Error: Could not decode JSON for Q6L8G9\n"
     ]
    },
    {
     "name": "stderr",
     "output_type": "stream",
     "text": [
      "Processing O75690: : 7851it [1:44:16,  1.41it/s]"
     ]
    },
    {
     "name": "stdout",
     "output_type": "stream",
     "text": [
      "Error: Could not decode JSON for Q6L8G8\n"
     ]
    },
    {
     "name": "stderr",
     "output_type": "stream",
     "text": [
      "Processing Q9BYQ0: : 7856it [1:44:19,  1.33it/s]"
     ]
    },
    {
     "name": "stdout",
     "output_type": "stream",
     "text": [
      "Error: Could not decode JSON for Q9BYQ4\n"
     ]
    },
    {
     "name": "stderr",
     "output_type": "stream",
     "text": [
      "Processing Q9BYP9: : 7857it [1:44:20,  1.34it/s]"
     ]
    },
    {
     "name": "stdout",
     "output_type": "stream",
     "text": [
      "Error: Could not decode JSON for Q9BYQ0\n"
     ]
    },
    {
     "name": "stderr",
     "output_type": "stream",
     "text": [
      "Processing Q8N6L1: : 7858it [1:44:21,  1.36it/s]"
     ]
    },
    {
     "name": "stdout",
     "output_type": "stream",
     "text": [
      "Error: Could not decode JSON for Q9BYP9\n"
     ]
    },
    {
     "name": "stderr",
     "output_type": "stream",
     "text": [
      "Processing Q5T751: : 8003it [1:46:31,  1.22it/s]           "
     ]
    },
    {
     "name": "stdout",
     "output_type": "stream",
     "text": [
      "Error: Could not decode JSON for Q5T7P2\n"
     ]
    },
    {
     "name": "stderr",
     "output_type": "stream",
     "text": [
      "Processing Q5TA79: : 8006it [1:46:33,  1.40it/s]"
     ]
    },
    {
     "name": "stdout",
     "output_type": "stream",
     "text": [
      "Error: Could not decode JSON for Q5T754\n"
     ]
    },
    {
     "name": "stderr",
     "output_type": "stream",
     "text": [
      "Processing Q6ZST4: : 8020it [1:46:44,  1.29it/s]"
     ]
    },
    {
     "name": "stdout",
     "output_type": "stream",
     "text": [
      "Error: Could not decode JSON for Q8WX39\n"
     ]
    },
    {
     "name": "stderr",
     "output_type": "stream",
     "text": [
      "Processing Q6DKI2: : 8070it [1:47:30,  1.28it/s]"
     ]
    },
    {
     "name": "stdout",
     "output_type": "stream",
     "text": [
      "Error: Could not decode JSON for Q3B8N2\n"
     ]
    },
    {
     "name": "stderr",
     "output_type": "stream",
     "text": [
      "Processing O95970: : 8071it [1:47:30,  1.31it/s]"
     ]
    },
    {
     "name": "stdout",
     "output_type": "stream",
     "text": [
      "Error: Could not decode JSON for Q6DKI2\n"
     ]
    },
    {
     "name": "stderr",
     "output_type": "stream",
     "text": [
      "Processing Q8N6C8: : 8099it [1:47:53,  1.28it/s]"
     ]
    },
    {
     "name": "stdout",
     "output_type": "stream",
     "text": [
      "Error: Could not decode JSON for Q8N149\n"
     ]
    },
    {
     "name": "stderr",
     "output_type": "stream",
     "text": [
      "Processing Q9H9Z2: : 8118it [1:48:11,  1.19it/s]"
     ]
    },
    {
     "name": "stdout",
     "output_type": "stream",
     "text": [
      "Error: Could not decode JSON for P0CW20\n"
     ]
    },
    {
     "name": "stderr",
     "output_type": "stream",
     "text": [
      "Processing P61968: : 8171it [1:48:57,  1.29it/s]"
     ]
    },
    {
     "name": "stdout",
     "output_type": "stream",
     "text": [
      "Error: Could not decode JSON for Q8TAP4\n"
     ]
    },
    {
     "name": "stderr",
     "output_type": "stream",
     "text": [
      "Processing A8MRT5: : 8192it [1:49:14,  1.47it/s]"
     ]
    },
    {
     "name": "stdout",
     "output_type": "stream",
     "text": [
      "Error: Could not decode JSON for A8MV72\n"
     ]
    },
    {
     "name": "stderr",
     "output_type": "stream",
     "text": [
      "Processing Q5TH74: : 8226it [1:49:40,  1.34it/s]"
     ]
    },
    {
     "name": "stdout",
     "output_type": "stream",
     "text": [
      "Error: Could not decode JSON for Q6ZU96\n"
     ]
    },
    {
     "name": "stderr",
     "output_type": "stream",
     "text": [
      "Processing Q7Z4W2: : 8465it [1:53:03,  1.14it/s]"
     ]
    },
    {
     "name": "stdout",
     "output_type": "stream",
     "text": [
      "Error: Could not decode JSON for Q6UWQ5\n"
     ]
    },
    {
     "name": "stderr",
     "output_type": "stream",
     "text": [
      "Processing Q96KX0: : 8466it [1:53:04,  1.12it/s]"
     ]
    },
    {
     "name": "stdout",
     "output_type": "stream",
     "text": [
      "Error: Could not decode JSON for Q7Z4W2\n"
     ]
    },
    {
     "name": "stderr",
     "output_type": "stream",
     "text": [
      "Processing Q02750: : 8772it [1:57:52,  1.30it/s]"
     ]
    },
    {
     "name": "stdout",
     "output_type": "stream",
     "text": [
      "Error: Could not decode JSON for A8K0S8\n"
     ]
    },
    {
     "name": "stderr",
     "output_type": "stream",
     "text": [
      "Processing Q9UBP6: : 8806it [1:58:24,  1.22it/s]"
     ]
    },
    {
     "name": "stdout",
     "output_type": "stream",
     "text": [
      "Error: Could not decode JSON for P0C7V9\n"
     ]
    },
    {
     "name": "stderr",
     "output_type": "stream",
     "text": [
      "Processing P04733: : 9256it [2:04:55,  1.43it/s]"
     ]
    },
    {
     "name": "stdout",
     "output_type": "stream",
     "text": [
      "Error: Could not decode JSON for P04732\n"
     ]
    },
    {
     "name": "stderr",
     "output_type": "stream",
     "text": [
      "Processing Q9UKX2: : 9394it [2:07:02,  1.02s/it]"
     ]
    },
    {
     "name": "stdout",
     "output_type": "stream",
     "text": [
      "Error: Could not decode JSON for Q9H6N6\n"
     ]
    },
    {
     "name": "stderr",
     "output_type": "stream",
     "text": [
      "Processing Q8N660: : 9564it [2:09:46,  1.20it/s]"
     ]
    },
    {
     "name": "stdout",
     "output_type": "stream",
     "text": [
      "Error: Could not decode JSON for Q5TI25\n"
     ]
    },
    {
     "name": "stderr",
     "output_type": "stream",
     "text": [
      "Processing A0A087WUL8: : 9565it [2:09:47,  1.24it/s]"
     ]
    },
    {
     "name": "stdout",
     "output_type": "stream",
     "text": [
      "Error: Could not decode JSON for Q8N660\n"
     ]
    },
    {
     "name": "stderr",
     "output_type": "stream",
     "text": [
      "Processing B4DH59: : 9566it [2:09:48,  1.29it/s]    "
     ]
    },
    {
     "name": "stdout",
     "output_type": "stream",
     "text": [
      "Error: Could not decode JSON for A0A087WUL8\n"
     ]
    },
    {
     "name": "stderr",
     "output_type": "stream",
     "text": [
      "Processing Q9H094: : 9567it [2:09:49,  1.35it/s]"
     ]
    },
    {
     "name": "stdout",
     "output_type": "stream",
     "text": [
      "Error: Could not decode JSON for B4DH59\n"
     ]
    },
    {
     "name": "stderr",
     "output_type": "stream",
     "text": [
      "Processing Q5VWK0: : 9569it [2:09:50,  1.35it/s]"
     ]
    },
    {
     "name": "stdout",
     "output_type": "stream",
     "text": [
      "Error: Could not decode JSON for Q96M43\n"
     ]
    },
    {
     "name": "stderr",
     "output_type": "stream",
     "text": [
      "Processing Q3BBV2: : 9571it [2:09:51,  1.40it/s]"
     ]
    },
    {
     "name": "stdout",
     "output_type": "stream",
     "text": [
      "Error: Could not decode JSON for P0C2Y1\n"
     ]
    },
    {
     "name": "stderr",
     "output_type": "stream",
     "text": [
      "Processing O76036: : 9602it [2:10:23,  1.07s/it]"
     ]
    },
    {
     "name": "stdout",
     "output_type": "stream",
     "text": [
      "Error: Could not decode JSON for Q9H4R4\n"
     ]
    },
    {
     "name": "stderr",
     "output_type": "stream",
     "text": [
      "Processing Q6VVB1: : 9785it [2:13:28,  1.13it/s]"
     ]
    },
    {
     "name": "stdout",
     "output_type": "stream",
     "text": [
      "Error: Could not decode JSON for Q02577\n"
     ]
    },
    {
     "name": "stderr",
     "output_type": "stream",
     "text": [
      "Processing F8WFD2: : 9980it [2:16:24,  1.41it/s]"
     ]
    },
    {
     "name": "stdout",
     "output_type": "stream",
     "text": [
      "Error: Could not decode JSON for E9PIF3\n"
     ]
    },
    {
     "name": "stderr",
     "output_type": "stream",
     "text": [
      "Processing E9PJI5: : 9981it [2:16:24,  1.45it/s]"
     ]
    },
    {
     "name": "stdout",
     "output_type": "stream",
     "text": [
      "Error: Could not decode JSON for F8WFD2\n"
     ]
    },
    {
     "name": "stderr",
     "output_type": "stream",
     "text": [
      "Processing P0DM63: : 9982it [2:16:25,  1.41it/s]"
     ]
    },
    {
     "name": "stdout",
     "output_type": "stream",
     "text": [
      "Error: Could not decode JSON for E9PJI5\n"
     ]
    },
    {
     "name": "stderr",
     "output_type": "stream",
     "text": [
      "Processing E5RHQ5: : 9983it [2:16:26,  1.45it/s]"
     ]
    },
    {
     "name": "stdout",
     "output_type": "stream",
     "text": [
      "Error: Could not decode JSON for P0DM63\n"
     ]
    },
    {
     "name": "stderr",
     "output_type": "stream",
     "text": [
      "Processing O75200: : 9986it [2:16:28,  1.32it/s]"
     ]
    },
    {
     "name": "stdout",
     "output_type": "stream",
     "text": [
      "Error: Could not decode JSON for C9JG80\n"
     ]
    },
    {
     "name": "stderr",
     "output_type": "stream",
     "text": [
      "Processing Q63ZY6: : 10079it [2:17:54,  1.16it/s] "
     ]
    },
    {
     "name": "stdout",
     "output_type": "stream",
     "text": [
      "Error: Could not decode JSON for Q3KNT7\n"
     ]
    },
    {
     "name": "stderr",
     "output_type": "stream",
     "text": [
      "Processing P0CE71: : 10218it [2:19:58,  1.33it/s]      "
     ]
    },
    {
     "name": "stdout",
     "output_type": "stream",
     "text": [
      "Error: Could not decode JSON for P0CE72\n"
     ]
    },
    {
     "name": "stderr",
     "output_type": "stream",
     "text": [
      "Processing Q9BZK8: : 10219it [2:19:59,  1.39it/s]"
     ]
    },
    {
     "name": "stdout",
     "output_type": "stream",
     "text": [
      "Error: Could not decode JSON for P0CE71\n"
     ]
    },
    {
     "name": "stderr",
     "output_type": "stream",
     "text": [
      "Processing Q8NGN6: : 10305it [2:21:14,  1.36it/s]           "
     ]
    },
    {
     "name": "stdout",
     "output_type": "stream",
     "text": [
      "Error: Could not decode JSON for Q8NGN3\n"
     ]
    },
    {
     "name": "stderr",
     "output_type": "stream",
     "text": [
      "Processing Q8NGN5: : 10306it [2:21:15,  1.40it/s]"
     ]
    },
    {
     "name": "stdout",
     "output_type": "stream",
     "text": [
      "Error: Could not decode JSON for Q8NGN6\n"
     ]
    },
    {
     "name": "stderr",
     "output_type": "stream",
     "text": [
      "Processing O60404: : 10308it [2:21:17,  1.34it/s]"
     ]
    },
    {
     "name": "stdout",
     "output_type": "stream",
     "text": [
      "Error: Could not decode JSON for Q8NGN4\n"
     ]
    },
    {
     "name": "stderr",
     "output_type": "stream",
     "text": [
      "Processing Q8NGA6: : 10310it [2:21:18,  1.34it/s]"
     ]
    },
    {
     "name": "stdout",
     "output_type": "stream",
     "text": [
      "Error: Could not decode JSON for Q8NGA5\n"
     ]
    },
    {
     "name": "stderr",
     "output_type": "stream",
     "text": [
      "Processing Q8NGT9: : 10349it [2:21:47,  1.40it/s]"
     ]
    },
    {
     "name": "stdout",
     "output_type": "stream",
     "text": [
      "Error: Could not decode JSON for Q8NGQ3\n"
     ]
    },
    {
     "name": "stderr",
     "output_type": "stream",
     "text": [
      "Processing Q96R48: : 10353it [2:21:50,  1.35it/s]"
     ]
    },
    {
     "name": "stdout",
     "output_type": "stream",
     "text": [
      "Error: Could not decode JSON for O95047\n"
     ]
    },
    {
     "name": "stderr",
     "output_type": "stream",
     "text": [
      "Processing Q8NG83: : 10373it [2:22:06,  1.47it/s]"
     ]
    },
    {
     "name": "stdout",
     "output_type": "stream",
     "text": [
      "Error: Could not decode JSON for Q96R28\n"
     ]
    },
    {
     "name": "stderr",
     "output_type": "stream",
     "text": [
      "Processing Q8NH04: : 10379it [2:22:10,  1.42it/s]"
     ]
    },
    {
     "name": "stdout",
     "output_type": "stream",
     "text": [
      "Error: Could not decode JSON for Q6IF00\n"
     ]
    },
    {
     "name": "stderr",
     "output_type": "stream",
     "text": [
      "Processing Q8NH02: : 10380it [2:22:11,  1.44it/s]"
     ]
    },
    {
     "name": "stdout",
     "output_type": "stream",
     "text": [
      "Error: Could not decode JSON for Q8NH04\n"
     ]
    },
    {
     "name": "stderr",
     "output_type": "stream",
     "text": [
      "Processing Q8NG76: : 10381it [2:22:11,  1.48it/s]"
     ]
    },
    {
     "name": "stdout",
     "output_type": "stream",
     "text": [
      "Error: Could not decode JSON for Q8NH02\n"
     ]
    },
    {
     "name": "stderr",
     "output_type": "stream",
     "text": [
      "Processing Q8NGX2: : 10382it [2:22:12,  1.43it/s]"
     ]
    },
    {
     "name": "stdout",
     "output_type": "stream",
     "text": [
      "Error: Could not decode JSON for Q8NG76\n"
     ]
    },
    {
     "name": "stderr",
     "output_type": "stream",
     "text": [
      "Processing Q6IEZ7: : 10383it [2:22:13,  1.42it/s]"
     ]
    },
    {
     "name": "stdout",
     "output_type": "stream",
     "text": [
      "Error: Could not decode JSON for Q8NGX2\n"
     ]
    },
    {
     "name": "stderr",
     "output_type": "stream",
     "text": [
      "Processing A6NH00: : 10386it [2:22:15,  1.39it/s]"
     ]
    },
    {
     "name": "stdout",
     "output_type": "stream",
     "text": [
      "Error: Could not decode JSON for P0C7T2\n"
     ]
    },
    {
     "name": "stderr",
     "output_type": "stream",
     "text": [
      "Processing Q96R30: : 10388it [2:22:16,  1.39it/s]"
     ]
    },
    {
     "name": "stdout",
     "output_type": "stream",
     "text": [
      "Error: Could not decode JSON for Q8NHB1\n"
     ]
    },
    {
     "name": "stderr",
     "output_type": "stream",
     "text": [
      "Processing Q8NGL6: : 10396it [2:22:23,  1.34it/s]"
     ]
    },
    {
     "name": "stdout",
     "output_type": "stream",
     "text": [
      "Error: Could not decode JSON for P47888\n"
     ]
    },
    {
     "name": "stderr",
     "output_type": "stream",
     "text": [
      "Processing O95013: : 10413it [2:22:36,  1.38it/s]"
     ]
    },
    {
     "name": "stdout",
     "output_type": "stream",
     "text": [
      "Error: Could not decode JSON for Q8NGA8\n"
     ]
    },
    {
     "name": "stderr",
     "output_type": "stream",
     "text": [
      "Processing Q8NH21: : 10416it [2:22:38,  1.47it/s]"
     ]
    },
    {
     "name": "stdout",
     "output_type": "stream",
     "text": [
      "Error: Could not decode JSON for Q96R69\n"
     ]
    },
    {
     "name": "stderr",
     "output_type": "stream",
     "text": [
      "Processing Q8NH42: : 10417it [2:22:39,  1.45it/s]"
     ]
    },
    {
     "name": "stdout",
     "output_type": "stream",
     "text": [
      "Error: Could not decode JSON for Q8NH21\n"
     ]
    },
    {
     "name": "stderr",
     "output_type": "stream",
     "text": [
      "Processing Q8N0Y3: : 10420it [2:22:41,  1.37it/s]"
     ]
    },
    {
     "name": "stdout",
     "output_type": "stream",
     "text": [
      "Error: Could not decode JSON for Q8NGD1\n"
     ]
    },
    {
     "name": "stderr",
     "output_type": "stream",
     "text": [
      "Processing Q8NGJ6: : 10422it [2:22:43,  1.14it/s]"
     ]
    },
    {
     "name": "stdout",
     "output_type": "stream",
     "text": [
      "Error: Could not decode JSON for Q8NH73\n"
     ]
    },
    {
     "name": "stderr",
     "output_type": "stream",
     "text": [
      "Processing Q9H340: : 10427it [2:22:47,  1.28it/s]"
     ]
    },
    {
     "name": "stdout",
     "output_type": "stream",
     "text": [
      "Error: Could not decode JSON for Q9H339\n"
     ]
    },
    {
     "name": "stderr",
     "output_type": "stream",
     "text": [
      "Processing Q6IFG1: : 10442it [2:22:59,  1.20it/s]    "
     ]
    },
    {
     "name": "stdout",
     "output_type": "stream",
     "text": [
      "Error: Could not decode JSON for Q96RD3\n"
     ]
    },
    {
     "name": "stderr",
     "output_type": "stream",
     "text": [
      "Processing Q8NGK6: : 10443it [2:22:59,  1.25it/s]"
     ]
    },
    {
     "name": "stdout",
     "output_type": "stream",
     "text": [
      "Error: Could not decode JSON for Q6IFG1\n"
     ]
    },
    {
     "name": "stderr",
     "output_type": "stream",
     "text": [
      "Processing Q8NH67: : 10444it [2:23:00,  1.26it/s]"
     ]
    },
    {
     "name": "stdout",
     "output_type": "stream",
     "text": [
      "Error: Could not decode JSON for Q8NGK6\n"
     ]
    },
    {
     "name": "stderr",
     "output_type": "stream",
     "text": [
      "Processing Q8NGH5: : 10451it [2:23:05,  1.36it/s]"
     ]
    },
    {
     "name": "stdout",
     "output_type": "stream",
     "text": [
      "Error: Could not decode JSON for Q6IF63\n"
     ]
    },
    {
     "name": "stderr",
     "output_type": "stream",
     "text": [
      "Processing Q9Y5H4: : 10854it [2:29:07,  1.42it/s]      "
     ]
    },
    {
     "name": "stdout",
     "output_type": "stream",
     "text": [
      "Error: Could not decode JSON for Q9Y5E1\n"
     ]
    },
    {
     "name": "stderr",
     "output_type": "stream",
     "text": [
      "Processing Q9UPQ7: : 11004it [2:31:32,  1.07it/s]           "
     ]
    },
    {
     "name": "stdout",
     "output_type": "stream",
     "text": [
      "Error: Could not decode JSON for A8MUH7\n"
     ]
    },
    {
     "name": "stderr",
     "output_type": "stream",
     "text": [
      "Processing P0DJD7: : 11075it [2:32:38,  1.09it/s]          "
     ]
    },
    {
     "name": "stdout",
     "output_type": "stream",
     "text": [
      "Error: Could not decode JSON for P0DJD8\n"
     ]
    },
    {
     "name": "stderr",
     "output_type": "stream",
     "text": [
      "Processing P0DJD9: : 11076it [2:32:38,  1.17it/s]"
     ]
    },
    {
     "name": "stdout",
     "output_type": "stream",
     "text": [
      "Error: Could not decode JSON for P0DJD7\n"
     ]
    },
    {
     "name": "stderr",
     "output_type": "stream",
     "text": [
      "Processing P18669: : 11077it [2:32:39,  1.24it/s]"
     ]
    },
    {
     "name": "stdout",
     "output_type": "stream",
     "text": [
      "Error: Could not decode JSON for P0DJD9\n"
     ]
    },
    {
     "name": "stderr",
     "output_type": "stream",
     "text": [
      "Processing O00625: : 11250it [2:35:24,  1.19it/s]"
     ]
    },
    {
     "name": "stdout",
     "output_type": "stream",
     "text": [
      "Error: Could not decode JSON for A2A3N6\n"
     ]
    },
    {
     "name": "stderr",
     "output_type": "stream",
     "text": [
      "Processing Q9HBL7: : 11406it [2:37:59,  1.22it/s]"
     ]
    },
    {
     "name": "stdout",
     "output_type": "stream",
     "text": [
      "Error: Could not decode JSON for Q02325\n"
     ]
    },
    {
     "name": "stderr",
     "output_type": "stream",
     "text": [
      "Processing A4D2B8: : 11457it [2:38:45,  1.20it/s]"
     ]
    },
    {
     "name": "stdout",
     "output_type": "stream",
     "text": [
      "Error: Could not decode JSON for Q68D20\n"
     ]
    },
    {
     "name": "stderr",
     "output_type": "stream",
     "text": [
      "Processing P62875: : 11536it [2:39:56,  1.26it/s]           "
     ]
    },
    {
     "name": "stdout",
     "output_type": "stream",
     "text": [
      "Error: Could not decode JSON for Q9H1A7\n"
     ]
    },
    {
     "name": "stderr",
     "output_type": "stream",
     "text": [
      "Processing A8CG34: : 11553it [2:40:12,  1.02it/s]         "
     ]
    },
    {
     "name": "stdout",
     "output_type": "stream",
     "text": [
      "Error: Could not decode JSON for A6NF01\n"
     ]
    },
    {
     "name": "stderr",
     "output_type": "stream",
     "text": [
      "Processing A5A3E0: : 11579it [2:40:33,  1.33it/s]"
     ]
    },
    {
     "name": "stdout",
     "output_type": "stream",
     "text": [
      "Error: Could not decode JSON for B2RU33\n"
     ]
    },
    {
     "name": "stderr",
     "output_type": "stream",
     "text": [
      "Processing Q562R6: : 11584it [2:40:38,  1.14it/s]"
     ]
    },
    {
     "name": "stdout",
     "output_type": "stream",
     "text": [
      "Error: Could not decode JSON for A6NI47\n"
     ]
    },
    {
     "name": "stderr",
     "output_type": "stream",
     "text": [
      "Processing F5H284: : 11618it [2:41:08,  1.20it/s]    "
     ]
    },
    {
     "name": "stdout",
     "output_type": "stream",
     "text": [
      "Error: Could not decode JSON for A0A0B4J2A2\n"
     ]
    },
    {
     "name": "stderr",
     "output_type": "stream",
     "text": [
      "Processing P0DN26: : 11620it [2:41:09,  1.35it/s]    "
     ]
    },
    {
     "name": "stdout",
     "output_type": "stream",
     "text": [
      "Error: Could not decode JSON for A0A075B759\n"
     ]
    },
    {
     "name": "stderr",
     "output_type": "stream",
     "text": [
      "Processing P0DN37: : 11621it [2:41:10,  1.40it/s]"
     ]
    },
    {
     "name": "stdout",
     "output_type": "stream",
     "text": [
      "Error: Could not decode JSON for P0DN26\n"
     ]
    },
    {
     "name": "stderr",
     "output_type": "stream",
     "text": [
      "Processing Q5VWM6: : 11724it [2:42:43,  1.23it/s]"
     ]
    },
    {
     "name": "stdout",
     "output_type": "stream",
     "text": [
      "Error: Could not decode JSON for O60813\n"
     ]
    },
    {
     "name": "stderr",
     "output_type": "stream",
     "text": [
      "Processing Q5SWL7: : 11725it [2:42:44,  1.26it/s]"
     ]
    },
    {
     "name": "stdout",
     "output_type": "stream",
     "text": [
      "Error: Could not decode JSON for Q5VWM6\n"
     ]
    },
    {
     "name": "stderr",
     "output_type": "stream",
     "text": [
      "Processing Q5VWM3: : 11728it [2:42:46,  1.32it/s]"
     ]
    },
    {
     "name": "stdout",
     "output_type": "stream",
     "text": [
      "Error: Could not decode JSON for Q5VTA0\n"
     ]
    },
    {
     "name": "stderr",
     "output_type": "stream",
     "text": [
      "Processing Q5SWL8: : 11729it [2:42:47,  1.37it/s]"
     ]
    },
    {
     "name": "stdout",
     "output_type": "stream",
     "text": [
      "Error: Could not decode JSON for Q5VWM3\n"
     ]
    },
    {
     "name": "stderr",
     "output_type": "stream",
     "text": [
      "Processing O60811: : 11730it [2:42:48,  1.37it/s]"
     ]
    },
    {
     "name": "stdout",
     "output_type": "stream",
     "text": [
      "Error: Could not decode JSON for Q5SWL8\n"
     ]
    },
    {
     "name": "stderr",
     "output_type": "stream",
     "text": [
      "Processing H0Y7S4: : 11734it [2:42:51,  1.39it/s]"
     ]
    },
    {
     "name": "stdout",
     "output_type": "stream",
     "text": [
      "Error: Could not decode JSON for A6NGN4\n"
     ]
    },
    {
     "name": "stderr",
     "output_type": "stream",
     "text": [
      "Processing A3QJZ7: : 11735it [2:42:51,  1.38it/s]"
     ]
    },
    {
     "name": "stdout",
     "output_type": "stream",
     "text": [
      "Error: Could not decode JSON for H0Y7S4\n"
     ]
    },
    {
     "name": "stderr",
     "output_type": "stream",
     "text": [
      "Processing O60810: : 11736it [2:42:52,  1.39it/s]"
     ]
    },
    {
     "name": "stdout",
     "output_type": "stream",
     "text": [
      "Error: Could not decode JSON for A3QJZ7\n"
     ]
    },
    {
     "name": "stderr",
     "output_type": "stream",
     "text": [
      "Processing Q96B36: : 11741it [2:42:56,  1.40it/s]"
     ]
    },
    {
     "name": "stdout",
     "output_type": "stream",
     "text": [
      "Error: Could not decode JSON for Q5VWM4\n"
     ]
    },
    {
     "name": "stderr",
     "output_type": "stream",
     "text": [
      "Processing Q04118: : 11744it [2:42:58,  1.27it/s]"
     ]
    },
    {
     "name": "stdout",
     "output_type": "stream",
     "text": [
      "Error: Could not decode JSON for P02812\n"
     ]
    },
    {
     "name": "stderr",
     "output_type": "stream",
     "text": [
      "Processing P86481: : 11867it [2:44:49,  1.26it/s]"
     ]
    },
    {
     "name": "stdout",
     "output_type": "stream",
     "text": [
      "Error: Could not decode JSON for P86496\n"
     ]
    },
    {
     "name": "stderr",
     "output_type": "stream",
     "text": [
      "Processing P86479: : 11868it [2:44:50,  1.29it/s]"
     ]
    },
    {
     "name": "stdout",
     "output_type": "stream",
     "text": [
      "Error: Could not decode JSON for P86481\n"
     ]
    },
    {
     "name": "stderr",
     "output_type": "stream",
     "text": [
      "Processing P86480: : 11869it [2:44:51,  1.35it/s]"
     ]
    },
    {
     "name": "stdout",
     "output_type": "stream",
     "text": [
      "Error: Could not decode JSON for P86479\n"
     ]
    },
    {
     "name": "stderr",
     "output_type": "stream",
     "text": [
      "Processing P86478: : 11870it [2:44:51,  1.36it/s]"
     ]
    },
    {
     "name": "stdout",
     "output_type": "stream",
     "text": [
      "Error: Could not decode JSON for P86480\n"
     ]
    },
    {
     "name": "stderr",
     "output_type": "stream",
     "text": [
      "Processing A6NEV1: : 11871it [2:44:52,  1.42it/s]"
     ]
    },
    {
     "name": "stdout",
     "output_type": "stream",
     "text": [
      "Error: Could not decode JSON for P86478\n"
     ]
    },
    {
     "name": "stderr",
     "output_type": "stream",
     "text": [
      "Processing Q15238: : 11928it [2:45:44,  1.20it/s]"
     ]
    },
    {
     "name": "stdout",
     "output_type": "stream",
     "text": [
      "Error: Could not decode JSON for Q00888\n"
     ]
    },
    {
     "name": "stderr",
     "output_type": "stream",
     "text": [
      "Processing Q13046: : 11930it [2:45:46,  1.31it/s]"
     ]
    },
    {
     "name": "stdout",
     "output_type": "stream",
     "text": [
      "Error: Could not decode JSON for Q00889\n"
     ]
    },
    {
     "name": "stderr",
     "output_type": "stream",
     "text": [
      "Processing P48651: : 11999it [2:46:49,  1.35it/s]"
     ]
    },
    {
     "name": "stdout",
     "output_type": "stream",
     "text": [
      "Error: Could not decode JSON for Q6ISU1\n"
     ]
    },
    {
     "name": "stderr",
     "output_type": "stream",
     "text": [
      "Processing Q8TE99: : 12108it [2:48:31,  1.08it/s]"
     ]
    },
    {
     "name": "stdout",
     "output_type": "stream",
     "text": [
      "Error: Could not decode JSON for Q8NFP0\n"
     ]
    },
    {
     "name": "stderr",
     "output_type": "stream",
     "text": [
      "Processing P61019: : 12169it [2:49:28,  1.30it/s]"
     ]
    },
    {
     "name": "stdout",
     "output_type": "stream",
     "text": [
      "Error: Could not decode JSON for Q92928\n"
     ]
    },
    {
     "name": "stderr",
     "output_type": "stream",
     "text": [
      "Processing Q53S08: : 12218it [2:50:10,  1.22it/s]"
     ]
    },
    {
     "name": "stdout",
     "output_type": "stream",
     "text": [
      "Error: Could not decode JSON for Q9H0N0\n"
     ]
    },
    {
     "name": "stderr",
     "output_type": "stream",
     "text": [
      "Processing P04049: : 12273it [2:51:03,  1.24it/s]"
     ]
    },
    {
     "name": "stdout",
     "output_type": "stream",
     "text": [
      "Error: Could not decode JSON for Q5VY80\n"
     ]
    },
    {
     "name": "stderr",
     "output_type": "stream",
     "text": [
      "Processing P0C7P1: : 12446it [2:53:56,  1.24it/s]           "
     ]
    },
    {
     "name": "stdout",
     "output_type": "stream",
     "text": [
      "Error: Could not decode JSON for P0DJD4\n"
     ]
    },
    {
     "name": "stderr",
     "output_type": "stream",
     "text": [
      "Processing A6NEQ0: : 12447it [2:53:57,  1.29it/s]"
     ]
    },
    {
     "name": "stdout",
     "output_type": "stream",
     "text": [
      "Error: Could not decode JSON for P0C7P1\n"
     ]
    },
    {
     "name": "stderr",
     "output_type": "stream",
     "text": [
      "Processing Q15415: : 12448it [2:53:57,  1.32it/s]"
     ]
    },
    {
     "name": "stdout",
     "output_type": "stream",
     "text": [
      "Error: Could not decode JSON for A6NEQ0\n"
     ]
    },
    {
     "name": "stderr",
     "output_type": "stream",
     "text": [
      "Processing Q93062: : 12454it [2:54:02,  1.26it/s]"
     ]
    },
    {
     "name": "stdout",
     "output_type": "stream",
     "text": [
      "Error: Could not decode JSON for Q9UBG7\n"
     ]
    },
    {
     "name": "stderr",
     "output_type": "stream",
     "text": [
      "Processing O75679: : 12551it [2:55:33,  1.25it/s]"
     ]
    },
    {
     "name": "stdout",
     "output_type": "stream",
     "text": [
      "Error: Could not decode JSON for O75677\n"
     ]
    },
    {
     "name": "stderr",
     "output_type": "stream",
     "text": [
      "Processing A6NLU0: : 12552it [2:55:34,  1.27it/s]"
     ]
    },
    {
     "name": "stdout",
     "output_type": "stream",
     "text": [
      "Error: Could not decode JSON for O75679\n"
     ]
    },
    {
     "name": "stderr",
     "output_type": "stream",
     "text": [
      "Processing Q6ZWI9: : 12554it [2:55:36,  1.28it/s]"
     ]
    },
    {
     "name": "stdout",
     "output_type": "stream",
     "text": [
      "Error: Could not decode JSON for F8VTS6\n"
     ]
    },
    {
     "name": "stderr",
     "output_type": "stream",
     "text": [
      "Processing Q15382: : 12622it [2:56:39,  1.01s/it]"
     ]
    },
    {
     "name": "stdout",
     "output_type": "stream",
     "text": [
      "Error: Could not decode JSON for Q02161\n"
     ]
    },
    {
     "name": "stderr",
     "output_type": "stream",
     "text": [
      "Processing O95786: : 12659it [2:57:12,  1.09s/it]"
     ]
    },
    {
     "name": "stdout",
     "output_type": "stream",
     "text": [
      "Error: Could not decode JSON for Q13278\n"
     ]
    },
    {
     "name": "stderr",
     "output_type": "stream",
     "text": [
      "Processing A6NJZ7: : 12667it [2:57:21,  1.14it/s]"
     ]
    },
    {
     "name": "stdout",
     "output_type": "stream",
     "text": [
      "Error: Could not decode JSON for A6NNM3\n"
     ]
    },
    {
     "name": "stderr",
     "output_type": "stream",
     "text": [
      "Processing Q9ULI2: : 12668it [2:57:21,  1.22it/s]"
     ]
    },
    {
     "name": "stdout",
     "output_type": "stream",
     "text": [
      "Error: Could not decode JSON for A6NJZ7\n"
     ]
    },
    {
     "name": "stderr",
     "output_type": "stream",
     "text": [
      "Processing Q9NVW2: : 12732it [2:58:19,  1.18it/s]"
     ]
    },
    {
     "name": "stdout",
     "output_type": "stream",
     "text": [
      "Error: Could not decode JSON for Q8IZP6\n"
     ]
    },
    {
     "name": "stderr",
     "output_type": "stream",
     "text": [
      "Processing B2RC85: : 13000it [3:02:22,  1.24it/s]"
     ]
    },
    {
     "name": "stdout",
     "output_type": "stream",
     "text": [
      "Error: Could not decode JSON for P0C881\n"
     ]
    },
    {
     "name": "stderr",
     "output_type": "stream",
     "text": [
      "Processing Q9BQQ7: : 13026it [3:02:48,  1.08it/s]"
     ]
    },
    {
     "name": "stdout",
     "output_type": "stream",
     "text": [
      "Error: Could not decode JSON for Q5QGT7\n"
     ]
    },
    {
     "name": "stderr",
     "output_type": "stream",
     "text": [
      "Processing Q9H446: : 13046it [3:03:07,  1.14it/s]"
     ]
    },
    {
     "name": "stdout",
     "output_type": "stream",
     "text": [
      "Error: Could not decode JSON for A8MWD9\n"
     ]
    },
    {
     "name": "stderr",
     "output_type": "stream",
     "text": [
      "Processing P05109: : 13074it [3:03:33,  1.29it/s]"
     ]
    },
    {
     "name": "stdout",
     "output_type": "stream",
     "text": [
      "Error: Could not decode JSON for Q86SG5\n"
     ]
    },
    {
     "name": "stderr",
     "output_type": "stream",
     "text": [
      "Processing Q86VE9: : 13380it [3:08:33,  1.29it/s]"
     ]
    },
    {
     "name": "stdout",
     "output_type": "stream",
     "text": [
      "Error: Could not decode JSON for A6NH21\n"
     ]
    },
    {
     "name": "stderr",
     "output_type": "stream",
     "text": [
      "Processing P49279: : 13677it [3:13:15,  1.22it/s]    "
     ]
    },
    {
     "name": "stdout",
     "output_type": "stream",
     "text": [
      "Error: Could not decode JSON for Q0GE19\n"
     ]
    },
    {
     "name": "stderr",
     "output_type": "stream",
     "text": [
      "Processing P0CK96: : 13844it [3:15:41,  1.16it/s]"
     ]
    },
    {
     "name": "stdout",
     "output_type": "stream",
     "text": [
      "Error: Could not decode JSON for P0CK97\n"
     ]
    },
    {
     "name": "stderr",
     "output_type": "stream",
     "text": [
      "Processing P60880: : 14088it [3:19:33,  1.24it/s]"
     ]
    },
    {
     "name": "stdout",
     "output_type": "stream",
     "text": [
      "Error: Could not decode JSON for Q3KNW1\n"
     ]
    },
    {
     "name": "stderr",
     "output_type": "stream",
     "text": [
      "Processing Q9C0H9: : 14109it [3:19:52,  1.22it/s]"
     ]
    },
    {
     "name": "stdout",
     "output_type": "stream",
     "text": [
      "Error: Could not decode JSON for A8MWL6\n"
     ]
    },
    {
     "name": "stderr",
     "output_type": "stream",
     "text": [
      "Processing Q9BXN6: : 14243it [3:22:00,  1.16it/s]"
     ]
    },
    {
     "name": "stdout",
     "output_type": "stream",
     "text": [
      "Error: Could not decode JSON for Q9NY87\n"
     ]
    },
    {
     "name": "stderr",
     "output_type": "stream",
     "text": [
      "Processing Q495Y8: : 14291it [3:22:40,  1.35it/s]"
     ]
    },
    {
     "name": "stdout",
     "output_type": "stream",
     "text": [
      "Error: Could not decode JSON for A6NNV3\n"
     ]
    },
    {
     "name": "stderr",
     "output_type": "stream",
     "text": [
      "Processing A6NHP3: : 14292it [3:22:41,  1.38it/s]"
     ]
    },
    {
     "name": "stdout",
     "output_type": "stream",
     "text": [
      "Error: Could not decode JSON for Q495Y8\n"
     ]
    },
    {
     "name": "stderr",
     "output_type": "stream",
     "text": [
      "Processing A6NKU9: : 14293it [3:22:42,  1.38it/s]"
     ]
    },
    {
     "name": "stdout",
     "output_type": "stream",
     "text": [
      "Error: Could not decode JSON for A6NHP3\n"
     ]
    },
    {
     "name": "stderr",
     "output_type": "stream",
     "text": [
      "Processing Q9NRR8: : 14297it [3:22:45,  1.35it/s]"
     ]
    },
    {
     "name": "stdout",
     "output_type": "stream",
     "text": [
      "Error: Could not decode JSON for P0CI01\n"
     ]
    },
    {
     "name": "stderr",
     "output_type": "stream",
     "text": [
      "Processing P22531: : 14361it [3:23:42,  1.39it/s]"
     ]
    },
    {
     "name": "stdout",
     "output_type": "stream",
     "text": [
      "Error: Could not decode JSON for P22532\n"
     ]
    },
    {
     "name": "stderr",
     "output_type": "stream",
     "text": [
      "Processing Q96RM1: : 14362it [3:23:43,  1.39it/s]"
     ]
    },
    {
     "name": "stdout",
     "output_type": "stream",
     "text": [
      "Error: Could not decode JSON for P22531\n"
     ]
    },
    {
     "name": "stderr",
     "output_type": "stream",
     "text": [
      "Processing Q9UBC9: : 14363it [3:23:43,  1.41it/s]"
     ]
    },
    {
     "name": "stdout",
     "output_type": "stream",
     "text": [
      "Error: Could not decode JSON for Q96RM1\n"
     ]
    },
    {
     "name": "stderr",
     "output_type": "stream",
     "text": [
      "Processing Q99619: : 14372it [3:23:50,  1.34it/s]"
     ]
    },
    {
     "name": "stdout",
     "output_type": "stream",
     "text": [
      "Error: Could not decode JSON for Q9BSJ1\n"
     ]
    },
    {
     "name": "stderr",
     "output_type": "stream",
     "text": [
      "Processing O75177: : 14452it [3:25:17,  1.25it/s]"
     ]
    },
    {
     "name": "stdout",
     "output_type": "stream",
     "text": [
      "Error: Could not decode JSON for A4PIV8\n"
     ]
    },
    {
     "name": "stderr",
     "output_type": "stream",
     "text": [
      "Processing Q9Y5Y6: : 14493it [3:25:55,  1.27it/s]"
     ]
    },
    {
     "name": "stdout",
     "output_type": "stream",
     "text": [
      "Error: Could not decode JSON for Q8IZP2\n"
     ]
    },
    {
     "name": "stderr",
     "output_type": "stream",
     "text": [
      "Processing P0CL85: : 14523it [3:26:22,  1.07it/s]"
     ]
    },
    {
     "name": "stdout",
     "output_type": "stream",
     "text": [
      "Error: Could not decode JSON for P0CL84\n"
     ]
    },
    {
     "name": "stderr",
     "output_type": "stream",
     "text": [
      "Processing Q8TBR4: : 14524it [3:26:22,  1.15it/s]"
     ]
    },
    {
     "name": "stdout",
     "output_type": "stream",
     "text": [
      "Error: Could not decode JSON for P0CL85\n"
     ]
    },
    {
     "name": "stderr",
     "output_type": "stream",
     "text": [
      "Processing O43704: : 14640it [3:28:12,  1.26it/s]"
     ]
    },
    {
     "name": "stdout",
     "output_type": "stream",
     "text": [
      "Error: Could not decode JSON for P0DMN0\n"
     ]
    },
    {
     "name": "stderr",
     "output_type": "stream",
     "text": [
      "Processing P59540: : 14855it [3:31:38,  1.41it/s]           "
     ]
    },
    {
     "name": "stdout",
     "output_type": "stream",
     "text": [
      "Error: Could not decode JSON for P59539\n"
     ]
    },
    {
     "name": "stderr",
     "output_type": "stream",
     "text": [
      "Processing P59543: : 14857it [3:31:40,  1.36it/s]"
     ]
    },
    {
     "name": "stdout",
     "output_type": "stream",
     "text": [
      "Error: Could not decode JSON for P59541\n"
     ]
    },
    {
     "name": "stderr",
     "output_type": "stream",
     "text": [
      "Processing Q9NYW4: : 14858it [3:31:41,  1.38it/s]"
     ]
    },
    {
     "name": "stdout",
     "output_type": "stream",
     "text": [
      "Error: Could not decode JSON for P59543\n"
     ]
    },
    {
     "name": "stderr",
     "output_type": "stream",
     "text": [
      "Processing Q6IPX1: : 14899it [3:32:20,  1.19it/s]"
     ]
    },
    {
     "name": "stdout",
     "output_type": "stream",
     "text": [
      "Error: Could not decode JSON for A6NDS4\n"
     ]
    },
    {
     "name": "stderr",
     "output_type": "stream",
     "text": [
      "Processing A6NER0: : 14900it [3:32:21,  1.24it/s]"
     ]
    },
    {
     "name": "stdout",
     "output_type": "stream",
     "text": [
      "Error: Could not decode JSON for Q6IPX1\n"
     ]
    },
    {
     "name": "stderr",
     "output_type": "stream",
     "text": [
      "Processing P0C7X1: : 14902it [3:32:24,  1.08s/it]"
     ]
    },
    {
     "name": "stdout",
     "output_type": "stream",
     "text": [
      "Error: Could not decode JSON for Q6DHY5\n"
     ]
    },
    {
     "name": "stderr",
     "output_type": "stream",
     "text": [
      "Processing Q92609: : 14903it [3:32:25,  1.01it/s]"
     ]
    },
    {
     "name": "stdout",
     "output_type": "stream",
     "text": [
      "Error: Could not decode JSON for P0C7X1\n"
     ]
    },
    {
     "name": "stderr",
     "output_type": "stream",
     "text": [
      "Processing A6NLF2: : 14959it [3:33:14,  1.31it/s]"
     ]
    },
    {
     "name": "stdout",
     "output_type": "stream",
     "text": [
      "Error: Could not decode JSON for Q3SY89\n"
     ]
    },
    {
     "name": "stderr",
     "output_type": "stream",
     "text": [
      "Processing O14776: : 14960it [3:33:15,  1.34it/s]"
     ]
    },
    {
     "name": "stdout",
     "output_type": "stream",
     "text": [
      "Error: Could not decode JSON for A6NLF2\n"
     ]
    },
    {
     "name": "stderr",
     "output_type": "stream",
     "text": [
      "Processing Q5SRD1: : 15200it [3:36:56,  1.27it/s]    "
     ]
    },
    {
     "name": "stdout",
     "output_type": "stream",
     "text": [
      "Error: Could not decode JSON for O14925\n"
     ]
    },
    {
     "name": "stderr",
     "output_type": "stream",
     "text": [
      "Processing O43615: : 15201it [3:36:57,  1.31it/s]"
     ]
    },
    {
     "name": "stdout",
     "output_type": "stream",
     "text": [
      "Error: Could not decode JSON for Q5SRD1\n"
     ]
    },
    {
     "name": "stderr",
     "output_type": "stream",
     "text": [
      "Processing O43711: : 15255it [3:38:00,  1.27it/s]"
     ]
    },
    {
     "name": "stdout",
     "output_type": "stream",
     "text": [
      "Error: Could not decode JSON for O43763\n"
     ]
    },
    {
     "name": "stderr",
     "output_type": "stream",
     "text": [
      "Processing Q86TG1: : 15344it [3:39:16,  1.20it/s]"
     ]
    },
    {
     "name": "stdout",
     "output_type": "stream",
     "text": [
      "Error: Could not decode JSON for A8MWL7\n"
     ]
    },
    {
     "name": "stderr",
     "output_type": "stream",
     "text": [
      "Processing A6NGB0: : 15385it [3:39:50,  1.24it/s]"
     ]
    },
    {
     "name": "stdout",
     "output_type": "stream",
     "text": [
      "Error: Could not decode JSON for P0C7N4\n"
     ]
    },
    {
     "name": "stderr",
     "output_type": "stream",
     "text": [
      "Processing Q9C035: : 15780it [3:45:54,  1.45it/s]"
     ]
    },
    {
     "name": "stdout",
     "output_type": "stream",
     "text": [
      "Error: Could not decode JSON for P0CI26\n"
     ]
    },
    {
     "name": "stderr",
     "output_type": "stream",
     "text": [
      "Processing A6NI03: : 15791it [3:46:04,  1.39it/s]"
     ]
    },
    {
     "name": "stdout",
     "output_type": "stream",
     "text": [
      "Error: Could not decode JSON for A6NGJ6\n"
     ]
    },
    {
     "name": "stderr",
     "output_type": "stream",
     "text": [
      "Processing P07477: : 15863it [3:47:14,  1.08s/it]"
     ]
    },
    {
     "name": "stdout",
     "output_type": "stream",
     "text": [
      "Error: Could not decode JSON for Q8NHM4\n"
     ]
    },
    {
     "name": "stderr",
     "output_type": "stream",
     "text": [
      "Processing Q9H0U9: : 15913it [3:47:57,  1.36it/s]"
     ]
    },
    {
     "name": "stdout",
     "output_type": "stream",
     "text": [
      "Error: Could not decode JSON for A6NKD2\n"
     ]
    },
    {
     "name": "stderr",
     "output_type": "stream",
     "text": [
      "Processing Q9BZM4: : 16230it [3:52:52,  1.12it/s]           "
     ]
    },
    {
     "name": "stdout",
     "output_type": "stream",
     "text": [
      "Error: Could not decode JSON for Q9BZM5\n"
     ]
    },
    {
     "name": "stderr",
     "output_type": "stream",
     "text": [
      "Processing C9JPN9: : 16310it [3:54:07,  1.06it/s]    "
     ]
    },
    {
     "name": "stdout",
     "output_type": "stream",
     "text": [
      "Error: Could not decode JSON for Q7RTZ2\n"
     ]
    },
    {
     "name": "stderr",
     "output_type": "stream",
     "text": [
      "Processing A6NCW0: : 16312it [3:54:09,  1.28it/s]"
     ]
    },
    {
     "name": "stdout",
     "output_type": "stream",
     "text": [
      "Error: Could not decode JSON for Q0WX57\n"
     ]
    },
    {
     "name": "stderr",
     "output_type": "stream",
     "text": [
      "Processing A8MUK1: : 16313it [3:54:09,  1.35it/s]"
     ]
    },
    {
     "name": "stdout",
     "output_type": "stream",
     "text": [
      "Error: Could not decode JSON for A6NCW0\n"
     ]
    },
    {
     "name": "stderr",
     "output_type": "stream",
     "text": [
      "Processing Q9UMW8: : 16314it [3:54:10,  1.37it/s]"
     ]
    },
    {
     "name": "stdout",
     "output_type": "stream",
     "text": [
      "Error: Could not decode JSON for A8MUK1\n"
     ]
    },
    {
     "name": "stderr",
     "output_type": "stream",
     "text": [
      "Processing P63129: : 16456it [3:56:28,  1.38it/s]           "
     ]
    },
    {
     "name": "stdout",
     "output_type": "stream",
     "text": [
      "Error: Could not decode JSON for P10265\n"
     ]
    },
    {
     "name": "stderr",
     "output_type": "stream",
     "text": [
      "Processing P63131: : 16457it [3:56:29,  1.38it/s]"
     ]
    },
    {
     "name": "stdout",
     "output_type": "stream",
     "text": [
      "Error: Could not decode JSON for P63129\n"
     ]
    },
    {
     "name": "stderr",
     "output_type": "stream",
     "text": [
      "Processing P63125: : 16458it [3:56:30,  1.39it/s]"
     ]
    },
    {
     "name": "stdout",
     "output_type": "stream",
     "text": [
      "Error: Could not decode JSON for P63131\n"
     ]
    },
    {
     "name": "stderr",
     "output_type": "stream",
     "text": [
      "Processing P63120: : 16459it [3:56:30,  1.40it/s]"
     ]
    },
    {
     "name": "stdout",
     "output_type": "stream",
     "text": [
      "Error: Could not decode JSON for P63125\n"
     ]
    },
    {
     "name": "stderr",
     "output_type": "stream",
     "text": [
      "Processing P63127: : 16460it [3:56:31,  1.43it/s]"
     ]
    },
    {
     "name": "stdout",
     "output_type": "stream",
     "text": [
      "Error: Could not decode JSON for P63120\n"
     ]
    },
    {
     "name": "stderr",
     "output_type": "stream",
     "text": [
      "Processing P63121: : 16461it [3:56:32,  1.42it/s]"
     ]
    },
    {
     "name": "stdout",
     "output_type": "stream",
     "text": [
      "Error: Could not decode JSON for P63127\n"
     ]
    },
    {
     "name": "stderr",
     "output_type": "stream",
     "text": [
      "Processing P63122: : 16462it [3:56:32,  1.43it/s]"
     ]
    },
    {
     "name": "stdout",
     "output_type": "stream",
     "text": [
      "Error: Could not decode JSON for P63121\n"
     ]
    },
    {
     "name": "stderr",
     "output_type": "stream",
     "text": [
      "Processing P63124: : 16463it [3:56:33,  1.46it/s]"
     ]
    },
    {
     "name": "stdout",
     "output_type": "stream",
     "text": [
      "Error: Could not decode JSON for P63122\n"
     ]
    },
    {
     "name": "stderr",
     "output_type": "stream",
     "text": [
      "Processing Q9Y4B6: : 16464it [3:56:34,  1.45it/s]"
     ]
    },
    {
     "name": "stdout",
     "output_type": "stream",
     "text": [
      "Error: Could not decode JSON for P63124\n"
     ]
    },
    {
     "name": "stderr",
     "output_type": "stream",
     "text": [
      "Processing P56704: : 16691it [4:00:05,  1.30it/s]      "
     ]
    },
    {
     "name": "stdout",
     "output_type": "stream",
     "text": [
      "Error: Could not decode JSON for P56703\n"
     ]
    },
    {
     "name": "stderr",
     "output_type": "stream",
     "text": [
      "Processing Q8WYQ9: : 16872it [4:02:55,  1.12it/s]"
     ]
    },
    {
     "name": "stdout",
     "output_type": "stream",
     "text": [
      "Error: Could not decode JSON for Q8WW36\n"
     ]
    },
    {
     "name": "stderr",
     "output_type": "stream",
     "text": [
      "Processing Q15776: : 17026it [4:05:16,  1.07it/s]"
     ]
    },
    {
     "name": "stdout",
     "output_type": "stream",
     "text": [
      "Error: Could not decode JSON for P17023\n"
     ]
    },
    {
     "name": "stderr",
     "output_type": "stream",
     "text": [
      "Processing Q8TBZ5: : 17230it [4:08:15,  1.33it/s]"
     ]
    },
    {
     "name": "stdout",
     "output_type": "stream",
     "text": [
      "Error: Could not decode JSON for Q96CX3\n"
     ]
    },
    {
     "name": "stderr",
     "output_type": "stream",
     "text": [
      "Processing Q9H7S9: : 17397it [4:10:42,  1.35it/s]"
     ]
    },
    {
     "name": "stdout",
     "output_type": "stream",
     "text": [
      "Error: Could not decode JSON for Q9H963\n"
     ]
    },
    {
     "name": "stderr",
     "output_type": "stream",
     "text": [
      "Processing A8MWA4: : 17400it [4:10:44,  1.43it/s]"
     ]
    },
    {
     "name": "stdout",
     "output_type": "stream",
     "text": [
      "Error: Could not decode JSON for Q6ZN79\n"
     ]
    },
    {
     "name": "stderr",
     "output_type": "stream",
     "text": [
      "Processing Q9Y5V0: : 17402it [4:10:47,  1.03it/s]"
     ]
    },
    {
     "name": "stdout",
     "output_type": "stream",
     "text": [
      "Error: Could not decode JSON for A8MUZ8\n"
     ]
    },
    {
     "name": "stderr",
     "output_type": "stream",
     "text": [
      "Processing Q8TF20: : 17415it [4:10:56,  1.39it/s]"
     ]
    },
    {
     "name": "stdout",
     "output_type": "stream",
     "text": [
      "Error: Could not decode JSON for Q7Z2F6\n"
     ]
    },
    {
     "name": "stderr",
     "output_type": "stream",
     "text": [
      "Processing B4DXR9: : 17423it [4:11:04,  1.08it/s]    "
     ]
    },
    {
     "name": "stdout",
     "output_type": "stream",
     "text": [
      "Error: Could not decode JSON for Q6ZMV8\n"
     ]
    },
    {
     "name": "stderr",
     "output_type": "stream",
     "text": [
      "Processing P0CB33: : 17424it [4:11:05,  1.16it/s]"
     ]
    },
    {
     "name": "stdout",
     "output_type": "stream",
     "text": [
      "Error: Could not decode JSON for B4DXR9\n"
     ]
    },
    {
     "name": "stderr",
     "output_type": "stream",
     "text": [
      "Processing B4DX44: : 17425it [4:11:05,  1.22it/s]"
     ]
    },
    {
     "name": "stdout",
     "output_type": "stream",
     "text": [
      "Error: Could not decode JSON for P0CB33\n"
     ]
    },
    {
     "name": "stderr",
     "output_type": "stream",
     "text": [
      "Processing P51815: : 17433it [4:11:11,  1.37it/s]"
     ]
    },
    {
     "name": "stdout",
     "output_type": "stream",
     "text": [
      "Error: Could not decode JSON for Q92670\n"
     ]
    },
    {
     "name": "stderr",
     "output_type": "stream",
     "text": [
      "Processing Q96H86: : 17437it [4:11:15,  1.29it/s]"
     ]
    },
    {
     "name": "stdout",
     "output_type": "stream",
     "text": [
      "Error: Could not decode JSON for Q0D2J5\n"
     ]
    },
    {
     "name": "stderr",
     "output_type": "stream",
     "text": [
      "Processing P17098: : 17469it [4:11:43,  1.28it/s]      "
     ]
    },
    {
     "name": "stdout",
     "output_type": "stream",
     "text": [
      "Error: Could not decode JSON for Q96GE5\n"
     ]
    },
    {
     "name": "stderr",
     "output_type": "stream",
     "text": [
      "Processing Q17R98: : 17484it [4:11:55,  1.18it/s]"
     ]
    },
    {
     "name": "stdout",
     "output_type": "stream",
     "text": [
      "Error: Could not decode JSON for Q6ZT77\n"
     ]
    },
    {
     "name": "stderr",
     "output_type": "stream",
     "text": [
      "Processing Q9NSJ1: : 17491it [4:12:02,  1.22it/s]"
     ]
    },
    {
     "name": "stdout",
     "output_type": "stream",
     "text": [
      "Error: Could not decode JSON for Q6ZTB9\n"
     ]
    },
    {
     "name": "stderr",
     "output_type": "stream",
     "text": [
      "Processing Q8NAM6: : 17554it [4:12:59,  1.22it/s]"
     ]
    },
    {
     "name": "stdout",
     "output_type": "stream",
     "text": [
      "Error: Could not decode JSON for Q3MJ62\n"
     ]
    },
    {
     "name": "stderr",
     "output_type": "stream",
     "text": [
      "Processing Q8IYH5: : 17581it [4:13:24,  1.16it/s]\n"
     ]
    }
   ],
   "source": [
    "failed = []\n",
    "\n",
    "pbar = tqdm(enumerate(all_proteins))\n",
    "for i, protein in pbar:\n",
    "    pbar.set_description(f\"Processing {protein}\")\n",
    "    # Check if protein in big_df \n",
    "    if protein not in big_df[\"uniprot_id\"].unique():\n",
    "        try: \n",
    "            df = get_psp_mods(protein)\n",
    "        except Exception as e:\n",
    "            print(f\"Error: {e}\")\n",
    "            failed.append(protein)\n",
    "            continue\n",
    "        if df is not None:\n",
    "            # Concat \n",
    "            big_df = pd.concat([big_df, df]) \n",
    "        else: \n",
    "            failed.append(protein)\n",
    "    \n",
    "    # Every 20 proteins, save\n",
    "    if i % 20 == 0:\n",
    "        big_df.to_csv(\"psp_mods.csv\", index=False)\n",
    "    \n"
   ]
  },
  {
   "cell_type": "code",
   "execution_count": 20,
   "metadata": {},
   "outputs": [
    {
     "data": {
      "text/html": [
       "<div>\n",
       "<style scoped>\n",
       "    .dataframe tbody tr th:only-of-type {\n",
       "        vertical-align: middle;\n",
       "    }\n",
       "\n",
       "    .dataframe tbody tr th {\n",
       "        vertical-align: top;\n",
       "    }\n",
       "\n",
       "    .dataframe thead th {\n",
       "        text-align: right;\n",
       "    }\n",
       "</style>\n",
       "<table border=\"1\" class=\"dataframe\">\n",
       "  <thead>\n",
       "    <tr style=\"text-align: right;\">\n",
       "      <th></th>\n",
       "      <th>id</th>\n",
       "      <th>ref</th>\n",
       "      <th>ltp</th>\n",
       "      <th>htp</th>\n",
       "      <th>pos</th>\n",
       "      <th>pubmed</th>\n",
       "      <th>mod</th>\n",
       "      <th>uniprot_id</th>\n",
       "    </tr>\n",
       "  </thead>\n",
       "  <tbody>\n",
       "  </tbody>\n",
       "</table>\n",
       "</div>"
      ],
      "text/plain": [
       "Empty DataFrame\n",
       "Columns: [id, ref, ltp, htp, pos, pubmed, mod, uniprot_id]\n",
       "Index: []"
      ]
     },
     "execution_count": 20,
     "metadata": {},
     "output_type": "execute_result"
    }
   ],
   "source": [
    "uid = \"P05408\"\n",
    "# all rows \n",
    "big_df[big_df[\"uniprot_id\"] == uid]"
   ]
  },
  {
   "cell_type": "code",
   "execution_count": 26,
   "metadata": {},
   "outputs": [
    {
     "data": {
      "text/html": [
       "<div>\n",
       "<style scoped>\n",
       "    .dataframe tbody tr th:only-of-type {\n",
       "        vertical-align: middle;\n",
       "    }\n",
       "\n",
       "    .dataframe tbody tr th {\n",
       "        vertical-align: top;\n",
       "    }\n",
       "\n",
       "    .dataframe thead th {\n",
       "        text-align: right;\n",
       "    }\n",
       "</style>\n",
       "<table border=\"1\" class=\"dataframe\">\n",
       "  <thead>\n",
       "    <tr style=\"text-align: right;\">\n",
       "      <th></th>\n",
       "      <th>id</th>\n",
       "      <th>ref</th>\n",
       "      <th>ltp</th>\n",
       "      <th>htp</th>\n",
       "      <th>pos</th>\n",
       "      <th>pubmed</th>\n",
       "      <th>mod</th>\n",
       "      <th>uniprot_id</th>\n",
       "    </tr>\n",
       "  </thead>\n",
       "  <tbody>\n",
       "    <tr>\n",
       "      <th>0</th>\n",
       "      <td>T2</td>\n",
       "      <td>5</td>\n",
       "      <td>0</td>\n",
       "      <td>5</td>\n",
       "      <td>2</td>\n",
       "      <td>31437427</td>\n",
       "      <td>PHOSPHORYLATION</td>\n",
       "      <td>P31946</td>\n",
       "    </tr>\n",
       "    <tr>\n",
       "      <th>1</th>\n",
       "      <td>K5</td>\n",
       "      <td>4</td>\n",
       "      <td>0</td>\n",
       "      <td>4</td>\n",
       "      <td>5</td>\n",
       "      <td>66695325</td>\n",
       "      <td>ACETYLATION</td>\n",
       "      <td>P31946</td>\n",
       "    </tr>\n",
       "    <tr>\n",
       "      <th>2</th>\n",
       "      <td>K5</td>\n",
       "      <td>4</td>\n",
       "      <td>0</td>\n",
       "      <td>4</td>\n",
       "      <td>5</td>\n",
       "      <td>82962801</td>\n",
       "      <td>UBIQUITYLATION</td>\n",
       "      <td>P31946</td>\n",
       "    </tr>\n",
       "    <tr>\n",
       "      <th>3</th>\n",
       "      <td>S6</td>\n",
       "      <td>9</td>\n",
       "      <td>0</td>\n",
       "      <td>9</td>\n",
       "      <td>6</td>\n",
       "      <td>31437421</td>\n",
       "      <td>PHOSPHORYLATION</td>\n",
       "      <td>P31946</td>\n",
       "    </tr>\n",
       "    <tr>\n",
       "      <th>4</th>\n",
       "      <td>K11</td>\n",
       "      <td>35</td>\n",
       "      <td>0</td>\n",
       "      <td>35</td>\n",
       "      <td>11</td>\n",
       "      <td>9907695</td>\n",
       "      <td>UBIQUITYLATION</td>\n",
       "      <td>P31946</td>\n",
       "    </tr>\n",
       "    <tr>\n",
       "      <th>...</th>\n",
       "      <td>...</td>\n",
       "      <td>...</td>\n",
       "      <td>...</td>\n",
       "      <td>...</td>\n",
       "      <td>...</td>\n",
       "      <td>...</td>\n",
       "      <td>...</td>\n",
       "      <td>...</td>\n",
       "    </tr>\n",
       "    <tr>\n",
       "      <th>25</th>\n",
       "      <td>S677</td>\n",
       "      <td>1</td>\n",
       "      <td>0</td>\n",
       "      <td>1</td>\n",
       "      <td>677</td>\n",
       "      <td>46155443</td>\n",
       "      <td>PHOSPHORYLATION</td>\n",
       "      <td>Q8IYH5</td>\n",
       "    </tr>\n",
       "    <tr>\n",
       "      <th>26</th>\n",
       "      <td>K701</td>\n",
       "      <td>1</td>\n",
       "      <td>0</td>\n",
       "      <td>1</td>\n",
       "      <td>701</td>\n",
       "      <td>22647657</td>\n",
       "      <td>ACETYLATION</td>\n",
       "      <td>Q8IYH5</td>\n",
       "    </tr>\n",
       "    <tr>\n",
       "      <th>27</th>\n",
       "      <td>K725</td>\n",
       "      <td>1</td>\n",
       "      <td>0</td>\n",
       "      <td>1</td>\n",
       "      <td>725</td>\n",
       "      <td>22647669</td>\n",
       "      <td>ACETYLATION</td>\n",
       "      <td>Q8IYH5</td>\n",
       "    </tr>\n",
       "    <tr>\n",
       "      <th>28</th>\n",
       "      <td>K738</td>\n",
       "      <td>1</td>\n",
       "      <td>0</td>\n",
       "      <td>1</td>\n",
       "      <td>738</td>\n",
       "      <td>22647663</td>\n",
       "      <td>ACETYLATION</td>\n",
       "      <td>Q8IYH5</td>\n",
       "    </tr>\n",
       "    <tr>\n",
       "      <th>29</th>\n",
       "      <td>S777</td>\n",
       "      <td>2</td>\n",
       "      <td>0</td>\n",
       "      <td>2</td>\n",
       "      <td>777</td>\n",
       "      <td>82911861</td>\n",
       "      <td>PHOSPHORYLATION</td>\n",
       "      <td>Q8IYH5</td>\n",
       "    </tr>\n",
       "  </tbody>\n",
       "</table>\n",
       "<p>443593 rows × 8 columns</p>\n",
       "</div>"
      ],
      "text/plain": [
       "      id  ref  ltp  htp  pos    pubmed              mod uniprot_id\n",
       "0     T2    5    0    5    2  31437427  PHOSPHORYLATION     P31946\n",
       "1     K5    4    0    4    5  66695325      ACETYLATION     P31946\n",
       "2     K5    4    0    4    5  82962801   UBIQUITYLATION     P31946\n",
       "3     S6    9    0    9    6  31437421  PHOSPHORYLATION     P31946\n",
       "4    K11   35    0   35   11   9907695   UBIQUITYLATION     P31946\n",
       "..   ...  ...  ...  ...  ...       ...              ...        ...\n",
       "25  S677    1    0    1  677  46155443  PHOSPHORYLATION     Q8IYH5\n",
       "26  K701    1    0    1  701  22647657      ACETYLATION     Q8IYH5\n",
       "27  K725    1    0    1  725  22647669      ACETYLATION     Q8IYH5\n",
       "28  K738    1    0    1  738  22647663      ACETYLATION     Q8IYH5\n",
       "29  S777    2    0    2  777  82911861  PHOSPHORYLATION     Q8IYH5\n",
       "\n",
       "[443593 rows x 8 columns]"
      ]
     },
     "execution_count": 26,
     "metadata": {},
     "output_type": "execute_result"
    }
   ],
   "source": [
    "big_df"
   ]
  },
  {
   "cell_type": "code",
   "execution_count": 13,
   "metadata": {},
   "outputs": [
    {
     "data": {
      "text/html": [
       "<div>\n",
       "<style scoped>\n",
       "    .dataframe tbody tr th:only-of-type {\n",
       "        vertical-align: middle;\n",
       "    }\n",
       "\n",
       "    .dataframe tbody tr th {\n",
       "        vertical-align: top;\n",
       "    }\n",
       "\n",
       "    .dataframe thead th {\n",
       "        text-align: right;\n",
       "    }\n",
       "</style>\n",
       "<table border=\"1\" class=\"dataframe\">\n",
       "  <thead>\n",
       "    <tr style=\"text-align: right;\">\n",
       "      <th></th>\n",
       "      <th>id</th>\n",
       "      <th>ref</th>\n",
       "      <th>ltp</th>\n",
       "      <th>htp</th>\n",
       "      <th>pos</th>\n",
       "      <th>pubmed</th>\n",
       "      <th>mod</th>\n",
       "      <th>uniprot_id</th>\n",
       "    </tr>\n",
       "  </thead>\n",
       "  <tbody>\n",
       "    <tr>\n",
       "      <th>0</th>\n",
       "      <td>T2</td>\n",
       "      <td>5</td>\n",
       "      <td>0</td>\n",
       "      <td>5</td>\n",
       "      <td>2</td>\n",
       "      <td>31437427</td>\n",
       "      <td>PHOSPHORYLATION</td>\n",
       "      <td>P31946</td>\n",
       "    </tr>\n",
       "    <tr>\n",
       "      <th>1</th>\n",
       "      <td>K5</td>\n",
       "      <td>4</td>\n",
       "      <td>0</td>\n",
       "      <td>4</td>\n",
       "      <td>5</td>\n",
       "      <td>66695325</td>\n",
       "      <td>ACETYLATION</td>\n",
       "      <td>P31946</td>\n",
       "    </tr>\n",
       "    <tr>\n",
       "      <th>2</th>\n",
       "      <td>K5</td>\n",
       "      <td>4</td>\n",
       "      <td>0</td>\n",
       "      <td>4</td>\n",
       "      <td>5</td>\n",
       "      <td>82962801</td>\n",
       "      <td>UBIQUITYLATION</td>\n",
       "      <td>P31946</td>\n",
       "    </tr>\n",
       "    <tr>\n",
       "      <th>3</th>\n",
       "      <td>S6</td>\n",
       "      <td>9</td>\n",
       "      <td>0</td>\n",
       "      <td>9</td>\n",
       "      <td>6</td>\n",
       "      <td>31437421</td>\n",
       "      <td>PHOSPHORYLATION</td>\n",
       "      <td>P31946</td>\n",
       "    </tr>\n",
       "    <tr>\n",
       "      <th>4</th>\n",
       "      <td>K11</td>\n",
       "      <td>35</td>\n",
       "      <td>0</td>\n",
       "      <td>35</td>\n",
       "      <td>11</td>\n",
       "      <td>9907695</td>\n",
       "      <td>UBIQUITYLATION</td>\n",
       "      <td>P31946</td>\n",
       "    </tr>\n",
       "    <tr>\n",
       "      <th>5</th>\n",
       "      <td>K11</td>\n",
       "      <td>1</td>\n",
       "      <td>0</td>\n",
       "      <td>1</td>\n",
       "      <td>11</td>\n",
       "      <td>72626993</td>\n",
       "      <td>ACETYLATION</td>\n",
       "      <td>P31946</td>\n",
       "    </tr>\n",
       "    <tr>\n",
       "      <th>6</th>\n",
       "      <td>K13</td>\n",
       "      <td>43</td>\n",
       "      <td>0</td>\n",
       "      <td>43</td>\n",
       "      <td>13</td>\n",
       "      <td>7868147</td>\n",
       "      <td>UBIQUITYLATION</td>\n",
       "      <td>P31946</td>\n",
       "    </tr>\n",
       "    <tr>\n",
       "      <th>7</th>\n",
       "      <td>K13</td>\n",
       "      <td>16</td>\n",
       "      <td>0</td>\n",
       "      <td>16</td>\n",
       "      <td>13</td>\n",
       "      <td>72595099</td>\n",
       "      <td>ACETYLATION</td>\n",
       "      <td>P31946</td>\n",
       "    </tr>\n",
       "    <tr>\n",
       "      <th>8</th>\n",
       "      <td>Y21</td>\n",
       "      <td>9</td>\n",
       "      <td>0</td>\n",
       "      <td>9</td>\n",
       "      <td>21</td>\n",
       "      <td>6852767</td>\n",
       "      <td>PHOSPHORYLATION</td>\n",
       "      <td>P31946</td>\n",
       "    </tr>\n",
       "    <tr>\n",
       "      <th>9</th>\n",
       "      <td>K29</td>\n",
       "      <td>6</td>\n",
       "      <td>0</td>\n",
       "      <td>6</td>\n",
       "      <td>29</td>\n",
       "      <td>7769163</td>\n",
       "      <td>UBIQUITYLATION</td>\n",
       "      <td>P31946</td>\n",
       "    </tr>\n",
       "    <tr>\n",
       "      <th>10</th>\n",
       "      <td>T32</td>\n",
       "      <td>1</td>\n",
       "      <td>0</td>\n",
       "      <td>1</td>\n",
       "      <td>32</td>\n",
       "      <td>46155607</td>\n",
       "      <td>PHOSPHORYLATION</td>\n",
       "      <td>P31946</td>\n",
       "    </tr>\n",
       "    <tr>\n",
       "      <th>11</th>\n",
       "      <td>S39</td>\n",
       "      <td>4</td>\n",
       "      <td>0</td>\n",
       "      <td>4</td>\n",
       "      <td>39</td>\n",
       "      <td>54885401</td>\n",
       "      <td>PHOSPHORYLATION</td>\n",
       "      <td>P31946</td>\n",
       "    </tr>\n",
       "    <tr>\n",
       "      <th>12</th>\n",
       "      <td>S47</td>\n",
       "      <td>29</td>\n",
       "      <td>0</td>\n",
       "      <td>29</td>\n",
       "      <td>47</td>\n",
       "      <td>9546551</td>\n",
       "      <td>PHOSPHORYLATION</td>\n",
       "      <td>P31946</td>\n",
       "    </tr>\n",
       "    <tr>\n",
       "      <th>13</th>\n",
       "      <td>Y50</td>\n",
       "      <td>14</td>\n",
       "      <td>0</td>\n",
       "      <td>14</td>\n",
       "      <td>50</td>\n",
       "      <td>24865923</td>\n",
       "      <td>PHOSPHORYLATION</td>\n",
       "      <td>P31946</td>\n",
       "    </tr>\n",
       "    <tr>\n",
       "      <th>14</th>\n",
       "      <td>K51</td>\n",
       "      <td>22</td>\n",
       "      <td>2</td>\n",
       "      <td>20</td>\n",
       "      <td>51</td>\n",
       "      <td>130485</td>\n",
       "      <td>ACETYLATION</td>\n",
       "      <td>P31946</td>\n",
       "    </tr>\n",
       "    <tr>\n",
       "      <th>15</th>\n",
       "      <td>K51</td>\n",
       "      <td>156</td>\n",
       "      <td>0</td>\n",
       "      <td>156</td>\n",
       "      <td>51</td>\n",
       "      <td>7848389</td>\n",
       "      <td>UBIQUITYLATION</td>\n",
       "      <td>P31946</td>\n",
       "    </tr>\n",
       "    <tr>\n",
       "      <th>16</th>\n",
       "      <td>S59</td>\n",
       "      <td>1</td>\n",
       "      <td>0</td>\n",
       "      <td>1</td>\n",
       "      <td>59</td>\n",
       "      <td>9870191</td>\n",
       "      <td>PHOSPHORYLATION</td>\n",
       "      <td>P31946</td>\n",
       "    </tr>\n",
       "    <tr>\n",
       "      <th>17</th>\n",
       "      <td>S60</td>\n",
       "      <td>15</td>\n",
       "      <td>5</td>\n",
       "      <td>10</td>\n",
       "      <td>60</td>\n",
       "      <td>20157</td>\n",
       "      <td>PHOSPHORYLATION</td>\n",
       "      <td>P31946</td>\n",
       "    </tr>\n",
       "    <tr>\n",
       "      <th>18</th>\n",
       "      <td>S65</td>\n",
       "      <td>3</td>\n",
       "      <td>1</td>\n",
       "      <td>2</td>\n",
       "      <td>65</td>\n",
       "      <td>93171</td>\n",
       "      <td>PHOSPHORYLATION</td>\n",
       "      <td>P31946</td>\n",
       "    </tr>\n",
       "    <tr>\n",
       "      <th>19</th>\n",
       "      <td>S66</td>\n",
       "      <td>6</td>\n",
       "      <td>0</td>\n",
       "      <td>6</td>\n",
       "      <td>66</td>\n",
       "      <td>31437433</td>\n",
       "      <td>PHOSPHORYLATION</td>\n",
       "      <td>P31946</td>\n",
       "    </tr>\n",
       "    <tr>\n",
       "      <th>20</th>\n",
       "      <td>K70</td>\n",
       "      <td>7</td>\n",
       "      <td>0</td>\n",
       "      <td>7</td>\n",
       "      <td>70</td>\n",
       "      <td>71067</td>\n",
       "      <td>ACETYLATION</td>\n",
       "      <td>P31946</td>\n",
       "    </tr>\n",
       "    <tr>\n",
       "      <th>21</th>\n",
       "      <td>K70</td>\n",
       "      <td>28</td>\n",
       "      <td>0</td>\n",
       "      <td>28</td>\n",
       "      <td>70</td>\n",
       "      <td>7848391</td>\n",
       "      <td>UBIQUITYLATION</td>\n",
       "      <td>P31946</td>\n",
       "    </tr>\n",
       "    <tr>\n",
       "      <th>22</th>\n",
       "      <td>K77</td>\n",
       "      <td>1</td>\n",
       "      <td>1</td>\n",
       "      <td>0</td>\n",
       "      <td>77</td>\n",
       "      <td>62135809</td>\n",
       "      <td>ACETYLATION</td>\n",
       "      <td>P31946</td>\n",
       "    </tr>\n",
       "    <tr>\n",
       "      <th>23</th>\n",
       "      <td>K82</td>\n",
       "      <td>1</td>\n",
       "      <td>0</td>\n",
       "      <td>1</td>\n",
       "      <td>82</td>\n",
       "      <td>178226001</td>\n",
       "      <td>ACETYLATION</td>\n",
       "      <td>P31946</td>\n",
       "    </tr>\n",
       "    <tr>\n",
       "      <th>24</th>\n",
       "      <td>K82</td>\n",
       "      <td>1</td>\n",
       "      <td>0</td>\n",
       "      <td>1</td>\n",
       "      <td>82</td>\n",
       "      <td>1928990201</td>\n",
       "      <td>UBIQUITYLATION</td>\n",
       "      <td>P31946</td>\n",
       "    </tr>\n",
       "    <tr>\n",
       "      <th>25</th>\n",
       "      <td>K87</td>\n",
       "      <td>1</td>\n",
       "      <td>0</td>\n",
       "      <td>1</td>\n",
       "      <td>87</td>\n",
       "      <td>1948329805</td>\n",
       "      <td>UBIQUITYLATION</td>\n",
       "      <td>P31946</td>\n",
       "    </tr>\n",
       "    <tr>\n",
       "      <th>26</th>\n",
       "      <td>K105</td>\n",
       "      <td>2</td>\n",
       "      <td>0</td>\n",
       "      <td>2</td>\n",
       "      <td>105</td>\n",
       "      <td>30767407</td>\n",
       "      <td>UBIQUITYLATION</td>\n",
       "      <td>P31946</td>\n",
       "    </tr>\n",
       "    <tr>\n",
       "      <th>27</th>\n",
       "      <td>Y106</td>\n",
       "      <td>1</td>\n",
       "      <td>0</td>\n",
       "      <td>1</td>\n",
       "      <td>106</td>\n",
       "      <td>18877525</td>\n",
       "      <td>PHOSPHORYLATION</td>\n",
       "      <td>P31946</td>\n",
       "    </tr>\n",
       "    <tr>\n",
       "      <th>28</th>\n",
       "      <td>S116</td>\n",
       "      <td>2</td>\n",
       "      <td>0</td>\n",
       "      <td>2</td>\n",
       "      <td>116</td>\n",
       "      <td>31437409</td>\n",
       "      <td>PHOSPHORYLATION</td>\n",
       "      <td>P31946</td>\n",
       "    </tr>\n",
       "    <tr>\n",
       "      <th>29</th>\n",
       "      <td>K117</td>\n",
       "      <td>28</td>\n",
       "      <td>1</td>\n",
       "      <td>27</td>\n",
       "      <td>117</td>\n",
       "      <td>87791</td>\n",
       "      <td>ACETYLATION</td>\n",
       "      <td>P31946</td>\n",
       "    </tr>\n",
       "    <tr>\n",
       "      <th>30</th>\n",
       "      <td>K117</td>\n",
       "      <td>4</td>\n",
       "      <td>0</td>\n",
       "      <td>4</td>\n",
       "      <td>117</td>\n",
       "      <td>44105401</td>\n",
       "      <td>UBIQUITYLATION</td>\n",
       "      <td>P31946</td>\n",
       "    </tr>\n",
       "    <tr>\n",
       "      <th>31</th>\n",
       "      <td>Y120</td>\n",
       "      <td>1</td>\n",
       "      <td>0</td>\n",
       "      <td>1</td>\n",
       "      <td>120</td>\n",
       "      <td>7330749</td>\n",
       "      <td>PHOSPHORYLATION</td>\n",
       "      <td>P31946</td>\n",
       "    </tr>\n",
       "    <tr>\n",
       "      <th>32</th>\n",
       "      <td>K122</td>\n",
       "      <td>14</td>\n",
       "      <td>1</td>\n",
       "      <td>13</td>\n",
       "      <td>122</td>\n",
       "      <td>7298879</td>\n",
       "      <td>ACETYLATION</td>\n",
       "      <td>P31946</td>\n",
       "    </tr>\n",
       "    <tr>\n",
       "      <th>33</th>\n",
       "      <td>K122</td>\n",
       "      <td>79</td>\n",
       "      <td>0</td>\n",
       "      <td>79</td>\n",
       "      <td>122</td>\n",
       "      <td>7848393</td>\n",
       "      <td>UBIQUITYLATION</td>\n",
       "      <td>P31946</td>\n",
       "    </tr>\n",
       "    <tr>\n",
       "      <th>34</th>\n",
       "      <td>K124</td>\n",
       "      <td>14</td>\n",
       "      <td>0</td>\n",
       "      <td>14</td>\n",
       "      <td>124</td>\n",
       "      <td>24624027</td>\n",
       "      <td>UBIQUITYLATION</td>\n",
       "      <td>P31946</td>\n",
       "    </tr>\n",
       "    <tr>\n",
       "      <th>35</th>\n",
       "      <td>Y127</td>\n",
       "      <td>7</td>\n",
       "      <td>0</td>\n",
       "      <td>7</td>\n",
       "      <td>127</td>\n",
       "      <td>7098339</td>\n",
       "      <td>PHOSPHORYLATION</td>\n",
       "      <td>P31946</td>\n",
       "    </tr>\n",
       "    <tr>\n",
       "      <th>36</th>\n",
       "      <td>Y130</td>\n",
       "      <td>8</td>\n",
       "      <td>0</td>\n",
       "      <td>8</td>\n",
       "      <td>130</td>\n",
       "      <td>7178853</td>\n",
       "      <td>PHOSPHORYLATION</td>\n",
       "      <td>P31946</td>\n",
       "    </tr>\n",
       "    <tr>\n",
       "      <th>37</th>\n",
       "      <td>S132</td>\n",
       "      <td>3</td>\n",
       "      <td>1</td>\n",
       "      <td>2</td>\n",
       "      <td>132</td>\n",
       "      <td>6272029</td>\n",
       "      <td>PHOSPHORYLATION</td>\n",
       "      <td>P31946</td>\n",
       "    </tr>\n",
       "    <tr>\n",
       "      <th>38</th>\n",
       "      <td>S136</td>\n",
       "      <td>6</td>\n",
       "      <td>0</td>\n",
       "      <td>6</td>\n",
       "      <td>136</td>\n",
       "      <td>31437415</td>\n",
       "      <td>PHOSPHORYLATION</td>\n",
       "      <td>P31946</td>\n",
       "    </tr>\n",
       "    <tr>\n",
       "      <th>39</th>\n",
       "      <td>K140</td>\n",
       "      <td>54</td>\n",
       "      <td>0</td>\n",
       "      <td>54</td>\n",
       "      <td>140</td>\n",
       "      <td>7868161</td>\n",
       "      <td>UBIQUITYLATION</td>\n",
       "      <td>P31946</td>\n",
       "    </tr>\n",
       "    <tr>\n",
       "      <th>40</th>\n",
       "      <td>T143</td>\n",
       "      <td>1</td>\n",
       "      <td>1</td>\n",
       "      <td>0</td>\n",
       "      <td>143</td>\n",
       "      <td>6272039</td>\n",
       "      <td>PHOSPHORYLATION</td>\n",
       "      <td>P31946</td>\n",
       "    </tr>\n",
       "    <tr>\n",
       "      <th>41</th>\n",
       "      <td>Y151</td>\n",
       "      <td>2</td>\n",
       "      <td>0</td>\n",
       "      <td>2</td>\n",
       "      <td>151</td>\n",
       "      <td>7178867</td>\n",
       "      <td>PHOSPHORYLATION</td>\n",
       "      <td>P31946</td>\n",
       "    </tr>\n",
       "    <tr>\n",
       "      <th>42</th>\n",
       "      <td>K159</td>\n",
       "      <td>6</td>\n",
       "      <td>0</td>\n",
       "      <td>6</td>\n",
       "      <td>159</td>\n",
       "      <td>24846149</td>\n",
       "      <td>ACETYLATION</td>\n",
       "      <td>P31946</td>\n",
       "    </tr>\n",
       "    <tr>\n",
       "      <th>43</th>\n",
       "      <td>K159</td>\n",
       "      <td>3</td>\n",
       "      <td>0</td>\n",
       "      <td>3</td>\n",
       "      <td>159</td>\n",
       "      <td>42255601</td>\n",
       "      <td>UBIQUITYLATION</td>\n",
       "      <td>P31946</td>\n",
       "    </tr>\n",
       "    <tr>\n",
       "      <th>44</th>\n",
       "      <td>K159</td>\n",
       "      <td>1</td>\n",
       "      <td>0</td>\n",
       "      <td>1</td>\n",
       "      <td>159</td>\n",
       "      <td>66716657</td>\n",
       "      <td>SUCCINYLATION</td>\n",
       "      <td>P31946</td>\n",
       "    </tr>\n",
       "    <tr>\n",
       "      <th>45</th>\n",
       "      <td>K160</td>\n",
       "      <td>57</td>\n",
       "      <td>0</td>\n",
       "      <td>57</td>\n",
       "      <td>160</td>\n",
       "      <td>16209873</td>\n",
       "      <td>UBIQUITYLATION</td>\n",
       "      <td>P31946</td>\n",
       "    </tr>\n",
       "    <tr>\n",
       "      <th>46</th>\n",
       "      <td>S186</td>\n",
       "      <td>8</td>\n",
       "      <td>3</td>\n",
       "      <td>5</td>\n",
       "      <td>186</td>\n",
       "      <td>17373</td>\n",
       "      <td>PHOSPHORYLATION</td>\n",
       "      <td>P31946</td>\n",
       "    </tr>\n",
       "    <tr>\n",
       "      <th>47</th>\n",
       "      <td>K195</td>\n",
       "      <td>12</td>\n",
       "      <td>0</td>\n",
       "      <td>12</td>\n",
       "      <td>195</td>\n",
       "      <td>30767401</td>\n",
       "      <td>UBIQUITYLATION</td>\n",
       "      <td>P31946</td>\n",
       "    </tr>\n",
       "    <tr>\n",
       "      <th>48</th>\n",
       "      <td>T207</td>\n",
       "      <td>3</td>\n",
       "      <td>0</td>\n",
       "      <td>3</td>\n",
       "      <td>207</td>\n",
       "      <td>46155601</td>\n",
       "      <td>PHOSPHORYLATION</td>\n",
       "      <td>P31946</td>\n",
       "    </tr>\n",
       "    <tr>\n",
       "      <th>49</th>\n",
       "      <td>S212</td>\n",
       "      <td>1</td>\n",
       "      <td>0</td>\n",
       "      <td>1</td>\n",
       "      <td>212</td>\n",
       "      <td>110743789</td>\n",
       "      <td>PHOSPHORYLATION</td>\n",
       "      <td>P31946</td>\n",
       "    </tr>\n",
       "    <tr>\n",
       "      <th>50</th>\n",
       "      <td>Y213</td>\n",
       "      <td>1</td>\n",
       "      <td>0</td>\n",
       "      <td>1</td>\n",
       "      <td>213</td>\n",
       "      <td>110743799</td>\n",
       "      <td>PHOSPHORYLATION</td>\n",
       "      <td>P31946</td>\n",
       "    </tr>\n",
       "    <tr>\n",
       "      <th>51</th>\n",
       "      <td>K214</td>\n",
       "      <td>3</td>\n",
       "      <td>0</td>\n",
       "      <td>3</td>\n",
       "      <td>214</td>\n",
       "      <td>77015273</td>\n",
       "      <td>ACETYLATION</td>\n",
       "      <td>P31946</td>\n",
       "    </tr>\n",
       "    <tr>\n",
       "      <th>52</th>\n",
       "      <td>T228</td>\n",
       "      <td>1</td>\n",
       "      <td>0</td>\n",
       "      <td>1</td>\n",
       "      <td>228</td>\n",
       "      <td>69003519</td>\n",
       "      <td>PHOSPHORYLATION</td>\n",
       "      <td>P31946</td>\n",
       "    </tr>\n",
       "    <tr>\n",
       "      <th>53</th>\n",
       "      <td>T231</td>\n",
       "      <td>2</td>\n",
       "      <td>0</td>\n",
       "      <td>2</td>\n",
       "      <td>231</td>\n",
       "      <td>69006687</td>\n",
       "      <td>PHOSPHORYLATION</td>\n",
       "      <td>P31946</td>\n",
       "    </tr>\n",
       "    <tr>\n",
       "      <th>54</th>\n",
       "      <td>S232</td>\n",
       "      <td>1</td>\n",
       "      <td>0</td>\n",
       "      <td>1</td>\n",
       "      <td>232</td>\n",
       "      <td>69012421</td>\n",
       "      <td>PHOSPHORYLATION</td>\n",
       "      <td>P31946</td>\n",
       "    </tr>\n",
       "  </tbody>\n",
       "</table>\n",
       "</div>"
      ],
      "text/plain": [
       "      id  ref  ltp  htp  pos      pubmed              mod uniprot_id\n",
       "0     T2    5    0    5    2    31437427  PHOSPHORYLATION     P31946\n",
       "1     K5    4    0    4    5    66695325      ACETYLATION     P31946\n",
       "2     K5    4    0    4    5    82962801   UBIQUITYLATION     P31946\n",
       "3     S6    9    0    9    6    31437421  PHOSPHORYLATION     P31946\n",
       "4    K11   35    0   35   11     9907695   UBIQUITYLATION     P31946\n",
       "5    K11    1    0    1   11    72626993      ACETYLATION     P31946\n",
       "6    K13   43    0   43   13     7868147   UBIQUITYLATION     P31946\n",
       "7    K13   16    0   16   13    72595099      ACETYLATION     P31946\n",
       "8    Y21    9    0    9   21     6852767  PHOSPHORYLATION     P31946\n",
       "9    K29    6    0    6   29     7769163   UBIQUITYLATION     P31946\n",
       "10   T32    1    0    1   32    46155607  PHOSPHORYLATION     P31946\n",
       "11   S39    4    0    4   39    54885401  PHOSPHORYLATION     P31946\n",
       "12   S47   29    0   29   47     9546551  PHOSPHORYLATION     P31946\n",
       "13   Y50   14    0   14   50    24865923  PHOSPHORYLATION     P31946\n",
       "14   K51   22    2   20   51      130485      ACETYLATION     P31946\n",
       "15   K51  156    0  156   51     7848389   UBIQUITYLATION     P31946\n",
       "16   S59    1    0    1   59     9870191  PHOSPHORYLATION     P31946\n",
       "17   S60   15    5   10   60       20157  PHOSPHORYLATION     P31946\n",
       "18   S65    3    1    2   65       93171  PHOSPHORYLATION     P31946\n",
       "19   S66    6    0    6   66    31437433  PHOSPHORYLATION     P31946\n",
       "20   K70    7    0    7   70       71067      ACETYLATION     P31946\n",
       "21   K70   28    0   28   70     7848391   UBIQUITYLATION     P31946\n",
       "22   K77    1    1    0   77    62135809      ACETYLATION     P31946\n",
       "23   K82    1    0    1   82   178226001      ACETYLATION     P31946\n",
       "24   K82    1    0    1   82  1928990201   UBIQUITYLATION     P31946\n",
       "25   K87    1    0    1   87  1948329805   UBIQUITYLATION     P31946\n",
       "26  K105    2    0    2  105    30767407   UBIQUITYLATION     P31946\n",
       "27  Y106    1    0    1  106    18877525  PHOSPHORYLATION     P31946\n",
       "28  S116    2    0    2  116    31437409  PHOSPHORYLATION     P31946\n",
       "29  K117   28    1   27  117       87791      ACETYLATION     P31946\n",
       "30  K117    4    0    4  117    44105401   UBIQUITYLATION     P31946\n",
       "31  Y120    1    0    1  120     7330749  PHOSPHORYLATION     P31946\n",
       "32  K122   14    1   13  122     7298879      ACETYLATION     P31946\n",
       "33  K122   79    0   79  122     7848393   UBIQUITYLATION     P31946\n",
       "34  K124   14    0   14  124    24624027   UBIQUITYLATION     P31946\n",
       "35  Y127    7    0    7  127     7098339  PHOSPHORYLATION     P31946\n",
       "36  Y130    8    0    8  130     7178853  PHOSPHORYLATION     P31946\n",
       "37  S132    3    1    2  132     6272029  PHOSPHORYLATION     P31946\n",
       "38  S136    6    0    6  136    31437415  PHOSPHORYLATION     P31946\n",
       "39  K140   54    0   54  140     7868161   UBIQUITYLATION     P31946\n",
       "40  T143    1    1    0  143     6272039  PHOSPHORYLATION     P31946\n",
       "41  Y151    2    0    2  151     7178867  PHOSPHORYLATION     P31946\n",
       "42  K159    6    0    6  159    24846149      ACETYLATION     P31946\n",
       "43  K159    3    0    3  159    42255601   UBIQUITYLATION     P31946\n",
       "44  K159    1    0    1  159    66716657    SUCCINYLATION     P31946\n",
       "45  K160   57    0   57  160    16209873   UBIQUITYLATION     P31946\n",
       "46  S186    8    3    5  186       17373  PHOSPHORYLATION     P31946\n",
       "47  K195   12    0   12  195    30767401   UBIQUITYLATION     P31946\n",
       "48  T207    3    0    3  207    46155601  PHOSPHORYLATION     P31946\n",
       "49  S212    1    0    1  212   110743789  PHOSPHORYLATION     P31946\n",
       "50  Y213    1    0    1  213   110743799  PHOSPHORYLATION     P31946\n",
       "51  K214    3    0    3  214    77015273      ACETYLATION     P31946\n",
       "52  T228    1    0    1  228    69003519  PHOSPHORYLATION     P31946\n",
       "53  T231    2    0    2  231    69006687  PHOSPHORYLATION     P31946\n",
       "54  S232    1    0    1  232    69012421  PHOSPHORYLATION     P31946"
      ]
     },
     "execution_count": 13,
     "metadata": {},
     "output_type": "execute_result"
    }
   ],
   "source": [
    "uniprot_id = all_proteins[0]\n",
    "mods = get_psp_mods(uniprot_id)\n",
    "mods"
   ]
  },
  {
   "cell_type": "markdown",
   "metadata": {},
   "source": [
    "## Get data for Nicola's proteins."
   ]
  },
  {
   "cell_type": "code",
   "execution_count": 27,
   "metadata": {},
   "outputs": [
    {
     "data": {
      "text/plain": [
       "26"
      ]
     },
     "execution_count": 27,
     "metadata": {},
     "output_type": "execute_result"
    }
   ],
   "source": [
    "filepath = \"uniprot_ids.txt\"\n",
    "with open(filepath) as fp:\n",
    "    # read in \n",
    "    uniprot_ids = fp.read().splitlines()\n",
    "    # only non-empty lines\n",
    "    uniprot_ids = [uid for uid in uniprot_ids if uid != \"\"]\n",
    "    # remove duplicates\n",
    "    uniprot_ids = list(set(uniprot_ids))\n",
    "\n",
    "len(uniprot_ids)"
   ]
  },
  {
   "cell_type": "code",
   "execution_count": 30,
   "metadata": {},
   "outputs": [
    {
     "data": {
      "text/html": [
       "<div>\n",
       "<style scoped>\n",
       "    .dataframe tbody tr th:only-of-type {\n",
       "        vertical-align: middle;\n",
       "    }\n",
       "\n",
       "    .dataframe tbody tr th {\n",
       "        vertical-align: top;\n",
       "    }\n",
       "\n",
       "    .dataframe thead th {\n",
       "        text-align: right;\n",
       "    }\n",
       "</style>\n",
       "<table border=\"1\" class=\"dataframe\">\n",
       "  <thead>\n",
       "    <tr style=\"text-align: right;\">\n",
       "      <th></th>\n",
       "      <th>uniprot_id</th>\n",
       "      <th>id</th>\n",
       "      <th>ref</th>\n",
       "      <th>ltp</th>\n",
       "      <th>htp</th>\n",
       "      <th>pos</th>\n",
       "      <th>pubmed</th>\n",
       "      <th>mod</th>\n",
       "    </tr>\n",
       "  </thead>\n",
       "  <tbody>\n",
       "    <tr>\n",
       "      <th>0</th>\n",
       "      <td>P31946</td>\n",
       "      <td>T2</td>\n",
       "      <td>5</td>\n",
       "      <td>0</td>\n",
       "      <td>5</td>\n",
       "      <td>2</td>\n",
       "      <td>31437427</td>\n",
       "      <td>PHOSPHORYLATION</td>\n",
       "    </tr>\n",
       "    <tr>\n",
       "      <th>1</th>\n",
       "      <td>P31946</td>\n",
       "      <td>K5</td>\n",
       "      <td>4</td>\n",
       "      <td>0</td>\n",
       "      <td>4</td>\n",
       "      <td>5</td>\n",
       "      <td>66695325</td>\n",
       "      <td>ACETYLATION</td>\n",
       "    </tr>\n",
       "    <tr>\n",
       "      <th>2</th>\n",
       "      <td>P31946</td>\n",
       "      <td>K5</td>\n",
       "      <td>4</td>\n",
       "      <td>0</td>\n",
       "      <td>4</td>\n",
       "      <td>5</td>\n",
       "      <td>82962801</td>\n",
       "      <td>UBIQUITYLATION</td>\n",
       "    </tr>\n",
       "    <tr>\n",
       "      <th>3</th>\n",
       "      <td>P31946</td>\n",
       "      <td>S6</td>\n",
       "      <td>9</td>\n",
       "      <td>0</td>\n",
       "      <td>9</td>\n",
       "      <td>6</td>\n",
       "      <td>31437421</td>\n",
       "      <td>PHOSPHORYLATION</td>\n",
       "    </tr>\n",
       "    <tr>\n",
       "      <th>4</th>\n",
       "      <td>P31946</td>\n",
       "      <td>K11</td>\n",
       "      <td>35</td>\n",
       "      <td>0</td>\n",
       "      <td>35</td>\n",
       "      <td>11</td>\n",
       "      <td>9907695</td>\n",
       "      <td>UBIQUITYLATION</td>\n",
       "    </tr>\n",
       "    <tr>\n",
       "      <th>...</th>\n",
       "      <td>...</td>\n",
       "      <td>...</td>\n",
       "      <td>...</td>\n",
       "      <td>...</td>\n",
       "      <td>...</td>\n",
       "      <td>...</td>\n",
       "      <td>...</td>\n",
       "      <td>...</td>\n",
       "    </tr>\n",
       "    <tr>\n",
       "      <th>443588</th>\n",
       "      <td>Q8IYH5</td>\n",
       "      <td>S677</td>\n",
       "      <td>1</td>\n",
       "      <td>0</td>\n",
       "      <td>1</td>\n",
       "      <td>677</td>\n",
       "      <td>46155443</td>\n",
       "      <td>PHOSPHORYLATION</td>\n",
       "    </tr>\n",
       "    <tr>\n",
       "      <th>443589</th>\n",
       "      <td>Q8IYH5</td>\n",
       "      <td>K701</td>\n",
       "      <td>1</td>\n",
       "      <td>0</td>\n",
       "      <td>1</td>\n",
       "      <td>701</td>\n",
       "      <td>22647657</td>\n",
       "      <td>ACETYLATION</td>\n",
       "    </tr>\n",
       "    <tr>\n",
       "      <th>443590</th>\n",
       "      <td>Q8IYH5</td>\n",
       "      <td>K725</td>\n",
       "      <td>1</td>\n",
       "      <td>0</td>\n",
       "      <td>1</td>\n",
       "      <td>725</td>\n",
       "      <td>22647669</td>\n",
       "      <td>ACETYLATION</td>\n",
       "    </tr>\n",
       "    <tr>\n",
       "      <th>443591</th>\n",
       "      <td>Q8IYH5</td>\n",
       "      <td>K738</td>\n",
       "      <td>1</td>\n",
       "      <td>0</td>\n",
       "      <td>1</td>\n",
       "      <td>738</td>\n",
       "      <td>22647663</td>\n",
       "      <td>ACETYLATION</td>\n",
       "    </tr>\n",
       "    <tr>\n",
       "      <th>443592</th>\n",
       "      <td>Q8IYH5</td>\n",
       "      <td>S777</td>\n",
       "      <td>2</td>\n",
       "      <td>0</td>\n",
       "      <td>2</td>\n",
       "      <td>777</td>\n",
       "      <td>82911861</td>\n",
       "      <td>PHOSPHORYLATION</td>\n",
       "    </tr>\n",
       "  </tbody>\n",
       "</table>\n",
       "<p>443593 rows × 8 columns</p>\n",
       "</div>"
      ],
      "text/plain": [
       "       uniprot_id    id  ref  ltp  htp  pos    pubmed              mod\n",
       "0          P31946    T2    5    0    5    2  31437427  PHOSPHORYLATION\n",
       "1          P31946    K5    4    0    4    5  66695325      ACETYLATION\n",
       "2          P31946    K5    4    0    4    5  82962801   UBIQUITYLATION\n",
       "3          P31946    S6    9    0    9    6  31437421  PHOSPHORYLATION\n",
       "4          P31946   K11   35    0   35   11   9907695   UBIQUITYLATION\n",
       "...           ...   ...  ...  ...  ...  ...       ...              ...\n",
       "443588     Q8IYH5  S677    1    0    1  677  46155443  PHOSPHORYLATION\n",
       "443589     Q8IYH5  K701    1    0    1  701  22647657      ACETYLATION\n",
       "443590     Q8IYH5  K725    1    0    1  725  22647669      ACETYLATION\n",
       "443591     Q8IYH5  K738    1    0    1  738  22647663      ACETYLATION\n",
       "443592     Q8IYH5  S777    2    0    2  777  82911861  PHOSPHORYLATION\n",
       "\n",
       "[443593 rows x 8 columns]"
      ]
     },
     "execution_count": 30,
     "metadata": {},
     "output_type": "execute_result"
    }
   ],
   "source": [
    "# load in psp_mods.csv\n",
    "psp_mods = pd.read_csv(\"psp_mods.csv\")\n",
    "# put \"uniprot_id\" as first column\n",
    "cols = list(psp_mods.columns)\n",
    "cols = [cols[-1]] + cols[:-1]\n",
    "psp_mods = psp_mods[cols]\n",
    "psp_mods"
   ]
  },
  {
   "cell_type": "code",
   "execution_count": 34,
   "metadata": {},
   "outputs": [
    {
     "name": "stdout",
     "output_type": "stream",
     "text": [
      "P41229 43\n",
      "Q9Y2K7 49\n",
      "Q9Y4K0 19\n",
      "Q15652 159\n",
      "Q8NB78 29\n",
      "O14607 25\n",
      "O94953 53\n",
      "Q6ZMT4 18\n",
      "Q9UPP1 76\n",
      "P29375 94\n",
      "B2RXH2 3\n",
      "A0A1W2PPD8 0\n",
      "Q9UGL1 80\n",
      "O60341 75\n",
      "O75164 45\n",
      "O15054 35\n",
      "Q9BY66 29\n",
      "Q9H6W3 18\n",
      "Q9H3R0 44\n",
      "O75151 68\n",
      "Q7LBC6 148\n",
      "O15550 32\n",
      "Q6B0I6 6\n",
      "Q8N371 5\n",
      "Q9Y4C1 82\n",
      "Q8NHM5 69\n"
     ]
    }
   ],
   "source": [
    "for uniprot_id in uniprot_ids:\n",
    "    df = psp_mods[psp_mods[\"uniprot_id\"] == uniprot_id]\n",
    "    print(uniprot_id, len(df))"
   ]
  },
  {
   "cell_type": "code",
   "execution_count": 62,
   "metadata": {},
   "outputs": [
    {
     "name": "stdout",
     "output_type": "stream",
     "text": [
      "['PHOSPHORYLATION' 'UBIQUITYLATION' 'ACETYLATION' 'SUMOYLATION'\n",
      " 'MONO-METHYLATION' 'DI-METHYLATION' 'O-GlcNAc' 'N-GLYCOSYLATION'\n",
      " 'TRI-METHYLATION' 'SUCCINYLATION']\n"
     ]
    },
    {
     "data": {
      "text/html": [
       "<div>\n",
       "<style scoped>\n",
       "    .dataframe tbody tr th:only-of-type {\n",
       "        vertical-align: middle;\n",
       "    }\n",
       "\n",
       "    .dataframe tbody tr th {\n",
       "        vertical-align: top;\n",
       "    }\n",
       "\n",
       "    .dataframe thead th {\n",
       "        text-align: right;\n",
       "    }\n",
       "</style>\n",
       "<table border=\"1\" class=\"dataframe\">\n",
       "  <thead>\n",
       "    <tr style=\"text-align: right;\">\n",
       "      <th></th>\n",
       "      <th>uniprot_id</th>\n",
       "      <th>mod_residue</th>\n",
       "      <th>position</th>\n",
       "      <th>LTP_refs</th>\n",
       "      <th>HTP_refs</th>\n",
       "      <th>total_refs</th>\n",
       "      <th>pubmed_ids</th>\n",
       "      <th>mod_type</th>\n",
       "    </tr>\n",
       "  </thead>\n",
       "  <tbody>\n",
       "    <tr>\n",
       "      <th>22987</th>\n",
       "      <td>Q8NB78</td>\n",
       "      <td>S</td>\n",
       "      <td>13</td>\n",
       "      <td>0</td>\n",
       "      <td>11</td>\n",
       "      <td>11</td>\n",
       "      <td>44702637</td>\n",
       "      <td>phosphorylation</td>\n",
       "    </tr>\n",
       "    <tr>\n",
       "      <th>22988</th>\n",
       "      <td>Q8NB78</td>\n",
       "      <td>S</td>\n",
       "      <td>17</td>\n",
       "      <td>0</td>\n",
       "      <td>32</td>\n",
       "      <td>32</td>\n",
       "      <td>6413095</td>\n",
       "      <td>phosphorylation</td>\n",
       "    </tr>\n",
       "    <tr>\n",
       "      <th>22989</th>\n",
       "      <td>Q8NB78</td>\n",
       "      <td>S</td>\n",
       "      <td>20</td>\n",
       "      <td>0</td>\n",
       "      <td>1</td>\n",
       "      <td>1</td>\n",
       "      <td>72272009</td>\n",
       "      <td>phosphorylation</td>\n",
       "    </tr>\n",
       "    <tr>\n",
       "      <th>22990</th>\n",
       "      <td>Q8NB78</td>\n",
       "      <td>S</td>\n",
       "      <td>25</td>\n",
       "      <td>0</td>\n",
       "      <td>1</td>\n",
       "      <td>1</td>\n",
       "      <td>63776481</td>\n",
       "      <td>phosphorylation</td>\n",
       "    </tr>\n",
       "    <tr>\n",
       "      <th>22991</th>\n",
       "      <td>Q8NB78</td>\n",
       "      <td>S</td>\n",
       "      <td>26</td>\n",
       "      <td>0</td>\n",
       "      <td>1</td>\n",
       "      <td>1</td>\n",
       "      <td>62177033</td>\n",
       "      <td>phosphorylation</td>\n",
       "    </tr>\n",
       "    <tr>\n",
       "      <th>...</th>\n",
       "      <td>...</td>\n",
       "      <td>...</td>\n",
       "      <td>...</td>\n",
       "      <td>...</td>\n",
       "      <td>...</td>\n",
       "      <td>...</td>\n",
       "      <td>...</td>\n",
       "      <td>...</td>\n",
       "    </tr>\n",
       "    <tr>\n",
       "      <th>416653</th>\n",
       "      <td>O14607</td>\n",
       "      <td>S</td>\n",
       "      <td>776</td>\n",
       "      <td>0</td>\n",
       "      <td>2</td>\n",
       "      <td>2</td>\n",
       "      <td>81445053</td>\n",
       "      <td>phosphorylation</td>\n",
       "    </tr>\n",
       "    <tr>\n",
       "      <th>416654</th>\n",
       "      <td>O14607</td>\n",
       "      <td>S</td>\n",
       "      <td>793</td>\n",
       "      <td>0</td>\n",
       "      <td>1</td>\n",
       "      <td>1</td>\n",
       "      <td>82910609</td>\n",
       "      <td>phosphorylation</td>\n",
       "    </tr>\n",
       "    <tr>\n",
       "      <th>416656</th>\n",
       "      <td>O14607</td>\n",
       "      <td>T</td>\n",
       "      <td>1033</td>\n",
       "      <td>0</td>\n",
       "      <td>1</td>\n",
       "      <td>1</td>\n",
       "      <td>6146239</td>\n",
       "      <td>phosphorylation</td>\n",
       "    </tr>\n",
       "    <tr>\n",
       "      <th>416657</th>\n",
       "      <td>O14607</td>\n",
       "      <td>S</td>\n",
       "      <td>1038</td>\n",
       "      <td>0</td>\n",
       "      <td>1</td>\n",
       "      <td>1</td>\n",
       "      <td>6146247</td>\n",
       "      <td>phosphorylation</td>\n",
       "    </tr>\n",
       "    <tr>\n",
       "      <th>416661</th>\n",
       "      <td>O14607</td>\n",
       "      <td>S</td>\n",
       "      <td>1213</td>\n",
       "      <td>0</td>\n",
       "      <td>1</td>\n",
       "      <td>1</td>\n",
       "      <td>46144115</td>\n",
       "      <td>phosphorylation</td>\n",
       "    </tr>\n",
       "  </tbody>\n",
       "</table>\n",
       "<p>739 rows × 8 columns</p>\n",
       "</div>"
      ],
      "text/plain": [
       "       uniprot_id mod_residue  position  LTP_refs  HTP_refs  total_refs  \\\n",
       "22987      Q8NB78           S        13         0        11          11   \n",
       "22988      Q8NB78           S        17         0        32          32   \n",
       "22989      Q8NB78           S        20         0         1           1   \n",
       "22990      Q8NB78           S        25         0         1           1   \n",
       "22991      Q8NB78           S        26         0         1           1   \n",
       "...           ...         ...       ...       ...       ...         ...   \n",
       "416653     O14607           S       776         0         2           2   \n",
       "416654     O14607           S       793         0         1           1   \n",
       "416656     O14607           T      1033         0         1           1   \n",
       "416657     O14607           S      1038         0         1           1   \n",
       "416661     O14607           S      1213         0         1           1   \n",
       "\n",
       "        pubmed_ids         mod_type  \n",
       "22987     44702637  phosphorylation  \n",
       "22988      6413095  phosphorylation  \n",
       "22989     72272009  phosphorylation  \n",
       "22990     63776481  phosphorylation  \n",
       "22991     62177033  phosphorylation  \n",
       "...            ...              ...  \n",
       "416653    81445053  phosphorylation  \n",
       "416654    82910609  phosphorylation  \n",
       "416656     6146239  phosphorylation  \n",
       "416657     6146247  phosphorylation  \n",
       "416661    46144115  phosphorylation  \n",
       "\n",
       "[739 rows x 8 columns]"
      ]
     },
     "execution_count": 62,
     "metadata": {},
     "output_type": "execute_result"
    }
   ],
   "source": [
    "# psp_mods whose uniprot id is in uniprot_ids\n",
    "df = psp_mods[psp_mods[\"uniprot_id\"].isin(uniprot_ids)]\n",
    "print(df[\"mod\"].unique())\n",
    "# just phosphorylation\n",
    "df = df[df[\"mod\"] == \"PHOSPHORYLATION\"]\n",
    "\n",
    "# change \"id\" column to first character of \"id\" column\n",
    "df[\"id\"] = df[\"id\"].apply(lambda x: x[0])\n",
    "\n",
    "# rename columns using dict\n",
    "rename_dict = dict(\n",
    "    id = \"mod_residue\",\n",
    "    ref = \"total_refs\",\n",
    "    ltp = \"LTP_refs\",\n",
    "    htp = \"HTP_refs\",\n",
    "    pos = \"position\",\n",
    "    pubmed = \"pubmed_ids\",\n",
    "    mod = \"mod_type\",\n",
    ")\n",
    "df = df.rename(columns=rename_dict)\n",
    "\n",
    "# make mod_type lowercase\n",
    "df[\"mod_type\"] = df[\"mod_type\"].apply(lambda x: x.lower())\n",
    "\n",
    "# Put \"pos\" after \"mod_residue\"\n",
    "cols = [\"uniprot_id\", \"mod_residue\", \"position\", \"LTP_refs\", \"HTP_refs\", \"total_refs\", \"pubmed_ids\", \"mod_type\"]\n",
    "df = df[cols]\n",
    "df"
   ]
  },
  {
   "cell_type": "code",
   "execution_count": 54,
   "metadata": {},
   "outputs": [],
   "source": [
    "# Save df to csv \n",
    "df.to_csv(\"psp_mods_nicola_proteins.csv\", index=False)\n"
   ]
  },
  {
   "cell_type": "code",
   "execution_count": 63,
   "metadata": {},
   "outputs": [
    {
     "data": {
      "text/html": [
       "<div>\n",
       "<style scoped>\n",
       "    .dataframe tbody tr th:only-of-type {\n",
       "        vertical-align: middle;\n",
       "    }\n",
       "\n",
       "    .dataframe tbody tr th {\n",
       "        vertical-align: top;\n",
       "    }\n",
       "\n",
       "    .dataframe thead th {\n",
       "        text-align: right;\n",
       "    }\n",
       "</style>\n",
       "<table border=\"1\" class=\"dataframe\">\n",
       "  <thead>\n",
       "    <tr style=\"text-align: right;\">\n",
       "      <th></th>\n",
       "      <th>uniprot_id</th>\n",
       "      <th>mod_residue</th>\n",
       "      <th>position</th>\n",
       "      <th>LTP_refs</th>\n",
       "      <th>HTP_refs</th>\n",
       "      <th>total_refs</th>\n",
       "      <th>pubmed_ids</th>\n",
       "      <th>mod_type</th>\n",
       "    </tr>\n",
       "  </thead>\n",
       "  <tbody>\n",
       "    <tr>\n",
       "      <th>22987</th>\n",
       "      <td>Q8NB78</td>\n",
       "      <td>S</td>\n",
       "      <td>13</td>\n",
       "      <td>0</td>\n",
       "      <td>11</td>\n",
       "      <td>11</td>\n",
       "      <td>44702637</td>\n",
       "      <td>phosphorylation</td>\n",
       "    </tr>\n",
       "    <tr>\n",
       "      <th>22988</th>\n",
       "      <td>Q8NB78</td>\n",
       "      <td>S</td>\n",
       "      <td>17</td>\n",
       "      <td>0</td>\n",
       "      <td>32</td>\n",
       "      <td>32</td>\n",
       "      <td>6413095</td>\n",
       "      <td>phosphorylation</td>\n",
       "    </tr>\n",
       "    <tr>\n",
       "      <th>22989</th>\n",
       "      <td>Q8NB78</td>\n",
       "      <td>S</td>\n",
       "      <td>20</td>\n",
       "      <td>0</td>\n",
       "      <td>1</td>\n",
       "      <td>1</td>\n",
       "      <td>72272009</td>\n",
       "      <td>phosphorylation</td>\n",
       "    </tr>\n",
       "    <tr>\n",
       "      <th>22990</th>\n",
       "      <td>Q8NB78</td>\n",
       "      <td>S</td>\n",
       "      <td>25</td>\n",
       "      <td>0</td>\n",
       "      <td>1</td>\n",
       "      <td>1</td>\n",
       "      <td>63776481</td>\n",
       "      <td>phosphorylation</td>\n",
       "    </tr>\n",
       "    <tr>\n",
       "      <th>22991</th>\n",
       "      <td>Q8NB78</td>\n",
       "      <td>S</td>\n",
       "      <td>26</td>\n",
       "      <td>0</td>\n",
       "      <td>1</td>\n",
       "      <td>1</td>\n",
       "      <td>62177033</td>\n",
       "      <td>phosphorylation</td>\n",
       "    </tr>\n",
       "    <tr>\n",
       "      <th>...</th>\n",
       "      <td>...</td>\n",
       "      <td>...</td>\n",
       "      <td>...</td>\n",
       "      <td>...</td>\n",
       "      <td>...</td>\n",
       "      <td>...</td>\n",
       "      <td>...</td>\n",
       "      <td>...</td>\n",
       "    </tr>\n",
       "    <tr>\n",
       "      <th>416653</th>\n",
       "      <td>O14607</td>\n",
       "      <td>S</td>\n",
       "      <td>776</td>\n",
       "      <td>0</td>\n",
       "      <td>2</td>\n",
       "      <td>2</td>\n",
       "      <td>81445053</td>\n",
       "      <td>phosphorylation</td>\n",
       "    </tr>\n",
       "    <tr>\n",
       "      <th>416654</th>\n",
       "      <td>O14607</td>\n",
       "      <td>S</td>\n",
       "      <td>793</td>\n",
       "      <td>0</td>\n",
       "      <td>1</td>\n",
       "      <td>1</td>\n",
       "      <td>82910609</td>\n",
       "      <td>phosphorylation</td>\n",
       "    </tr>\n",
       "    <tr>\n",
       "      <th>416656</th>\n",
       "      <td>O14607</td>\n",
       "      <td>T</td>\n",
       "      <td>1033</td>\n",
       "      <td>0</td>\n",
       "      <td>1</td>\n",
       "      <td>1</td>\n",
       "      <td>6146239</td>\n",
       "      <td>phosphorylation</td>\n",
       "    </tr>\n",
       "    <tr>\n",
       "      <th>416657</th>\n",
       "      <td>O14607</td>\n",
       "      <td>S</td>\n",
       "      <td>1038</td>\n",
       "      <td>0</td>\n",
       "      <td>1</td>\n",
       "      <td>1</td>\n",
       "      <td>6146247</td>\n",
       "      <td>phosphorylation</td>\n",
       "    </tr>\n",
       "    <tr>\n",
       "      <th>416661</th>\n",
       "      <td>O14607</td>\n",
       "      <td>S</td>\n",
       "      <td>1213</td>\n",
       "      <td>0</td>\n",
       "      <td>1</td>\n",
       "      <td>1</td>\n",
       "      <td>46144115</td>\n",
       "      <td>phosphorylation</td>\n",
       "    </tr>\n",
       "  </tbody>\n",
       "</table>\n",
       "<p>739 rows × 8 columns</p>\n",
       "</div>"
      ],
      "text/plain": [
       "       uniprot_id mod_residue  position  LTP_refs  HTP_refs  total_refs  \\\n",
       "22987      Q8NB78           S        13         0        11          11   \n",
       "22988      Q8NB78           S        17         0        32          32   \n",
       "22989      Q8NB78           S        20         0         1           1   \n",
       "22990      Q8NB78           S        25         0         1           1   \n",
       "22991      Q8NB78           S        26         0         1           1   \n",
       "...           ...         ...       ...       ...       ...         ...   \n",
       "416653     O14607           S       776         0         2           2   \n",
       "416654     O14607           S       793         0         1           1   \n",
       "416656     O14607           T      1033         0         1           1   \n",
       "416657     O14607           S      1038         0         1           1   \n",
       "416661     O14607           S      1213         0         1           1   \n",
       "\n",
       "        pubmed_ids         mod_type  \n",
       "22987     44702637  phosphorylation  \n",
       "22988      6413095  phosphorylation  \n",
       "22989     72272009  phosphorylation  \n",
       "22990     63776481  phosphorylation  \n",
       "22991     62177033  phosphorylation  \n",
       "...            ...              ...  \n",
       "416653    81445053  phosphorylation  \n",
       "416654    82910609  phosphorylation  \n",
       "416656     6146239  phosphorylation  \n",
       "416657     6146247  phosphorylation  \n",
       "416661    46144115  phosphorylation  \n",
       "\n",
       "[739 rows x 8 columns]"
      ]
     },
     "execution_count": 63,
     "metadata": {},
     "output_type": "execute_result"
    }
   ],
   "source": [
    "df"
   ]
  },
  {
   "cell_type": "code",
   "execution_count": 67,
   "metadata": {},
   "outputs": [
    {
     "data": {
      "image/png": "[encoded data removed]",
      "text/plain": [
       "<Figure size 1000x500 with 1 Axes>"
      ]
     },
     "metadata": {},
     "output_type": "display_data"
    }
   ],
   "source": [
    "# Plot histogram of number of HTP_refs per uniprot_id \n",
    "import matplotlib.pyplot as plt\n",
    "import seaborn as sns\n",
    "\n",
    "# plot histogram of HTP_refs\n",
    "plt.figure(figsize=(10, 5))\n",
    "sns.histplot(data=df, x=\"LTP_refs\", bins=200)\n",
    "plt.title(\"Histogram of TP_refs\")\n",
    "plt.show()"
   ]
  }
 ],
 "metadata": {
  "kernelspec": {
   "display_name": "Python 3.9.16 ('phosphosite')",
   "language": "python",
   "name": "python3"
  },
  "language_info": {
   "codemirror_mode": {
    "name": "ipython",
    "version": 3
   },
   "file_extension": ".py",
   "mimetype": "text/x-python",
   "name": "python",
   "nbconvert_exporter": "python",
   "pygments_lexer": "ipython3",
   "version": "3.9.16"
  },
  "orig_nbformat": 4,
  "vscode": {
   "interpreter": {
    "hash": "9edadec71027bc8d6f8f17d577ba0fe2884012c0dad6df4c8824f7cf865abdf8"
   }
  }
 },
 "nbformat": 4,
 "nbformat_minor": 2
}
