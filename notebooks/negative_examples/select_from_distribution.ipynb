{
 "cells": [
  {
   "cell_type": "markdown",
   "metadata": {},
   "source": [
    "#### Select negative examples \n",
    "\n",
    "1. Find candidate not-phosphosites (unsite) from excluding identified phosphorylations. \n",
    "2. Filter out candidates that do not appear on peptides with sufficient evidence. \n",
    "3. Get structural annotation of all candidates. \n",
    "4. Get structural annotation of positive examples.\n",
    "5. "
   ]
  },
  {
   "cell_type": "code",
   "execution_count": null,
   "metadata": {},
   "outputs": [],
   "source": []
  }
 ],
 "metadata": {
  "language_info": {
   "name": "python"
  },
  "orig_nbformat": 4
 },
 "nbformat": 4,
 "nbformat_minor": 2
}
