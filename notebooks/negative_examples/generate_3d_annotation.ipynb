{
 "cells": [
  {
   "cell_type": "markdown",
   "metadata": {},
   "source": [
    "#### Select negative examples \n",
    "\n",
    "1. Find candidate not-phosphosites (unsite) from excluding identified phosphorylations. \n",
    "2. Filter out candidates that do not appear on peptides with sufficient evidence. \n",
    "3. Get structural annotation of all candidates. \n",
    "4. Get structural annotation of positive examples.\n",
    "5. Select from negative candidates such that same amount in distribution (i.e. histogram bins)"
   ]
  },
  {
   "cell_type": "markdown",
   "metadata": {},
   "source": [
    "### Select negative examples\n",
    "\n",
    "Use structural annotations to select negative examples that follow the same distribution as positive examples."
   ]
  },
  {
   "cell_type": "code",
   "execution_count": 3,
   "metadata": {},
   "outputs": [],
   "source": [
    "# Autoreload \n",
    "%load_ext autoreload\n",
    "%autoreload 2\n",
    "import pandas as pd \n",
    "import numpy as np\n",
    "\n",
    "from pathlib import Path\n",
    "from typing import Union, List, Tuple, Dict, Optional\n",
    "\n",
    "# STFU\n",
    "pd.options.mode.chained_assignment = None  # default='warn'\n",
    "import warnings\n",
    "warnings.simplefilter(action='ignore', category=FutureWarning)"
   ]
  },
  {
   "cell_type": "code",
   "execution_count": null,
   "metadata": {},
   "outputs": [],
   "source": [
    "#uniprot_ids = "
   ]
  },
  {
   "cell_type": "code",
   "execution_count": 8,
   "metadata": {},
   "outputs": [
    {
     "data": {
      "text/plain": [
       "True"
      ]
     },
     "execution_count": 8,
     "metadata": {},
     "output_type": "execute_result"
    }
   ],
   "source": [
    "# home directory \n",
    "cif_dir = Path.home() / \"STRUCTURAL_MOTIFS\" / \"DATA\" / \"AF_HUMAN_CIF\"\n",
    "cif_dir.is_dir()\n",
    "\n",
    "\n",
    "# TODO: add symlink to cif_dir in this directory\n",
    "\n",
    "pae_dir = Path.home() / \"STRUCTURAL_MOTIFS\" / \"DATA\" / \"AF_HUMAN_PAE\""
   ]
  },
  {
   "cell_type": "code",
   "execution_count": 1,
   "metadata": {},
   "outputs": [
    {
     "name": "stdout",
     "output_type": "stream",
     "text": [
      "2023-10-05 18:01:18> NumExpr defaulting to 8 threads.\n"
     ]
    },
    {
     "ename": "NameError",
     "evalue": "name 'uniprot_ids' is not defined",
     "output_type": "error",
     "traceback": [
      "\u001b[0;31m---------------------------------------------------------------------------\u001b[0m",
      "\u001b[0;31mNameError\u001b[0m                                 Traceback (most recent call last)",
      "\u001b[1;32m/home/cim/STRUCTURAL_MOTIFS/phosphosite/notebooks/negative_examples/select_from_distribution.ipynb Cell 4\u001b[0m line \u001b[0;36m7\n\u001b[1;32m      <a href='vscode-notebook-cell:/home/cim/STRUCTURAL_MOTIFS/phosphosite/notebooks/negative_examples/select_from_distribution.ipynb#W3sZmlsZQ%3D%3D?line=2'>3</a>\u001b[0m \u001b[39mfrom\u001b[39;00m \u001b[39mstructuremap\u001b[39;00m\u001b[39m.\u001b[39;00m\u001b[39mprocessing\u001b[39;00m \u001b[39mimport\u001b[39;00m download_alphafold_cif, download_alphafold_pae, format_alphafold_data, annotate_accessibility, get_smooth_score, annotate_proteins_with_idr_pattern, get_extended_flexible_pattern, get_proximity_pvals, perform_enrichment_analysis, perform_enrichment_analysis_per_protein, evaluate_ptm_colocalization, extract_motifs_in_proteome\n\u001b[1;32m      <a href='vscode-notebook-cell:/home/cim/STRUCTURAL_MOTIFS/phosphosite/notebooks/negative_examples/select_from_distribution.ipynb#W3sZmlsZQ%3D%3D?line=3'>4</a>\u001b[0m \u001b[39mfrom\u001b[39;00m \u001b[39mstructuremap\u001b[39;00m\u001b[39m.\u001b[39;00m\u001b[39mplotting\u001b[39;00m \u001b[39mimport\u001b[39;00m plot_enrichment, plot_ptm_colocalization\n\u001b[1;32m      <a href='vscode-notebook-cell:/home/cim/STRUCTURAL_MOTIFS/phosphosite/notebooks/negative_examples/select_from_distribution.ipynb#W3sZmlsZQ%3D%3D?line=5'>6</a>\u001b[0m valid_proteins_cif, invalid_proteins_cif, existing_proteins_cif \u001b[39m=\u001b[39m download_alphafold_cif(\n\u001b[0;32m----> <a href='vscode-notebook-cell:/home/cim/STRUCTURAL_MOTIFS/phosphosite/notebooks/negative_examples/select_from_distribution.ipynb#W3sZmlsZQ%3D%3D?line=6'>7</a>\u001b[0m     proteins\u001b[39m=\u001b[39muniprot_ids,\n\u001b[1;32m      <a href='vscode-notebook-cell:/home/cim/STRUCTURAL_MOTIFS/phosphosite/notebooks/negative_examples/select_from_distribution.ipynb#W3sZmlsZQ%3D%3D?line=7'>8</a>\u001b[0m     out_folder\u001b[39m=\u001b[39m\u001b[39mself\u001b[39m\u001b[39m.\u001b[39mcif_dir)\n\u001b[1;32m      <a href='vscode-notebook-cell:/home/cim/STRUCTURAL_MOTIFS/phosphosite/notebooks/negative_examples/select_from_distribution.ipynb#W3sZmlsZQ%3D%3D?line=8'>9</a>\u001b[0m \u001b[39mif\u001b[39;00m \u001b[39mself\u001b[39m\u001b[39m.\u001b[39mverbose: \u001b[39mprint\u001b[39m(\u001b[39m\"\u001b[39m\u001b[39mDownloading PAE into \u001b[39m\u001b[39m{self.pae_dir}\u001b[39;00m\u001b[39m...\u001b[39m\u001b[39m\"\u001b[39m)\n\u001b[1;32m     <a href='vscode-notebook-cell:/home/cim/STRUCTURAL_MOTIFS/phosphosite/notebooks/negative_examples/select_from_distribution.ipynb#W3sZmlsZQ%3D%3D?line=9'>10</a>\u001b[0m valid_proteins_pae, invalid_proteins_pae, existing_proteins_pae \u001b[39m=\u001b[39m download_alphafold_pae(\n\u001b[1;32m     <a href='vscode-notebook-cell:/home/cim/STRUCTURAL_MOTIFS/phosphosite/notebooks/negative_examples/select_from_distribution.ipynb#W3sZmlsZQ%3D%3D?line=10'>11</a>\u001b[0m     proteins\u001b[39m=\u001b[39muniprot_ids,\n\u001b[1;32m     <a href='vscode-notebook-cell:/home/cim/STRUCTURAL_MOTIFS/phosphosite/notebooks/negative_examples/select_from_distribution.ipynb#W3sZmlsZQ%3D%3D?line=11'>12</a>\u001b[0m     out_folder\u001b[39m=\u001b[39m\u001b[39mself\u001b[39m\u001b[39m.\u001b[39mpae_dir, \n\u001b[1;32m     <a href='vscode-notebook-cell:/home/cim/STRUCTURAL_MOTIFS/phosphosite/notebooks/negative_examples/select_from_distribution.ipynb#W3sZmlsZQ%3D%3D?line=12'>13</a>\u001b[0m     )\n",
      "\u001b[0;31mNameError\u001b[0m: name 'uniprot_ids' is not defined"
     ]
    }
   ],
   "source": [
    "import structuremap.utils\n",
    "structuremap.utils.set_logger()\n",
    "from structuremap.processing import download_alphafold_cif, download_alphafold_pae, format_alphafold_data, annotate_accessibility, get_smooth_score, annotate_proteins_with_idr_pattern, get_extended_flexible_pattern, get_proximity_pvals, perform_enrichment_analysis, perform_enrichment_analysis_per_protein, evaluate_ptm_colocalization, extract_motifs_in_proteome\n",
    "from structuremap.plotting import plot_enrichment, plot_ptm_colocalization\n",
    "\n",
    "verbose = True\n",
    "valid_proteins_cif, invalid_proteins_cif, existing_proteins_cif = download_alphafold_cif(\n",
    "    proteins=uniprot_ids,\n",
    "    out_folder=cif_dir)\n",
    "\n",
    "\n",
    "if verbose: print(\"Downloading PAE into {self.pae_dir}...\")\n",
    "valid_proteins_pae, invalid_proteins_pae, existing_proteins_pae = download_alphafold_pae(\n",
    "    proteins=uniprot_ids,\n",
    "    out_folder=pae_dir, \n",
    ")\n",
    "\n",
    "\"\"\"Annotate AlphaFold data\"\"\"\n",
    "alphafold_annotation = format_alphafold_data(\n",
    "    directory=cif_dir, \n",
    "    protein_ids=uniprot_ids)\n",
    "\n",
    "\"\"\"Annotate pPSE\"\"\"\n",
    "full_sphere_exposure = annotate_accessibility(\n",
    "    df=alphafold_annotation, \n",
    "    max_dist=24, \n",
    "    max_angle=180, \n",
    "    error_dir=self.pae_dir)\n",
    "\n",
    "alphafold_accessibility = alphafold_annotation.merge(\n",
    "    full_sphere_exposure, how='left', on=['protein_id','AA','position'])\n",
    "\n",
    "part_sphere_exposure = annotate_accessibility(\n",
    "    df=alphafold_annotation, \n",
    "    max_dist=12, \n",
    "    max_angle=70, \n",
    "    error_dir=self.pae_dir)\n",
    "\n",
    "alphafold_accessibility = alphafold_accessibility.merge(\n",
    "    part_sphere_exposure, how='left', on=['protein_id','AA','position'])\n",
    "\n",
    "alphafold_accessibility['high_acc_5'] = np.where(alphafold_accessibility.nAA_12_70_pae <= 5, 1, 0)\n",
    "alphafold_accessibility['low_acc_5'] = np.where(alphafold_accessibility.nAA_12_70_pae > 5, 1, 0)\n",
    "\n",
    "\"\"\"Annotate IDRs\"\"\"\n",
    "alphafold_accessibility_smooth = get_smooth_score(\n",
    "    alphafold_accessibility, \n",
    "    np.array(['nAA_24_180_pae']), \n",
    "    [10])\n",
    "alphafold_accessibility_smooth['IDR'] = np.where(\n",
    "alphafold_accessibility_smooth['nAA_24_180_pae_smooth10']<=34.27, 1, 0)\n",
    "\n",
    "\"\"\"Annotate short IDRs\"\"\"\n",
    "alphafold_accessibility_smooth_pattern = annotate_proteins_with_idr_pattern(\n",
    "    alphafold_accessibility_smooth,\n",
    "    min_structured_length = 80, \n",
    "    max_unstructured_length = 20)\n",
    "\n",
    "alphafold_accessibility_smooth_pattern_ext = get_extended_flexible_pattern(\n",
    "    alphafold_accessibility_smooth_pattern, \n",
    "    ['flexible_pattern'], [5])"
   ]
  }
 ],
 "metadata": {
  "kernelspec": {
   "display_name": "phosphosite_ml",
   "language": "python",
   "name": "python3"
  },
  "language_info": {
   "codemirror_mode": {
    "name": "ipython",
    "version": 3
   },
   "file_extension": ".py",
   "mimetype": "text/x-python",
   "name": "python",
   "nbconvert_exporter": "python",
   "pygments_lexer": "ipython3",
   "version": "3.9.16"
  },
  "orig_nbformat": 4
 },
 "nbformat": 4,
 "nbformat_minor": 2
}
