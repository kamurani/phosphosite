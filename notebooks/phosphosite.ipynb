{
 "cells": [
  {
   "cell_type": "code",
   "execution_count": 1,
   "metadata": {},
   "outputs": [],
   "source": [
    "# Autoreload \n",
    "%load_ext autoreload\n",
    "%autoreload 2"
   ]
  },
  {
   "cell_type": "code",
   "execution_count": null,
   "metadata": {},
   "outputs": [],
   "source": [
    "# Load PTM data, annotate alphafold structures \n",
    "# in order to get distribution of pLDDT (or IDR annotations)\n",
    "\n",
    "# Then, randomly select same number of STY locations with same distribution from \n",
    "# the same set of proteins.  (negative examples)\n",
    "\n",
    "# Dataloader class to provide data to model (graphs with label) \n",
    "# Model class to train model on data\n",
    "\n"
   ]
  },
  {
   "cell_type": "code",
   "execution_count": null,
   "metadata": {},
   "outputs": [],
   "source": [
    "import yaml"
   ]
  },
  {
   "attachments": {},
   "cell_type": "markdown",
   "metadata": {},
   "source": [
    "#### Load phosphorylation sites from PhosphoSitePlus"
   ]
  },
  {
   "cell_type": "code",
   "execution_count": null,
   "metadata": {},
   "outputs": [],
   "source": [
    "with open(\"psp/config.yml\", 'r') as ymlfile:\n",
    "    cfg = yaml.load(ymlfile, Loader=yaml.FullLoader)\n",
    "\n",
    "# Get the path to the DATASET_DIR\n",
    "DATASET_DIR = Path(cfg['DATASET_DIR']).expanduser()\n",
    "\n",
    "# PhosphoSitePlus datasets \n",
    "PSP_DIR = DATASET_DIR / 'PSP' \n",
    "assert PSP_DIR.is_dir()\n",
    "\n",
    "P_PATH          = PSP_DIR / \"Phosphorylation_site_dataset\"  # Phosphorylation sites dataset\n",
    "REG_PATH        = PSP_DIR / \"Regulatory_sites\"              # Regulatory sites dataset\n",
    "PTM_SEQ_PATH    = PSP_DIR / \"Phosphosite_PTM_seq.fasta\"     # FASTA formatted sequences of all substrate proteins.  Lowercase letters indicate the phosphorylation sites.\n",
    "\n",
    "# Assert that the paths are existing files\n",
    "assert P_PATH.is_file()\n",
    "assert REG_PATH.is_file()\n",
    "assert PTM_SEQ_PATH.is_file()"
   ]
  }
 ],
 "metadata": {
  "kernelspec": {
   "display_name": "Python 3",
   "language": "python",
   "name": "python3"
  },
  "language_info": {
   "codemirror_mode": {
    "name": "ipython",
    "version": 3
   },
   "file_extension": ".py",
   "mimetype": "text/x-python",
   "name": "python",
   "nbconvert_exporter": "python",
   "pygments_lexer": "ipython3",
   "version": "3.9.6"
  },
  "orig_nbformat": 4,
  "vscode": {
   "interpreter": {
    "hash": "31f2aee4e71d21fbe5cf8b01ff0e069b9275f58929596ceb00d14d90e3e16cd6"
   }
  }
 },
 "nbformat": 4,
 "nbformat_minor": 2
}
