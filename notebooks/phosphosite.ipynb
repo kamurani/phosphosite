{
 "cells": [
  {
   "cell_type": "code",
   "execution_count": 1,
   "metadata": {},
   "outputs": [],
   "source": [
    "# Autoreload \n",
    "%load_ext autoreload\n",
    "%autoreload 2"
   ]
  },
  {
   "cell_type": "code",
   "execution_count": 2,
   "metadata": {},
   "outputs": [],
   "source": [
    "# Load PTM data, annotate alphafold structures \n",
    "# in order to get distribution of pLDDT (or IDR annotations)\n",
    "\n",
    "# Then, randomly select same number of STY locations with same distribution from \n",
    "# the same set of proteins.  (negative examples)\n",
    "\n",
    "# Dataloader class to provide data to model (graphs with label) \n",
    "# Model class to train model on data\n",
    "\n"
   ]
  },
  {
   "cell_type": "code",
   "execution_count": 3,
   "metadata": {},
   "outputs": [],
   "source": [
    "import yaml\n",
    "from pathlib import Path\n",
    "\n",
    "import pandas as pd \n",
    "import numpy as np"
   ]
  },
  {
   "attachments": {},
   "cell_type": "markdown",
   "metadata": {},
   "source": [
    "#### Load phosphorylation sites from PhosphoSitePlus"
   ]
  },
  {
   "cell_type": "code",
   "execution_count": 4,
   "metadata": {},
   "outputs": [],
   "source": [
    "with open(\"config.yml\", 'r') as ymlfile:\n",
    "    cfg = yaml.load(ymlfile, Loader=yaml.FullLoader)\n",
    "\n",
    "# Get the path to the DATASET_DIR\n",
    "DATASET_DIR = Path(cfg['DATASET_DIR']).expanduser()\n",
    "\n",
    "# PhosphoSitePlus datasets \n",
    "PSP_DIR = DATASET_DIR / 'PSP' \n",
    "assert PSP_DIR.is_dir()\n",
    "\n",
    "P_PATH          = PSP_DIR / \"Phosphorylation_site_dataset\"  # Phosphorylation sites dataset\n",
    "REG_PATH        = PSP_DIR / \"Regulatory_sites\"              # Regulatory sites dataset\n",
    "PTM_SEQ_PATH    = PSP_DIR / \"Phosphosite_PTM_seq.fasta\"     # FASTA formatted sequences of all substrate proteins.  Lowercase letters indicate the phosphorylation sites.\n",
    "\n",
    "# Assert that the paths are existing files\n",
    "assert P_PATH.is_file()\n",
    "assert REG_PATH.is_file()\n",
    "assert PTM_SEQ_PATH.is_file()"
   ]
  },
  {
   "cell_type": "code",
   "execution_count": null,
   "metadata": {},
   "outputs": [],
   "source": [
    "# Data dir \n",
    "from phosphosite import CIF_DIR, PAE_DIR, PDB_DIR"
   ]
  },
  {
   "cell_type": "code",
   "execution_count": 5,
   "metadata": {},
   "outputs": [],
   "source": [
    "from phosphosite.dataset import PhosphoSequenceList\n",
    "\n",
    "ptm_seq = PhosphoSequenceList(PTM_SEQ_PATH)"
   ]
  },
  {
   "cell_type": "code",
   "execution_count": 6,
   "metadata": {},
   "outputs": [],
   "source": [
    "# Use structuremap to download AF models for the sites we have;\n",
    "# convert sites to `p` and `p_reg` dataframe"
   ]
  },
  {
   "cell_type": "code",
   "execution_count": 3,
   "metadata": {},
   "outputs": [],
   "source": [
    "# Function that generates matching distribution of STY sites \n",
    "\n",
    "\"\"\"\n",
    "Generate negative examples\n",
    "\"\"\"\n",
    "def get_negative_examples(\n",
    "    df: pd.DataFrame, \n",
    "    possible_residues: str = \"STY\",\n",
    "\n",
    "):\n",
    "    if isinstance(possible_residues, str):\n",
    "        possible_residues = list(possible_residues)\n",
    "    \n",
    "    "
   ]
  },
  {
   "attachments": {},
   "cell_type": "markdown",
   "metadata": {},
   "source": [
    "### Structural annotations"
   ]
  },
  {
   "cell_type": "code",
   "execution_count": 7,
   "metadata": {},
   "outputs": [],
   "source": [
    "# Import structuremap functions\n",
    "import structuremap.utils\n",
    "structuremap.utils.set_logger()\n",
    "from structuremap.processing import download_alphafold_cif, download_alphafold_pae, format_alphafold_data, annotate_accessibility, get_smooth_score, annotate_proteins_with_idr_pattern, get_extended_flexible_pattern, get_proximity_pvals, perform_enrichment_analysis, perform_enrichment_analysis_per_protein, evaluate_ptm_colocalization, extract_motifs_in_proteome\n",
    "from structuremap.plotting import plot_enrichment, plot_ptm_colocalization\n"
   ]
  },
  {
   "cell_type": "code",
   "execution_count": null,
   "metadata": {},
   "outputs": [],
   "source": [
    "cif_dir = os.path.join(output_dir, 'tutorial_cif')\n",
    "pae_dir = os.path.join(output_dir, 'tutorial_pae')"
   ]
  },
  {
   "cell_type": "code",
   "execution_count": null,
   "metadata": {},
   "outputs": [],
   "source": [
    "valid_proteins_cif, invalid_proteins_cif, existing_proteins_cif = download_alphafold_cif(\n",
    "    proteins=test_proteins,\n",
    "    out_folder=cif_dir)"
   ]
  }
 ],
 "metadata": {
  "kernelspec": {
   "display_name": "phosphosite",
   "language": "python",
   "name": "python3"
  },
  "language_info": {
   "codemirror_mode": {
    "name": "ipython",
    "version": 3
   },
   "file_extension": ".py",
   "mimetype": "text/x-python",
   "name": "python",
   "nbconvert_exporter": "python",
   "pygments_lexer": "ipython3",
   "version": "3.8.16"
  },
  "orig_nbformat": 4,
  "vscode": {
   "interpreter": {
    "hash": "334cecf752d7df47d9441a1b00fba07c5874c7f25a4921296ede3a6eb06396c2"
   }
  }
 },
 "nbformat": 4,
 "nbformat_minor": 2
}
