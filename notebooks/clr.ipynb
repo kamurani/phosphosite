{
 "cells": [
  {
   "cell_type": "code",
   "execution_count": 4,
   "metadata": {},
   "outputs": [],
   "source": [
    "# Autoreload \n",
    "%load_ext autoreload\n",
    "%autoreload 2\n",
    "\n",
    "from pathlib import Path \n",
    "import pandas as pd \n",
    "import numpy as np\n",
    "import os \n",
    "import re \n",
    "import gzip \n",
    "import shutil\n",
    "import Bio.PDB.MMCIF2Dict\n",
    "from typing import Union, List, Tuple, Dict, Optional\n",
    "from pathlib import Path\n",
    "\n",
    "pd.options.mode.chained_assignment = None  # default='warn'\n"
   ]
  },
  {
   "cell_type": "code",
   "execution_count": 5,
   "metadata": {},
   "outputs": [],
   "source": [
    "from phosphosite.load_data import background_df"
   ]
  },
  {
   "cell_type": "code",
   "execution_count": 6,
   "metadata": {},
   "outputs": [
    {
     "data": {
      "text/plain": [
       "<function composition_stats.clr(mat)>"
      ]
     },
     "execution_count": 6,
     "metadata": {},
     "output_type": "execute_result"
    }
   ],
   "source": [
    "from composition_stats import clr\n",
    "clr"
   ]
  },
  {
   "cell_type": "code",
   "execution_count": 25,
   "metadata": {},
   "outputs": [
    {
     "name": "stderr",
     "output_type": "stream",
     "text": [
      "/home/cim/anaconda3/envs/phosphosite/lib/python3.9/site-packages/composition_stats/__init__.py:467: RuntimeWarning: divide by zero encountered in log\n",
      "  lmat = np.log(mat)\n",
      "/home/cim/anaconda3/envs/phosphosite/lib/python3.9/site-packages/composition_stats/__init__.py:469: RuntimeWarning: invalid value encountered in subtract\n",
      "  return (lmat - gm).squeeze()\n"
     ]
    },
    {
     "data": {
      "text/html": [
       "<div>\n",
       "<style scoped>\n",
       "    .dataframe tbody tr th:only-of-type {\n",
       "        vertical-align: middle;\n",
       "    }\n",
       "\n",
       "    .dataframe tbody tr th {\n",
       "        vertical-align: top;\n",
       "    }\n",
       "\n",
       "    .dataframe thead th {\n",
       "        text-align: right;\n",
       "    }\n",
       "</style>\n",
       "<table border=\"1\" class=\"dataframe\">\n",
       "  <thead>\n",
       "    <tr style=\"text-align: right;\">\n",
       "      <th></th>\n",
       "      <th>A</th>\n",
       "      <th>B</th>\n",
       "      <th>C</th>\n",
       "      <th>D</th>\n",
       "    </tr>\n",
       "  </thead>\n",
       "  <tbody>\n",
       "    <tr>\n",
       "      <th>0</th>\n",
       "      <td>-0.794513</td>\n",
       "      <td>0.304099</td>\n",
       "      <td>0.591781</td>\n",
       "      <td>-0.101366</td>\n",
       "    </tr>\n",
       "    <tr>\n",
       "      <th>1</th>\n",
       "      <td>-0.101366</td>\n",
       "      <td>0.304099</td>\n",
       "      <td>0.591781</td>\n",
       "      <td>-0.794513</td>\n",
       "    </tr>\n",
       "    <tr>\n",
       "      <th>2</th>\n",
       "      <td>0.000000</td>\n",
       "      <td>0.000000</td>\n",
       "      <td>0.000000</td>\n",
       "      <td>0.000000</td>\n",
       "    </tr>\n",
       "    <tr>\n",
       "      <th>3</th>\n",
       "      <td>inf</td>\n",
       "      <td>inf</td>\n",
       "      <td>inf</td>\n",
       "      <td>NaN</td>\n",
       "    </tr>\n",
       "  </tbody>\n",
       "</table>\n",
       "</div>"
      ],
      "text/plain": [
       "          A         B         C         D\n",
       "0 -0.794513  0.304099  0.591781 -0.101366\n",
       "1 -0.101366  0.304099  0.591781 -0.794513\n",
       "2  0.000000  0.000000  0.000000  0.000000\n",
       "3       inf       inf       inf       NaN"
      ]
     },
     "execution_count": 25,
     "metadata": {},
     "output_type": "execute_result"
    }
   ],
   "source": [
    "x = np.array([\n",
    "    [.1, .3, .4, .2],\n",
    "    [.2, .3, .4, .1],\n",
    "    [.1, .1, .1, .1],\n",
    "    [.1, .1, .1, 0],\n",
    "],\n",
    "    \n",
    ")\n",
    "# create dataframe from this \n",
    "df = pd.DataFrame(x, columns=[\"A\", \"B\", \"C\", \"D\"])\n",
    "\n",
    "norm = clr(df.to_numpy())\n",
    "\n",
    "# put norm back into df with original index \n",
    "df = pd.DataFrame(norm, columns=[\"A\", \"B\", \"C\", \"D\"], index=df.index)\n",
    "df\n",
    "\n",
    "\n",
    "\n"
   ]
  }
 ],
 "metadata": {
  "kernelspec": {
   "display_name": "Python 3.9.16 ('phosphosite')",
   "language": "python",
   "name": "python3"
  },
  "language_info": {
   "codemirror_mode": {
    "name": "ipython",
    "version": 3
   },
   "file_extension": ".py",
   "mimetype": "text/x-python",
   "name": "python",
   "nbconvert_exporter": "python",
   "pygments_lexer": "ipython3",
   "version": "3.9.16"
  },
  "orig_nbformat": 4,
  "vscode": {
   "interpreter": {
    "hash": "9edadec71027bc8d6f8f17d577ba0fe2884012c0dad6df4c8824f7cf865abdf8"
   }
  }
 },
 "nbformat": 4,
 "nbformat_minor": 2
}
