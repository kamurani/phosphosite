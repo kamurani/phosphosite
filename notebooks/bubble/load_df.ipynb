{
 "cells": [
  {
   "cell_type": "code",
   "execution_count": 1,
   "metadata": {},
   "outputs": [
    {
     "data": {
      "text/plain": [
       "True"
      ]
     },
     "execution_count": 1,
     "metadata": {},
     "output_type": "execute_result"
    }
   ],
   "source": [
    "# Autoreload \n",
    "%load_ext autoreload\n",
    "%autoreload 2\n",
    "\n",
    "from pathlib import Path \n",
    "import pandas as pd \n",
    "import numpy as np\n",
    "import os \n",
    "import re \n",
    "import gzip \n",
    "import shutil\n",
    "import Bio.PDB.MMCIF2Dict\n",
    "from typing import Union, List, Tuple, Dict, Optional\n",
    "from pathlib import Path\n",
    "from tqdm import tqdm\n",
    "\n",
    "pd.options.mode.chained_assignment = None  # default='warn'\n",
    "\n",
    "from phosphosite.utils import aa1to3, aa3to1\n",
    "\n",
    "from phosphosite.domain import map_site_to_domain, download_uniprot_data\n",
    "from phosphosite import UNIPROT_DATA_DIR \n",
    "UNIPROT_DATA_DIR.is_dir()\n"
   ]
  },
  {
   "cell_type": "code",
   "execution_count": 2,
   "metadata": {},
   "outputs": [
    {
     "data": {
      "text/html": [
       "<div>\n",
       "<style scoped>\n",
       "    .dataframe tbody tr th:only-of-type {\n",
       "        vertical-align: middle;\n",
       "    }\n",
       "\n",
       "    .dataframe tbody tr th {\n",
       "        vertical-align: top;\n",
       "    }\n",
       "\n",
       "    .dataframe thead th {\n",
       "        text-align: right;\n",
       "    }\n",
       "</style>\n",
       "<table border=\"1\" class=\"dataframe\">\n",
       "  <thead>\n",
       "    <tr style=\"text-align: right;\">\n",
       "      <th></th>\n",
       "      <th>protein_id</th>\n",
       "      <th>prev</th>\n",
       "      <th>res</th>\n",
       "      <th>pos</th>\n",
       "      <th>next</th>\n",
       "      <th>ref_atom</th>\n",
       "      <th>ref_atom_dist</th>\n",
       "      <th>nn_res</th>\n",
       "      <th>nn_pos</th>\n",
       "      <th>nn_atom</th>\n",
       "      <th>site_qual</th>\n",
       "      <th>site_structure</th>\n",
       "      <th>nn_qual</th>\n",
       "      <th>nn_structure</th>\n",
       "      <th>seq_dist</th>\n",
       "      <th>triplet</th>\n",
       "      <th>phosphosite</th>\n",
       "    </tr>\n",
       "  </thead>\n",
       "  <tbody>\n",
       "    <tr>\n",
       "      <th>0</th>\n",
       "      <td>A0A075B759</td>\n",
       "      <td>N</td>\n",
       "      <td>S</td>\n",
       "      <td>4</td>\n",
       "      <td>V</td>\n",
       "      <td>CA</td>\n",
       "      <td>4.805941</td>\n",
       "      <td>Q</td>\n",
       "      <td>163</td>\n",
       "      <td>NE2</td>\n",
       "      <td>93.22</td>\n",
       "      <td>unstructured</td>\n",
       "      <td>96.92</td>\n",
       "      <td>STRN</td>\n",
       "      <td>159</td>\n",
       "      <td>NSV</td>\n",
       "      <td>False</td>\n",
       "    </tr>\n",
       "    <tr>\n",
       "      <th>1</th>\n",
       "      <td>A0A075B759</td>\n",
       "      <td>N</td>\n",
       "      <td>S</td>\n",
       "      <td>4</td>\n",
       "      <td>V</td>\n",
       "      <td>OG</td>\n",
       "      <td>3.702720</td>\n",
       "      <td>Q</td>\n",
       "      <td>163</td>\n",
       "      <td>NE2</td>\n",
       "      <td>93.22</td>\n",
       "      <td>unstructured</td>\n",
       "      <td>96.92</td>\n",
       "      <td>STRN</td>\n",
       "      <td>159</td>\n",
       "      <td>NSV</td>\n",
       "      <td>False</td>\n",
       "    </tr>\n",
       "  </tbody>\n",
       "</table>\n",
       "</div>"
      ],
      "text/plain": [
       "   protein_id prev res  pos next ref_atom  ref_atom_dist nn_res  nn_pos  \\\n",
       "0  A0A075B759    N   S    4    V       CA       4.805941      Q     163   \n",
       "1  A0A075B759    N   S    4    V       OG       3.702720      Q     163   \n",
       "\n",
       "  nn_atom  site_qual site_structure  nn_qual nn_structure  seq_dist triplet  \\\n",
       "0     NE2      93.22   unstructured    96.92         STRN       159     NSV   \n",
       "1     NE2      93.22   unstructured    96.92         STRN       159     NSV   \n",
       "\n",
       "   phosphosite  \n",
       "0        False  \n",
       "1        False  "
      ]
     },
     "execution_count": 2,
     "metadata": {},
     "output_type": "execute_result"
    }
   ],
   "source": [
    "from phosphosite.bubble.data import result_df\n",
    "result_df[0:2]"
   ]
  },
  {
   "cell_type": "code",
   "execution_count": 3,
   "metadata": {},
   "outputs": [
    {
     "data": {
      "text/plain": [
       "False    2276206\n",
       "True      297880\n",
       "Name: phosphosite, dtype: int64"
      ]
     },
     "execution_count": 3,
     "metadata": {},
     "output_type": "execute_result"
    }
   ],
   "source": [
    "result_df.phosphosite.value_counts()"
   ]
  }
 ],
 "metadata": {
  "kernelspec": {
   "display_name": "phosphosite",
   "language": "python",
   "name": "python3"
  },
  "language_info": {
   "codemirror_mode": {
    "name": "ipython",
    "version": 3
   },
   "file_extension": ".py",
   "mimetype": "text/x-python",
   "name": "python",
   "nbconvert_exporter": "python",
   "pygments_lexer": "ipython3",
   "version": "3.9.16"
  },
  "orig_nbformat": 4
 },
 "nbformat": 4,
 "nbformat_minor": 2
}
