{
 "cells": [
  {
   "cell_type": "markdown",
   "metadata": {},
   "source": [
    "#### Mapping specific sites to \n",
    "\n",
    "We can investigate specific signal patterns from the \"triplet- nearest-neighbour\" heatmaps and generate a list of proteins (and respective phosphosites) that contributed to that specific motif count.  \n",
    "\n",
    "We will then map these sites to a particular region (if annotated) and see if a known protein domain is attributed to this.  \n",
    "\n",
    "We can then compare this set of domains to the 'background' (i.e. all sites (phos and nonphos) that had that triplet-spatial-NN combination) to see if a particular domain can explain the \"enrichment\" of a particular \"pattern\" (i.e. nearest neighbour distribution) \n",
    "- yet to do actual statistics on this. \n",
    "- so far we have a bar graph visualisation. \n",
    "\n",
    "\n",
    "\n",
    "\n",
    "Same for Gene Ontology enrichment...? (i.e. function of these proteins) compare phosphosites to the background level.\n"
   ]
  },
  {
   "cell_type": "markdown",
   "metadata": {},
   "source": [
    "So for each notable signal in the heatmap: \n",
    "- manual investigation (i.e. example )"
   ]
  },
  {
   "cell_type": "code",
   "execution_count": null,
   "metadata": {},
   "outputs": [],
   "source": []
  }
 ],
 "metadata": {
  "language_info": {
   "name": "python"
  },
  "orig_nbformat": 4
 },
 "nbformat": 4,
 "nbformat_minor": 2
}
