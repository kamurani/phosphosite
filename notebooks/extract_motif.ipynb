{
 "cells": [
  {
   "cell_type": "code",
   "execution_count": 26,
   "metadata": {},
   "outputs": [
    {
     "name": "stdout",
     "output_type": "stream",
     "text": [
      "The autoreload extension is already loaded. To reload it, use:\n",
      "  %reload_ext autoreload\n"
     ]
    }
   ],
   "source": [
    "# Autoreload \n",
    "%load_ext autoreload\n",
    "%autoreload 2\n",
    "\n",
    "from pathlib import Path \n",
    "import pandas as pd \n",
    "import numpy as np\n",
    "import os \n",
    "import re \n",
    "import gzip \n",
    "import shutil\n",
    "import Bio.PDB.MMCIF2Dict\n",
    "from typing import Union, List, Tuple, Dict, Optional\n",
    "from pathlib import Path\n",
    "\n",
    "pd.options.mode.chained_assignment = None  # default='warn'\n",
    "\n",
    "from phosphosite.utils import aa1to3, aa3to1"
   ]
  },
  {
   "cell_type": "code",
   "execution_count": 3,
   "metadata": {},
   "outputs": [],
   "source": [
    "\"\"\"Initialise phosphosite dataset.\"\"\"\n",
    "from phosphosite.dataset import phosphorylation # Filtered out isoforms\n",
    "df = phosphorylation[phosphorylation[\"ORGANISM\"] == \"human\"]\n",
    "\n",
    "# Sort by ACC_ID\n",
    "df = df.sort_values(\"ACC_ID\")\n",
    "\n",
    "# Filter by residue type, first character in MOD_RSD\n",
    "allowed_residues = \"STY\"\n",
    "df = df[df[\"MOD_RSD\"].str[0].isin(list(allowed_residues))]\n",
    "phosphosite_df = df"
   ]
  },
  {
   "cell_type": "code",
   "execution_count": 5,
   "metadata": {},
   "outputs": [],
   "source": [
    "\n",
    "from phosphosite import DATA_DIR\n",
    "annotation_dir = DATA_DIR / \"structure_annotations\"\n",
    "\n",
    "if False:\n",
    "    N = 10000\n",
    "    filepath = annotation_dir / f\"structure_df_{N}.csv\"\n",
    "    # load df \n",
    "    structure_df = pd.read_csv(filepath, sep=\"\\t\")\n",
    "    structure_df.head()\n",
    "    # save df as HDF\n",
    "    structure_df.to_hdf(annotation_dir / f\"structure_df.h5\", key=\"structure_df\")"
   ]
  },
  {
   "cell_type": "code",
   "execution_count": 8,
   "metadata": {},
   "outputs": [],
   "source": [
    "# Load from h5 \n",
    "structure_df = pd.read_hdf(annotation_dir / f\"structure_df.h5\", key=\"structure_df\")"
   ]
  },
  {
   "cell_type": "code",
   "execution_count": 156,
   "metadata": {},
   "outputs": [],
   "source": [
    "# Filter to first 100 unique protein ids\n",
    "all_protein_ids = list(structure_df[\"protein_id\"].unique())\n",
    "protein_ids = all_protein_ids[0:100]\n",
    "subset_df = structure_df[structure_df[\"protein_id\"].isin(protein_ids)]"
   ]
  },
  {
   "cell_type": "code",
   "execution_count": 157,
   "metadata": {},
   "outputs": [
    {
     "data": {
      "text/plain": [
       "17336"
      ]
     },
     "execution_count": 157,
     "metadata": {},
     "output_type": "execute_result"
    }
   ],
   "source": [
    "len(all_protein_ids)"
   ]
  },
  {
   "cell_type": "code",
   "execution_count": 25,
   "metadata": {},
   "outputs": [],
   "source": [
    "def get_euc_dist(\n",
    "    arr1: np.ndarray, arr2: np.ndarray\n",
    "): \n",
    "    \"\"\"Get euclidean distance between two arrays.\"\"\"\n",
    "    return np.sqrt(np.sum((arr1 - arr2) ** 2))\n",
    "    \n",
    "\n",
    "def get_node_id(\n",
    "    site: str, \n",
    "    chain_id: str = \"A\",\n",
    ") -> str: \n",
    "    mod_rsd, modification = site.split(\"-\")\n",
    "    aa = aa1to3[mod_rsd[0]]\n",
    "    position = mod_rsd[1:]\n",
    "    node_id = f\"{chain_id}:{aa}:{position}\"\n",
    "    return node_id\n",
    "\n",
    "def generate_node_id(\n",
    "    node_dict: Dict[str, Union[str, int]],\n",
    "    delimiter: str = \":\",\n",
    ") -> str: \n",
    "    return delimiter.join([str(node_dict[s]) for s in [\"chain_id\", \"residue_name\", \"residue_number\"]])"
   ]
  },
  {
   "cell_type": "code",
   "execution_count": 185,
   "metadata": {},
   "outputs": [],
   "source": [
    "from tqdm import tqdm\n",
    "\n",
    "\"\"\"Process motifs for a given set of protein ids.\"\"\"\n",
    "def process_sites(\n",
    "    phosphosite_df: pd.DataFrame, \n",
    "    structure_df: pd.DataFrame,\n",
    "    protein_ids: List[str],\n",
    "    ref_atom: str = \"ca\", # [\"c\", \"ca\", \"cb\", \"n\"]\n",
    "    radius: float = 6.0,\n",
    "    adjacent_range: int = 1,\n",
    "    next_nearest: int = 2,\n",
    "    to_process: str = \"all\", # \"p\" for just phosphorylated.\n",
    "    residue_type: str = \"S\", # just serine for now.\n",
    "    verbose: bool = False,\n",
    "    filepath: Optional[Union[str, Path]] = None,\n",
    ") -> pd.DataFrame:\n",
    "    \"\"\"Process sites for a given protein id.\n",
    "    \n",
    "    Parameters\n",
    "    ----------\n",
    "    phosphosite_df : pd.DataFrame\n",
    "        Phosphosite df.\n",
    "    structure_df : pd.DataFrame\n",
    "        Structure df.\n",
    "    protein_id : List[str]\n",
    "        List of protein ids to process.\n",
    "    ref_atom : str, optional\n",
    "        Reference atom to use for calculating distances, by default \"ca\"\n",
    "    radius : float, optional\n",
    "        Radius to filter by, by default 6.0\n",
    "    adjacent_range : int, optional\n",
    "        Range of adjacent residues to exclude from \"next-nearest spatial\n",
    "        neighbour\" calculation, by default 1\n",
    "        For example, if adjacent_range = 1, then residues -1 and +1 will be\n",
    "        excluded from the candidates (relative to the site of interest's position).\n",
    "    next_nearest : int, optional\n",
    "        Number of next-nearest spatial neighbours to calculate, by default 2. \n",
    "        For example, if next_nearest = 2, then the 2 closest residues to the site\n",
    "        of interest will be calculated.  If there is no residue within the radius, \n",
    "        then the value will be NaN.\n",
    "\n",
    "    Returns\n",
    "    -------\n",
    "    pd.DataFrame\n",
    "        Processed sites df.\n",
    "\n",
    "    \"\"\"\n",
    "    if ref_atom not in [\"c\", \"ca\", \"cb\", \"n\"]:\n",
    "        raise ValueError(f\"Invalid reference atom: {ref_atom}\")\n",
    "\n",
    "    suffix = f\"_coord_{ref_atom}\"\n",
    "    def get_coords(row): \n",
    "        return np.array([row[x + suffix] for x in [\"x\", \"y\", \"z\"]])\n",
    "\n",
    "    if isinstance(protein_ids, str):\n",
    "        protein_ids = [protein_ids]\n",
    "\n",
    "    dict_list = []\n",
    "    pbar = tqdm(enumerate(protein_ids))\n",
    "    for counter, protein_id in pbar:\n",
    "        pbar.set_description(protein_id)\n",
    "\n",
    "        df = structure_df[structure_df[\"protein_id\"] == protein_id]         # filter structure_df for this protein_id\n",
    "        site_df = phosphosite_df[phosphosite_df[\"ACC_ID\"] == protein_id]    # filter phosphosite_df for this protein_id\n",
    "\n",
    "        # Get MOD_RSD column as list \n",
    "        mod_rsd = list(site_df[\"MOD_RSD\"])\n",
    "        mod_rsd = [x.split(\"-\")[0] for x in mod_rsd]\n",
    "        mod_rsd = [(x[0], int(x[1:])) for x in mod_rsd] # all known phosphosites for this protein\n",
    "        #mod_rsd = [f\"{x[0]}:{x[1:]}\" for x in mod_rsd]\n",
    "\n",
    "\n",
    "        if to_process == \"p\": \n",
    "            # Filter to just phosphorylated residues.\n",
    "            to_consider = [x for x in mod_rsd if x[0] in residue_type]\n",
    "\n",
    "        elif to_process == \"all\":\n",
    "            # Consider all allowed residues. \n",
    "            # i.e. every residue in df that is an allowed residue. \n",
    "            to_consider = []\n",
    "            for res in residue_type:\n",
    "                for pos in df[df[\"AA\"] == res][\"position\"].unique():\n",
    "                    to_consider.append((res, pos))\n",
    "\n",
    "        else: \n",
    "            raise ValueError(f\"Invalid value for to_process: {to_process}\")\n",
    "\n",
    "        for res, pos in to_consider: \n",
    "            # Get the first row that matches the residue and position, unless there are none\n",
    "            try:\n",
    "                row = df[(df[\"AA\"] == res) & (df[\"position\"] == pos)].iloc[0]   \n",
    "            except IndexError:\n",
    "                if verbose: tqdm.write(f\"[{protein_id}] Could not find centre residue {res} at position {pos}\")\n",
    "                continue\n",
    "        \n",
    "            site_qual = row[\"quality\"] # store pLDDT for centre residue.\n",
    "            \n",
    "            site_coords = get_coords(row)\n",
    "            is_phosphosite = (res, pos) in mod_rsd\n",
    "\n",
    "            # Get the previous and next residues\n",
    "            prev_dict = {}\n",
    "            for i in list(range(-adjacent_range, 0)): \n",
    "                try:\n",
    "                    next_row = df[(df[\"position\"] == pos + i)].iloc[0]\n",
    "                except IndexError:\n",
    "                    if verbose: tqdm.write(f\"[{protein_id}] Could not find residue at position {pos + i}\")\n",
    "                    prev_dict[f\"{i}\"] = np.nan\n",
    "                    continue\n",
    "                #coords = get_coords(next_row)\n",
    "                prev_dict[f\"{i}\"] = next_row[\"AA\"]+str(next_row[\"position\"]) # (next_row[\"AA\"], get_euc_dist(site_coords, coords))\n",
    "            \n",
    "            next_dict = {}\n",
    "            for i in list(range(0+1, adjacent_range+1)):\n",
    "                try:\n",
    "                    next_row = df[(df[\"position\"] == pos + i)].iloc[0]\n",
    "                except IndexError:\n",
    "                    if verbose: tqdm.write(f\"[{protein_id}] Could not find residue at position {pos + i}\")\n",
    "                    prev_dict[f\"+{i}\"] = np.nan\n",
    "                    continue\n",
    "                \n",
    "                #coords = get_coords(next_row)\n",
    "                next_dict[f\"+{i}\"] = next_row[\"AA\"]+str(next_row[\"position\"]) # (next_row[\"AA\"], get_euc_dist(site_coords, coords))\n",
    "            \n",
    "            # Filter df to rows within radius of site_coords. \n",
    "            candidate_df = df\n",
    "            candidate_df[\"euc_dist\"] = candidate_df.apply(lambda row: get_euc_dist(site_coords, get_coords(row)), axis=1)\n",
    "            candidate_df = candidate_df[candidate_df[\"euc_dist\"] <= radius]\n",
    "            # Exclude rows with position in [pos-adjacent_range, pos+adjacent_range]\n",
    "            candidate_df = candidate_df[~candidate_df[\"position\"].isin(list(range(pos-adjacent_range, pos+adjacent_range+1)))]\n",
    "            candidate_df[\"seq_dist\"] = candidate_df[\"position\"] - pos\n",
    "            \n",
    "            # sort in ascending order by euc_dist\n",
    "            candidate_df = candidate_df.sort_values(\"euc_dist\")\n",
    "            nearest_dict = {}\n",
    "            for i in range(1, next_nearest+1):\n",
    "                # If results in IndexError, then there are less than i residues within radius\n",
    "                # fill with NaN\n",
    "                try:\n",
    "                    next_row = candidate_df.iloc[i-1]\n",
    "                except IndexError:\n",
    "                    nearest_dict[f\"{i}_res\"] = np.nan\n",
    "                    nearest_dict[f\"{i}_euc_dist\"] = np.nan\n",
    "                    nearest_dict[f\"{i}_seq_dist\"] = np.nan\n",
    "                    continue\n",
    "                # Pick rank i of the nearest residues (euc_dist)\n",
    "                nearest_dict[f\"{i}_res\"] = next_row[\"AA\"] + str(next_row[\"position\"])\n",
    "                nearest_dict[f\"{i}_euc_dist\"] = next_row[\"euc_dist\"]\n",
    "                nearest_dict[f\"{i}_seq_dist\"] = next_row[\"seq_dist\"]\n",
    "            dict_list.append({\n",
    "                \"phosphosite\": is_phosphosite,\n",
    "                \"site_qual\": site_qual,\n",
    "                \"protein_id\": protein_id,\n",
    "                **prev_dict,\n",
    "                \"site\": f\"{res}{pos}\",\n",
    "                **next_dict,\n",
    "                **nearest_dict,\n",
    "            })\n",
    "            \n",
    "        # Save dataframe every 100 rows\n",
    "        if counter % 100 == 0:\n",
    "            print(f\"Saving dataframe to {filepath}\")\n",
    "            pd.DataFrame(dict_list).to_csv(filepath, sep=\"\\t\", index=False)\n",
    "    \n",
    "    final_df = pd.DataFrame(dict_list)\n",
    "    final_df.to_csv(filepath, sep=\"\\t\", index=False)\n",
    "    return final_df\n",
    "    # save df \n"
   ]
  },
  {
   "cell_type": "code",
   "execution_count": 183,
   "metadata": {},
   "outputs": [
    {
     "name": "stdout",
     "output_type": "stream",
     "text": [
      "Running /home/cim/STRUCTURAL_MOTIFS/phosphosite/data/motif/all-STY-6A2R3N-ca.csv ...\n"
     ]
    }
   ],
   "source": [
    "to_process = \"all\"\n",
    "residue_type = \"STY\"\n",
    "radius = 6.0\n",
    "residue_adjacent = 2\n",
    "next_nearest = 3\n",
    "ref_atom = \"ca\"\n",
    "\n",
    "out_filename = f\"{to_process}-{residue_type}-{int(radius)}A{residue_adjacent}R{next_nearest}N-{ref_atom}.csv\"\n",
    "\n",
    "outfile = DATA_DIR / \"motif\" / out_filename\n",
    "print(f\"Running {outfile} ...\")\n"
   ]
  },
  {
   "cell_type": "code",
   "execution_count": 191,
   "metadata": {},
   "outputs": [
    {
     "data": {
      "text/plain": [
       "100"
      ]
     },
     "execution_count": 191,
     "metadata": {},
     "output_type": "execute_result"
    }
   ],
   "source": [
    "# load df \n",
    "prev_processed_df = pd.read_csv(outfile, sep=\"\\t\")\n",
    "processed_ids = list(prev_processed_df[\"protein_id\"].unique())\n",
    "len(processed_ids)"
   ]
  },
  {
   "cell_type": "code",
   "execution_count": 194,
   "metadata": {},
   "outputs": [
    {
     "data": {
      "text/plain": [
       "(17236, 17336)"
      ]
     },
     "execution_count": 194,
     "metadata": {},
     "output_type": "execute_result"
    }
   ],
   "source": [
    "unprocessed_ids = [x for x in all_protein_ids if x not in processed_ids]\n",
    "len(unprocessed_ids), len(all_protein_ids)"
   ]
  },
  {
   "cell_type": "code",
   "execution_count": 186,
   "metadata": {},
   "outputs": [
    {
     "name": "stderr",
     "output_type": "stream",
     "text": [
      "A0A087WUL8: : 1it [00:00,  4.79it/s]"
     ]
    },
    {
     "name": "stdout",
     "output_type": "stream",
     "text": [
      "Saving dataframe to /home/cim/STRUCTURAL_MOTIFS/phosphosite/data/motif/all-STY-6A2R3N-ca.csv\n"
     ]
    },
    {
     "name": "stderr",
     "output_type": "stream",
     "text": [
      "A4D1P6: : 101it [04:36,  3.08s/it]  "
     ]
    },
    {
     "name": "stdout",
     "output_type": "stream",
     "text": [
      "Saving dataframe to /home/cim/STRUCTURAL_MOTIFS/phosphosite/data/motif/all-STY-6A2R3N-ca.csv\n"
     ]
    },
    {
     "name": "stderr",
     "output_type": "stream",
     "text": [
      "A6NFI3: : 201it [04:39, 34.04it/s]"
     ]
    },
    {
     "name": "stdout",
     "output_type": "stream",
     "text": [
      "Saving dataframe to /home/cim/STRUCTURAL_MOTIFS/phosphosite/data/motif/all-STY-6A2R3N-ca.csv\n"
     ]
    },
    {
     "name": "stderr",
     "output_type": "stream",
     "text": [
      "A6NKU9: : 304it [04:41, 26.51it/s]"
     ]
    },
    {
     "name": "stdout",
     "output_type": "stream",
     "text": [
      "Saving dataframe to /home/cim/STRUCTURAL_MOTIFS/phosphosite/data/motif/all-STY-6A2R3N-ca.csv\n"
     ]
    },
    {
     "name": "stderr",
     "output_type": "stream",
     "text": [
      "A8MTL9: : 400it [04:44, 46.12it/s]"
     ]
    },
    {
     "name": "stdout",
     "output_type": "stream",
     "text": [
      "Saving dataframe to /home/cim/STRUCTURAL_MOTIFS/phosphosite/data/motif/all-STY-6A2R3N-ca.csv\n"
     ]
    },
    {
     "name": "stderr",
     "output_type": "stream",
     "text": [
      "B7ZW38: : 501it [04:46, 31.46it/s]"
     ]
    },
    {
     "name": "stdout",
     "output_type": "stream",
     "text": [
      "Saving dataframe to /home/cim/STRUCTURAL_MOTIFS/phosphosite/data/motif/all-STY-6A2R3N-ca.csv\n"
     ]
    },
    {
     "name": "stderr",
     "output_type": "stream",
     "text": [
      "O00206: : 603it [04:49, 33.10it/s]"
     ]
    },
    {
     "name": "stdout",
     "output_type": "stream",
     "text": [
      "Saving dataframe to /home/cim/STRUCTURAL_MOTIFS/phosphosite/data/motif/all-STY-6A2R3N-ca.csv\n"
     ]
    },
    {
     "name": "stderr",
     "output_type": "stream",
     "text": [
      "O00559: : 701it [04:51, 33.65it/s]"
     ]
    },
    {
     "name": "stdout",
     "output_type": "stream",
     "text": [
      "Saving dataframe to /home/cim/STRUCTURAL_MOTIFS/phosphosite/data/motif/all-STY-6A2R3N-ca.csv\n"
     ]
    },
    {
     "name": "stderr",
     "output_type": "stream",
     "text": [
      "O14684: : 801it [04:53, 40.16it/s]"
     ]
    },
    {
     "name": "stdout",
     "output_type": "stream",
     "text": [
      "Saving dataframe to /home/cim/STRUCTURAL_MOTIFS/phosphosite/data/motif/all-STY-6A2R3N-ca.csv\n"
     ]
    },
    {
     "name": "stderr",
     "output_type": "stream",
     "text": [
      "O15018: : 903it [04:55, 35.79it/s]"
     ]
    },
    {
     "name": "stdout",
     "output_type": "stream",
     "text": [
      "Saving dataframe to /home/cim/STRUCTURAL_MOTIFS/phosphosite/data/motif/all-STY-6A2R3N-ca.csv\n"
     ]
    },
    {
     "name": "stderr",
     "output_type": "stream",
     "text": [
      "O15304: : 1002it [04:57, 40.78it/s]"
     ]
    },
    {
     "name": "stdout",
     "output_type": "stream",
     "text": [
      "Saving dataframe to /home/cim/STRUCTURAL_MOTIFS/phosphosite/data/motif/all-STY-6A2R3N-ca.csv\n"
     ]
    },
    {
     "name": "stderr",
     "output_type": "stream",
     "text": [
      "O43182: : 1105it [05:00, 36.16it/s]"
     ]
    },
    {
     "name": "stdout",
     "output_type": "stream",
     "text": [
      "Saving dataframe to /home/cim/STRUCTURAL_MOTIFS/phosphosite/data/motif/all-STY-6A2R3N-ca.csv\n"
     ]
    },
    {
     "name": "stderr",
     "output_type": "stream",
     "text": [
      "O43529: : 1204it [05:02, 34.96it/s]"
     ]
    },
    {
     "name": "stdout",
     "output_type": "stream",
     "text": [
      "Saving dataframe to /home/cim/STRUCTURAL_MOTIFS/phosphosite/data/motif/all-STY-6A2R3N-ca.csv\n"
     ]
    },
    {
     "name": "stderr",
     "output_type": "stream",
     "text": [
      "O43889: : 1300it [05:04, 44.02it/s]"
     ]
    },
    {
     "name": "stdout",
     "output_type": "stream",
     "text": [
      "Saving dataframe to /home/cim/STRUCTURAL_MOTIFS/phosphosite/data/motif/all-STY-6A2R3N-ca.csv\n"
     ]
    },
    {
     "name": "stderr",
     "output_type": "stream",
     "text": [
      "O60493: : 1404it [05:06, 39.02it/s]"
     ]
    },
    {
     "name": "stdout",
     "output_type": "stream",
     "text": [
      "Saving dataframe to /home/cim/STRUCTURAL_MOTIFS/phosphosite/data/motif/all-STY-6A2R3N-ca.csv\n"
     ]
    },
    {
     "name": "stderr",
     "output_type": "stream",
     "text": [
      "O60885: : 1503it [05:09, 37.25it/s]"
     ]
    },
    {
     "name": "stdout",
     "output_type": "stream",
     "text": [
      "Saving dataframe to /home/cim/STRUCTURAL_MOTIFS/phosphosite/data/motif/all-STY-6A2R3N-ca.csv\n"
     ]
    },
    {
     "name": "stderr",
     "output_type": "stream",
     "text": [
      "O75293: : 1598it [05:11, 51.29it/s]"
     ]
    },
    {
     "name": "stdout",
     "output_type": "stream",
     "text": [
      "Saving dataframe to /home/cim/STRUCTURAL_MOTIFS/phosphosite/data/motif/all-STY-6A2R3N-ca.csv\n"
     ]
    },
    {
     "name": "stderr",
     "output_type": "stream",
     "text": [
      "O75533: : 1701it [05:13, 33.31it/s]"
     ]
    },
    {
     "name": "stdout",
     "output_type": "stream",
     "text": [
      "Saving dataframe to /home/cim/STRUCTURAL_MOTIFS/phosphosite/data/motif/all-STY-6A2R3N-ca.csv\n"
     ]
    },
    {
     "name": "stderr",
     "output_type": "stream",
     "text": [
      "O75891: : 1800it [05:15, 50.66it/s]"
     ]
    },
    {
     "name": "stdout",
     "output_type": "stream",
     "text": [
      "Saving dataframe to /home/cim/STRUCTURAL_MOTIFS/phosphosite/data/motif/all-STY-6A2R3N-ca.csv\n"
     ]
    },
    {
     "name": "stderr",
     "output_type": "stream",
     "text": [
      "O94823: : 1901it [05:18, 30.77it/s]"
     ]
    },
    {
     "name": "stdout",
     "output_type": "stream",
     "text": [
      "Saving dataframe to /home/cim/STRUCTURAL_MOTIFS/phosphosite/data/motif/all-STY-6A2R3N-ca.csv\n"
     ]
    },
    {
     "name": "stderr",
     "output_type": "stream",
     "text": [
      "O95163: : 2000it [05:20,  6.24it/s]\n"
     ]
    }
   ],
   "source": [
    "processed_df = process_sites(\n",
    "    phosphosite_df, \n",
    "    structure_df, \n",
    "    protein_ids=unprocessed_ids, \n",
    "    adjacent_range=residue_adjacent,\n",
    "    next_nearest=next_nearest,\n",
    "    radius=radius,\n",
    "    to_process=to_process, # p\n",
    "    residue_type=residue_type,\n",
    "    ref_atom=ref_atom,\n",
    "    verbose=False,\n",
    "    filepath=outfile,\n",
    ")"
   ]
  },
  {
   "cell_type": "code",
   "execution_count": 187,
   "metadata": {},
   "outputs": [
    {
     "data": {
      "text/plain": [
       "10405"
      ]
     },
     "execution_count": 187,
     "metadata": {},
     "output_type": "execute_result"
    }
   ],
   "source": [
    "len(processed_df)"
   ]
  },
  {
   "cell_type": "code",
   "execution_count": 177,
   "metadata": {},
   "outputs": [
    {
     "data": {
      "text/plain": [
       "False    0.905815\n",
       "True     0.094185\n",
       "Name: phosphosite, dtype: float64"
      ]
     },
     "execution_count": 177,
     "metadata": {},
     "output_type": "execute_result"
    }
   ],
   "source": [
    "# What proportion have phosphosite True\n",
    "processed_df[\"phosphosite\"].value_counts(normalize=True)"
   ]
  },
  {
   "cell_type": "code",
   "execution_count": 178,
   "metadata": {},
   "outputs": [
    {
     "data": {
      "text/plain": [
       "S    0.508313\n",
       "T    0.329938\n",
       "Y    0.161749\n",
       "Name: site, dtype: float64"
      ]
     },
     "execution_count": 178,
     "metadata": {},
     "output_type": "execute_result"
    }
   ],
   "source": [
    "# What proportion have residues (i.e. first letter of 'site')\n",
    "processed_df[\"site\"].apply(lambda x: x[0]).value_counts(normalize=True)"
   ]
  },
  {
   "cell_type": "code",
   "execution_count": 141,
   "metadata": {},
   "outputs": [],
   "source": [
    "df = processed_df"
   ]
  },
  {
   "cell_type": "code",
   "execution_count": 142,
   "metadata": {},
   "outputs": [
    {
     "data": {
      "text/plain": [
       "S    0.598980\n",
       "T    0.242857\n",
       "Y    0.158163\n",
       "Name: site, dtype: float64"
      ]
     },
     "execution_count": 142,
     "metadata": {},
     "output_type": "execute_result"
    }
   ],
   "source": [
    "psite = df[df[\"phosphosite\"] == True]\n",
    "psite[\"site\"].apply(lambda x: x[0]).value_counts(normalize=True)"
   ]
  },
  {
   "cell_type": "code",
   "execution_count": 143,
   "metadata": {},
   "outputs": [
    {
     "data": {
      "text/plain": [
       "S    0.498886\n",
       "T    0.338992\n",
       "Y    0.162122\n",
       "Name: site, dtype: float64"
      ]
     },
     "execution_count": 143,
     "metadata": {},
     "output_type": "execute_result"
    }
   ],
   "source": [
    "notpsite = df[df[\"phosphosite\"] == False]\n",
    "notpsite[\"site\"].apply(lambda x: x[0]).value_counts(normalize=True)"
   ]
  },
  {
   "cell_type": "code",
   "execution_count": 161,
   "metadata": {},
   "outputs": [
    {
     "data": {
      "text/plain": [
       "S    0.479452\n",
       "Y    0.264840\n",
       "T    0.255708\n",
       "Name: site, dtype: float64"
      ]
     },
     "execution_count": 161,
     "metadata": {},
     "output_type": "execute_result"
    }
   ],
   "source": [
    "# psite rows with 1_res not NaN\n",
    "psite[psite[\"1_res\"].notna()][\"site\"].apply(lambda x: x[0]).value_counts(normalize=True)"
   ]
  },
  {
   "cell_type": "code",
   "execution_count": 162,
   "metadata": {},
   "outputs": [
    {
     "name": "stdout",
     "output_type": "stream",
     "text": [
      "Number of phosphosites with >= 1 nearest residues: 438\n",
      "Number of phosphosites with >= 2 nearest residues: 307\n",
      "Number of phosphosites with >= 3 nearest residues: 164\n"
     ]
    }
   ],
   "source": [
    "for n in [1, 2, 3]:\n",
    "    length = len(psite[psite[f\"{str(n)}_res\"].notna()])\n",
    "    print(f\"Number of phosphosites with >= {n} nearest residues: {length}\")"
   ]
  },
  {
   "cell_type": "code",
   "execution_count": 174,
   "metadata": {},
   "outputs": [
    {
     "name": "stdout",
     "output_type": "stream",
     "text": [
      "       1_euc_dist  1_seq_dist  2_euc_dist  2_seq_dist  3_euc_dist  3_seq_dist\n",
      "2        4.818600       122.0    5.002838        -3.0    5.410340       121.0\n",
      "426      4.805697       122.0    4.999018        -3.0    5.429360       121.0\n",
      "429      4.190240        21.0    4.771475        22.0    5.035984        20.0\n",
      "430      4.079906        29.0    5.360338        28.0    5.411511        30.0\n",
      "431      5.217619       -34.0    5.288498       -45.0    5.296298       -35.0\n",
      "...           ...         ...         ...         ...         ...         ...\n",
      "10142    5.411226      -142.0    5.498299        -3.0    5.719013      -143.0\n",
      "10143    4.967875      -144.0    5.666538      -146.0    5.919139      -143.0\n",
      "10145    4.317854      -153.0    5.605041      -165.0    5.647070      -123.0\n",
      "10170    4.263599         8.0    4.519881         9.0    5.526067        -4.0\n",
      "10278    5.020814         3.0    5.176321        -3.0    5.895667        -4.0\n",
      "\n",
      "[164 rows x 6 columns]\n"
     ]
    }
   ],
   "source": [
    "n = 3\n",
    "cols = [f\"{int(i)}_{res}\" for i in range(1, n+1) for res in [\"euc_dist\", \"seq_dist\"]]\n",
    "print(psite[psite[f\"{int(n)}_res\"].notna()][cols])"
   ]
  },
  {
   "cell_type": "code",
   "execution_count": 155,
   "metadata": {},
   "outputs": [],
   "source": [
    "N = len(df.protein_id.unique())\n",
    "fn = out_filename + f\"-{N}P.csv\"\n",
    "outfile = DATA_DIR / \"motif\" / fn\n",
    "# save df \n",
    "df.to_csv(outfile, index=False)"
   ]
  }
 ],
 "metadata": {
  "kernelspec": {
   "display_name": "Python 3.9.16 ('phosphosite')",
   "language": "python",
   "name": "python3"
  },
  "language_info": {
   "codemirror_mode": {
    "name": "ipython",
    "version": 3
   },
   "file_extension": ".py",
   "mimetype": "text/x-python",
   "name": "python",
   "nbconvert_exporter": "python",
   "pygments_lexer": "ipython3",
   "version": "3.9.16"
  },
  "orig_nbformat": 4,
  "vscode": {
   "interpreter": {
    "hash": "9edadec71027bc8d6f8f17d577ba0fe2884012c0dad6df4c8824f7cf865abdf8"
   }
  }
 },
 "nbformat": 4,
 "nbformat_minor": 2
}
