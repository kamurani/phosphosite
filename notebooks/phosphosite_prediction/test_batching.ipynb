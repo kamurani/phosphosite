{
 "cells": [
  {
   "cell_type": "markdown",
   "metadata": {},
   "source": [
    "#### Inspect a batch and check that the forward pass of the model works and gives a prediction."
   ]
  },
  {
   "cell_type": "code",
   "execution_count": 1,
   "metadata": {},
   "outputs": [],
   "source": [
    "# Autoreload \n",
    "%load_ext autoreload\n",
    "%autoreload 2\n",
    "\n",
    "from pathlib import Path"
   ]
  },
  {
   "cell_type": "code",
   "execution_count": null,
   "metadata": {},
   "outputs": [],
   "source": [
    "root_dir = Path(\"./dataset/\")\n",
    "\n",
    "from phosphosite.ml.dataset import PhosphoGraphDataset\n",
    "from phosphosite import PHOSPHOSITE_PREDICT_DIR\n",
    "\n",
    "dataset = PhosphoGraphDataset(root=PHOSPHOSITE_PREDICT_DIR / \"dataset\")"
   ]
  }
 ],
 "metadata": {
  "kernelspec": {
   "display_name": "phosphosite_ml",
   "language": "python",
   "name": "python3"
  },
  "language_info": {
   "codemirror_mode": {
    "name": "ipython",
    "version": 3
   },
   "file_extension": ".py",
   "mimetype": "text/x-python",
   "name": "python",
   "nbconvert_exporter": "python",
   "pygments_lexer": "ipython3",
   "version": "3.9.16"
  },
  "orig_nbformat": 4
 },
 "nbformat": 4,
 "nbformat_minor": 2
}
