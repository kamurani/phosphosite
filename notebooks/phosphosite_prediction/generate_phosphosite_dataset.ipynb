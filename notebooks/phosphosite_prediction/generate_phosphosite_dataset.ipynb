{
 "cells": [
  {
   "cell_type": "code",
   "execution_count": 7,
   "metadata": {},
   "outputs": [
    {
     "name": "stdout",
     "output_type": "stream",
     "text": [
      "The autoreload extension is already loaded. To reload it, use:\n",
      "  %reload_ext autoreload\n"
     ]
    }
   ],
   "source": [
    "# Autoreload \n",
    "%load_ext autoreload\n",
    "%autoreload 2\n",
    "\n",
    "\"\"\"Set random seed\"\"\"\n",
    "import torch \n",
    "torch.manual_seed(0) \n",
    "import numpy as np\n",
    "np.random.seed(0)\n",
    "\n",
    "import torch\n",
    "import glob \n",
    "\n",
    "import pandas as pd\n",
    "import numpy as np\n",
    "\n",
    "from tqdm import tqdm\n",
    "from graphein.ml import ProteinGraphDataset\n",
    "from pathlib import Path\n",
    "\n",
    "\n",
    "\n",
    "\n"
   ]
  },
  {
   "cell_type": "markdown",
   "metadata": {},
   "source": [
    "### Config"
   ]
  },
  {
   "cell_type": "code",
   "execution_count": 9,
   "metadata": {},
   "outputs": [],
   "source": [
    "from graphein.protein.config import ProteinGraphConfig\n",
    "from graphein.protein.edges.distance import add_distance_threshold\n",
    "\n",
    "from functools import partial\n",
    "\n",
    "long_interaction_threshold = 0 # seq positions \n",
    "edge_threshold_distance = 6.0 # Å\n",
    "new_edge_funcs = {\"edge_construction_functions\": [\n",
    "    partial(\n",
    "    add_distance_threshold, long_interaction_threshold=long_interaction_threshold, threshold=edge_threshold_distance)\n",
    "]}\n",
    "config = ProteinGraphConfig(\n",
    "    granularity=\"CA\",\n",
    "    **new_edge_funcs,\n",
    ")\n",
    "\n",
    "from graphein.ml.conversion import GraphFormatConvertor\n",
    "\n",
    "columns = [\n",
    "    \"b_factor\",\n",
    "    \"name\",\n",
    "    \"edge_index\",\n",
    "    \"x\", # T5 per-residue embedding\n",
    "]\n",
    "convertor = GraphFormatConvertor(\n",
    "    src_format=\"nx\", dst_format=\"pyg\", verbose=\"gnn\",\n",
    "    columns=columns,\n",
    ")\n",
    "\n",
    "# List of functions that consume a nx.Graph and return a nx.Graph. Applied to graphs after construction but before conversion to pyg\n",
    "from phosphosite.graphs.pyg import add_per_residue_embedding\n",
    "graph_transforms = [\n",
    "    add_per_residue_embedding,\n",
    "]\n",
    "\n",
    "# TODO: copy across code that adds the residue embedding from `compot`. "
   ]
  },
  {
   "cell_type": "code",
   "execution_count": 27,
   "metadata": {},
   "outputs": [
    {
     "data": {
      "text/plain": [
       "(17223, 17067)"
      ]
     },
     "execution_count": 27,
     "metadata": {},
     "output_type": "execute_result"
    }
   ],
   "source": [
    "from phosphosite import PHOSPHOSITE_PREDICT_DIR\n",
    "old_dir = PHOSPHOSITE_PREDICT_DIR / \"protein_graph_dataset\"\n",
    "root_dir = old_dir\n",
    "\n",
    "processed_filenames = [Path(a).stem for a in glob.glob(str(root_dir / \"processed\" / \"*.pt\"))]\n",
    "downloaded_filenames = [Path(a).stem for a in glob.glob(str(root_dir / \"raw\" / \"*.pdb\"))]\n",
    "\n",
    "len(downloaded_filenames), len(processed_filenames)"
   ]
  },
  {
   "cell_type": "markdown",
   "metadata": {},
   "source": [
    "#### Actual path for dataset"
   ]
  },
  {
   "cell_type": "code",
   "execution_count": 30,
   "metadata": {},
   "outputs": [],
   "source": [
    "actual_root_dir = PHOSPHOSITE_PREDICT_DIR / \"actual_protein_graph_dataset\"\n",
    "control_root_dir = PHOSPHOSITE_PREDICT_DIR / \"control_protein_graph_dataset\"\n",
    "root_dir = actual_root_dir"
   ]
  },
  {
   "cell_type": "code",
   "execution_count": 13,
   "metadata": {},
   "outputs": [],
   "source": [
    "# Load index dict \n",
    "# Save indexes_dict\n",
    "from phosphosite.utils.io import save_index_dict, load_index_dict\n",
    "\n",
    "filepath = Path(\"./indexes_dict.json\")\n",
    "\n",
    "# Load indexes_dict\n",
    "indexes_dict = load_index_dict(filepath=filepath)\n",
    "\n",
    "from phosphosite.ml.graph_dataset import PhosphositeGraphDataset \n",
    "kwargs = dict(\n",
    "    root=root_dir,\n",
    "    graphein_config=config, \n",
    "    graph_transformation_funcs=graph_transforms,\n",
    "    graph_format_convertor=convertor,\n",
    "    pre_transform=None, # before saved to disk , after PyG conversion \n",
    "    pre_filter=None,    # whether it will be in final dataset\n",
    ")\n",
    "\n"
   ]
  },
  {
   "cell_type": "code",
   "execution_count": 14,
   "metadata": {},
   "outputs": [
    {
     "data": {
      "text/plain": [
       "PosixPath('/home/cim/STRUCTURAL_MOTIFS/phosphosite/notebooks/phosphosite_prediction/actual_protein_graph_dataset')"
      ]
     },
     "execution_count": 14,
     "metadata": {},
     "output_type": "execute_result"
    }
   ],
   "source": [
    "root_dir"
   ]
  },
  {
   "cell_type": "code",
   "execution_count": 20,
   "metadata": {},
   "outputs": [],
   "source": [
    "processed_filenames = [Path(a).stem for a in glob.glob(str(root_dir / \"processed\" / \"*.pt\"))]\n",
    "ds = PhosphositeGraphDataset(\n",
    "    uniprot_ids=processed_filenames,\n",
    "    y_label_map=indexes_dict,\n",
    "    **kwargs,\n",
    ")"
   ]
  },
  {
   "cell_type": "code",
   "execution_count": 21,
   "metadata": {},
   "outputs": [],
   "source": [
    "g = ds[0]"
   ]
  },
  {
   "cell_type": "code",
   "execution_count": 23,
   "metadata": {},
   "outputs": [
    {
     "data": {
      "text/plain": [
       "tensor([ 345,  429,  430,  719,  789,  884,  899,  900,  917,  930, 1219,  340,\n",
       "         344,  396,  400,  516,  974, 1123, 1126, 1135,  354, 1193, 1124, 1290,\n",
       "        1295, 1250, 1129, 1163,  198, 1051,  659,  651,  621,  184,  542,  351,\n",
       "         415,  145,  508,  448,  383,  372,  154,  992,   60,   59,  287,  523,\n",
       "        1067,  538,  968,  366,  369, 1054])"
      ]
     },
     "execution_count": 23,
     "metadata": {},
     "output_type": "execute_result"
    }
   ],
   "source": [
    "g.y_index"
   ]
  },
  {
   "cell_type": "markdown",
   "metadata": {},
   "source": [
    "### Generate control dataset (sequence adjacent)"
   ]
  },
  {
   "cell_type": "code",
   "execution_count": 26,
   "metadata": {},
   "outputs": [
    {
     "data": {
      "text/plain": [
       "17066"
      ]
     },
     "execution_count": 26,
     "metadata": {},
     "output_type": "execute_result"
    }
   ],
   "source": [
    "len(processed_filenames) # Actual number of proteins in dataset"
   ]
  },
  {
   "cell_type": "code",
   "execution_count": 31,
   "metadata": {},
   "outputs": [
    {
     "name": "stderr",
     "output_type": "stream",
     "text": [
      "Q9H6L5: 100%|██████████| 10/10 [00:00<00:00, 11.56it/s]\n"
     ]
    }
   ],
   "source": [
    "from phosphosite.utils.pt import reset_pt_edge_indexes\n",
    "\n",
    "reset_pt_edge_indexes(\n",
    "    uniprot_ids = processed_filenames[0:10],\n",
    "    from_dir=old_dir, \n",
    "    to_dir=control_root_dir, \n",
    "    sequence_adjacency_range=2, \n",
    ")"
   ]
  },
  {
   "cell_type": "code",
   "execution_count": 34,
   "metadata": {},
   "outputs": [],
   "source": [
    "# Load in to inspect \n",
    "g = torch.load(control_root_dir / \"processed\" / f\"{processed_filenames[0]}.pt\")"
   ]
  },
  {
   "cell_type": "code",
   "execution_count": 36,
   "metadata": {},
   "outputs": [
    {
     "data": {
      "text/plain": [
       "tensor([[   0,    0,    1,  ..., 1308, 1308, 1309],\n",
       "        [   1,    2,    2,  ..., 1309, 1310, 1310]])"
      ]
     },
     "execution_count": 36,
     "metadata": {},
     "output_type": "execute_result"
    }
   ],
   "source": [
    "g.edge_index"
   ]
  },
  {
   "cell_type": "code",
   "execution_count": 39,
   "metadata": {},
   "outputs": [],
   "source": [
    "# Get all the sequence_distance values for all edge indexes \n",
    "edge_index = g.edge_index\n",
    "# absolute value \n",
    "\n",
    "diff = edge_index[1] - edge_index[0]"
   ]
  },
  {
   "cell_type": "code",
   "execution_count": 44,
   "metadata": {},
   "outputs": [
    {
     "data": {
      "text/plain": [
       "(tensor([1, 2]), tensor([1310, 1309]))"
      ]
     },
     "execution_count": 44,
     "metadata": {},
     "output_type": "execute_result"
    }
   ],
   "source": [
    "# Count each unique value in tensor \n",
    "unique, counts = torch.unique(diff, return_counts=True)\n",
    "unique, counts"
   ]
  },
  {
   "cell_type": "markdown",
   "metadata": {},
   "source": [
    "#### Send it"
   ]
  },
  {
   "cell_type": "code",
   "execution_count": 45,
   "metadata": {},
   "outputs": [
    {
     "name": "stderr",
     "output_type": "stream",
     "text": [
      "pre_transform: 100%|██████████| 17067/17067 [31:04<00:00,  9.15it/s]\n"
     ]
    }
   ],
   "source": [
    "reset_pt_edge_indexes(\n",
    "    uniprot_ids = processed_filenames,\n",
    "    from_dir=old_dir, \n",
    "    to_dir=control_root_dir, \n",
    "    sequence_adjacency_range=2, \n",
    ")"
   ]
  },
  {
   "cell_type": "code",
   "execution_count": 54,
   "metadata": {},
   "outputs": [],
   "source": [
    "# arange tensor\n",
    "# Random values  \n",
    "t1 = torch.rand(10)\n",
    "t2 = torch.rand(10)"
   ]
  },
  {
   "cell_type": "code",
   "execution_count": 55,
   "metadata": {},
   "outputs": [
    {
     "data": {
      "text/plain": [
       "tensor([[0.4963, 0.7682, 0.0885, 0.1320, 0.3074, 0.6341, 0.4901, 0.8964, 0.4556,\n",
       "         0.6323],\n",
       "        [0.4963, 0.7682, 0.0885, 0.1320, 0.3074, 0.6341, 0.4901, 0.8964, 0.4556,\n",
       "         0.6323],\n",
       "        [0.4963, 0.7682, 0.0885, 0.1320, 0.3074, 0.6341, 0.4901, 0.8964, 0.4556,\n",
       "         0.6323],\n",
       "        [0.4963, 0.7682, 0.0885, 0.1320, 0.3074, 0.6341, 0.4901, 0.8964, 0.4556,\n",
       "         0.6323],\n",
       "        [0.4963, 0.7682, 0.0885, 0.1320, 0.3074, 0.6341, 0.4901, 0.8964, 0.4556,\n",
       "         0.6323],\n",
       "        [0.4963, 0.7682, 0.0885, 0.1320, 0.3074, 0.6341, 0.4901, 0.8964, 0.4556,\n",
       "         0.6323],\n",
       "        [0.4963, 0.7682, 0.0885, 0.1320, 0.3074, 0.6341, 0.4901, 0.8964, 0.4556,\n",
       "         0.6323],\n",
       "        [0.4963, 0.7682, 0.0885, 0.1320, 0.3074, 0.6341, 0.4901, 0.8964, 0.4556,\n",
       "         0.6323],\n",
       "        [0.4963, 0.7682, 0.0885, 0.1320, 0.3074, 0.6341, 0.4901, 0.8964, 0.4556,\n",
       "         0.6323],\n",
       "        [0.4963, 0.7682, 0.0885, 0.1320, 0.3074, 0.6341, 0.4901, 0.8964, 0.4556,\n",
       "         0.6323]])"
      ]
     },
     "execution_count": 55,
     "metadata": {},
     "output_type": "execute_result"
    }
   ],
   "source": [
    "# concatenate 10 times t1 \n",
    "stacked1 = torch.stack([t1 for _ in range(10)], dim=0)\n",
    "stacked2 = torch.stack([t1 for _ in range(10)], dim=1)"
   ]
  }
 ],
 "metadata": {
  "kernelspec": {
   "display_name": "phosphosite_ml",
   "language": "python",
   "name": "python3"
  },
  "language_info": {
   "codemirror_mode": {
    "name": "ipython",
    "version": 3
   },
   "file_extension": ".py",
   "mimetype": "text/x-python",
   "name": "python",
   "nbconvert_exporter": "python",
   "pygments_lexer": "ipython3",
   "version": "3.9.16"
  },
  "orig_nbformat": 4
 },
 "nbformat": 4,
 "nbformat_minor": 2
}
