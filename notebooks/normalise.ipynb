{
 "cells": [
  {
   "cell_type": "code",
   "execution_count": 1,
   "metadata": {},
   "outputs": [],
   "source": [
    "# Autoreload \n",
    "%load_ext autoreload\n",
    "%autoreload 2\n",
    "\n",
    "from pathlib import Path \n",
    "import pandas as pd \n",
    "import numpy as np\n",
    "import os \n",
    "import re \n",
    "import gzip \n",
    "import shutil\n",
    "import Bio.PDB.MMCIF2Dict\n",
    "from typing import Union, List, Tuple, Dict, Optional\n",
    "from pathlib import Path\n",
    "\n",
    "pd.options.mode.chained_assignment = None  # default='warn'\n"
   ]
  },
  {
   "cell_type": "code",
   "execution_count": 4,
   "metadata": {},
   "outputs": [],
   "source": [
    "# Load in file \n",
    "from phosphosite import DATA_DIR\n",
    "filepath = DATA_DIR / \"compseq\" / \"scgr4_human.composition\" "
   ]
  },
  {
   "cell_type": "code",
   "execution_count": 18,
   "metadata": {},
   "outputs": [],
   "source": [
    "# Parse compseq file.\n",
    "\n",
    "\n",
    "skip = 26\n",
    "\n",
    "# Read in file\n",
    "df = pd.read_csv(\n",
    "    filepath, \n",
    "    skiprows=skip,\n",
    "    sep=\"\\s+\",\n",
    "    header=None,\n",
    ")\n",
    "df.columns = [\"word\", \"count\", \"freq\", \"exp\", \"freq/exp\"]\n",
    "\n",
    "# Set 'word' to be index. \n",
    "df = df.set_index(\"word\")\n",
    "df.columns.name = \"observations\"\n",
    "df = df.T"
   ]
  },
  {
   "cell_type": "code",
   "execution_count": 23,
   "metadata": {},
   "outputs": [],
   "source": [
    "triplet_dict = {}\n",
    "\n",
    "for triplet in df.columns: \n",
    "    triplet_dict[triplet] = df[triplet].to_dict()"
   ]
  },
  {
   "cell_type": "code",
   "execution_count": 26,
   "metadata": {},
   "outputs": [
    {
     "data": {
      "text/plain": [
       "9261"
      ]
     },
     "execution_count": 26,
     "metadata": {},
     "output_type": "execute_result"
    }
   ],
   "source": [
    "triplets = list(triplet_dict.keys())\n",
    "\n",
    "# Remove \"Other\" triplet\n",
    "triplets.remove(\"Other\")\n",
    "len(triplets)"
   ]
  },
  {
   "cell_type": "code",
   "execution_count": 27,
   "metadata": {},
   "outputs": [
    {
     "data": {
      "text/plain": [
       "8000"
      ]
     },
     "execution_count": 27,
     "metadata": {},
     "output_type": "execute_result"
    }
   ],
   "source": [
    "20**3"
   ]
  },
  {
   "cell_type": "code",
   "execution_count": 31,
   "metadata": {},
   "outputs": [
    {
     "name": "stdout",
     "output_type": "stream",
     "text": [
      "ACDEFGHIKLMNPQRSTUVWY\n",
      "21\n",
      "ACDEFGHIKLMNPQRSTUVWY\n",
      "21\n",
      "ACDEFGHIKLMNPQRSTUVWY\n",
      "21\n"
     ]
    }
   ],
   "source": [
    "# For each unique combination of outer letters (i.e. AXA, AXC, AXT, etc.), \n",
    "# get the total number of triplets that contain that combination.\n",
    "\n",
    "\n",
    "for i in [0, 1, 2]:\n",
    "    amino_acids = list(set([t[i] for t in triplets]))\n",
    "    aa_str = \"\".join(sorted(amino_acids))\n",
    "    print(aa_str)\n",
    "    print(len(aa_str))"
   ]
  },
  {
   "cell_type": "code",
   "execution_count": 33,
   "metadata": {},
   "outputs": [
    {
     "data": {
      "text/plain": [
       "'ACDEFGHIKLMNPQRSTUVWY'"
      ]
     },
     "execution_count": 33,
     "metadata": {},
     "output_type": "execute_result"
    }
   ],
   "source": [
    "amino_acids = aa_str\n",
    "amino_acids"
   ]
  },
  {
   "cell_type": "code",
   "execution_count": null,
   "metadata": {},
   "outputs": [],
   "source": [
    "for aa_prev in amino_acids:\n",
    "    for aa_"
   ]
  }
 ],
 "metadata": {
  "kernelspec": {
   "display_name": "Python 3.9.16 ('phosphosite')",
   "language": "python",
   "name": "python3"
  },
  "language_info": {
   "codemirror_mode": {
    "name": "ipython",
    "version": 3
   },
   "file_extension": ".py",
   "mimetype": "text/x-python",
   "name": "python",
   "nbconvert_exporter": "python",
   "pygments_lexer": "ipython3",
   "version": "3.9.16"
  },
  "orig_nbformat": 4,
  "vscode": {
   "interpreter": {
    "hash": "9edadec71027bc8d6f8f17d577ba0fe2884012c0dad6df4c8824f7cf865abdf8"
   }
  }
 },
 "nbformat": 4,
 "nbformat_minor": 2
}
