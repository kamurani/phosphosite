{
 "cells": [
  {
   "cell_type": "code",
   "execution_count": 47,
   "metadata": {},
   "outputs": [
    {
     "name": "stdout",
     "output_type": "stream",
     "text": [
      "The autoreload extension is already loaded. To reload it, use:\n",
      "  %reload_ext autoreload\n"
     ]
    }
   ],
   "source": [
    "# Autoreload \n",
    "%load_ext autoreload\n",
    "%autoreload 2\n",
    "\n",
    "from pathlib import Path \n",
    "import pandas as pd \n",
    "import numpy as np\n",
    "import os \n",
    "import re \n",
    "import gzip \n",
    "import shutil\n",
    "import Bio.PDB.MMCIF2Dict\n",
    "from typing import Union, List, Tuple, Dict, Optional\n",
    "from pathlib import Path\n",
    "\n",
    "pd.options.mode.chained_assignment = None  # default='warn'\n"
   ]
  },
  {
   "cell_type": "markdown",
   "metadata": {},
   "source": [
    "## Get background frequencies."
   ]
  },
  {
   "cell_type": "code",
   "execution_count": null,
   "metadata": {},
   "outputs": [],
   "source": [
    "# TODO: \n",
    "# run compseq from within python."
   ]
  },
  {
   "cell_type": "code",
   "execution_count": 85,
   "metadata": {},
   "outputs": [],
   "source": [
    "# Load in file \n",
    "from phosphosite import DATA_DIR\n",
    "from phosphosite.utils.compseq import parse_compseq_output, get_frequency_pair_dict, get_triplet_dict\n",
    "\n",
    "filepath = DATA_DIR / \"compseq\" / \"scgr4_human.composition\" \n",
    "df = parse_compseq_output(filepath)"
   ]
  },
  {
   "cell_type": "code",
   "execution_count": 86,
   "metadata": {},
   "outputs": [
    {
     "data": {
      "text/html": [
       "<div>\n",
       "<style scoped>\n",
       "    .dataframe tbody tr th:only-of-type {\n",
       "        vertical-align: middle;\n",
       "    }\n",
       "\n",
       "    .dataframe tbody tr th {\n",
       "        vertical-align: top;\n",
       "    }\n",
       "\n",
       "    .dataframe thead th {\n",
       "        text-align: right;\n",
       "    }\n",
       "</style>\n",
       "<table border=\"1\" class=\"dataframe\">\n",
       "  <thead>\n",
       "    <tr style=\"text-align: right;\">\n",
       "      <th>word</th>\n",
       "      <th>AAA</th>\n",
       "      <th>AAC</th>\n",
       "      <th>AAD</th>\n",
       "      <th>AAE</th>\n",
       "      <th>AAF</th>\n",
       "      <th>AAG</th>\n",
       "      <th>AAH</th>\n",
       "      <th>AAI</th>\n",
       "      <th>AAK</th>\n",
       "      <th>AAL</th>\n",
       "      <th>...</th>\n",
       "      <th>YYP</th>\n",
       "      <th>YYQ</th>\n",
       "      <th>YYR</th>\n",
       "      <th>YYS</th>\n",
       "      <th>YYT</th>\n",
       "      <th>YYU</th>\n",
       "      <th>YYV</th>\n",
       "      <th>YYW</th>\n",
       "      <th>YYY</th>\n",
       "      <th>Other</th>\n",
       "    </tr>\n",
       "    <tr>\n",
       "      <th>observations</th>\n",
       "      <th></th>\n",
       "      <th></th>\n",
       "      <th></th>\n",
       "      <th></th>\n",
       "      <th></th>\n",
       "      <th></th>\n",
       "      <th></th>\n",
       "      <th></th>\n",
       "      <th></th>\n",
       "      <th></th>\n",
       "      <th></th>\n",
       "      <th></th>\n",
       "      <th></th>\n",
       "      <th></th>\n",
       "      <th></th>\n",
       "      <th></th>\n",
       "      <th></th>\n",
       "      <th></th>\n",
       "      <th></th>\n",
       "      <th></th>\n",
       "      <th></th>\n",
       "    </tr>\n",
       "  </thead>\n",
       "  <tbody>\n",
       "    <tr>\n",
       "      <th>count</th>\n",
       "      <td>13401.000000</td>\n",
       "      <td>1535.000000</td>\n",
       "      <td>2641.000000</td>\n",
       "      <td>4821.000000</td>\n",
       "      <td>2529.000000</td>\n",
       "      <td>6470.000000</td>\n",
       "      <td>1628.000000</td>\n",
       "      <td>2534.000000</td>\n",
       "      <td>3158.000000</td>\n",
       "      <td>7917.000000</td>\n",
       "      <td>...</td>\n",
       "      <td>469.000000</td>\n",
       "      <td>501.000000</td>\n",
       "      <td>719.000000</td>\n",
       "      <td>895.000000</td>\n",
       "      <td>514.000000</td>\n",
       "      <td>0.0</td>\n",
       "      <td>546.000000</td>\n",
       "      <td>164.000000</td>\n",
       "      <td>478.000000</td>\n",
       "      <td>72.000000</td>\n",
       "    </tr>\n",
       "    <tr>\n",
       "      <th>freq</th>\n",
       "      <td>0.001179</td>\n",
       "      <td>0.000135</td>\n",
       "      <td>0.000232</td>\n",
       "      <td>0.000424</td>\n",
       "      <td>0.000223</td>\n",
       "      <td>0.000570</td>\n",
       "      <td>0.000143</td>\n",
       "      <td>0.000223</td>\n",
       "      <td>0.000278</td>\n",
       "      <td>0.000697</td>\n",
       "      <td>...</td>\n",
       "      <td>0.000041</td>\n",
       "      <td>0.000044</td>\n",
       "      <td>0.000063</td>\n",
       "      <td>0.000079</td>\n",
       "      <td>0.000045</td>\n",
       "      <td>0.0</td>\n",
       "      <td>0.000048</td>\n",
       "      <td>0.000014</td>\n",
       "      <td>0.000042</td>\n",
       "      <td>0.000006</td>\n",
       "    </tr>\n",
       "    <tr>\n",
       "      <th>exp</th>\n",
       "      <td>0.000345</td>\n",
       "      <td>0.000113</td>\n",
       "      <td>0.000233</td>\n",
       "      <td>0.000349</td>\n",
       "      <td>0.000179</td>\n",
       "      <td>0.000323</td>\n",
       "      <td>0.000129</td>\n",
       "      <td>0.000213</td>\n",
       "      <td>0.000282</td>\n",
       "      <td>0.000490</td>\n",
       "      <td>...</td>\n",
       "      <td>0.000045</td>\n",
       "      <td>0.000034</td>\n",
       "      <td>0.000040</td>\n",
       "      <td>0.000059</td>\n",
       "      <td>0.000038</td>\n",
       "      <td>0.0</td>\n",
       "      <td>0.000042</td>\n",
       "      <td>0.000009</td>\n",
       "      <td>0.000019</td>\n",
       "      <td>0.000006</td>\n",
       "    </tr>\n",
       "    <tr>\n",
       "      <th>freq/exp</th>\n",
       "      <td>3.421967</td>\n",
       "      <td>1.193803</td>\n",
       "      <td>0.998603</td>\n",
       "      <td>1.214486</td>\n",
       "      <td>1.240463</td>\n",
       "      <td>1.761144</td>\n",
       "      <td>1.110940</td>\n",
       "      <td>1.047225</td>\n",
       "      <td>0.986669</td>\n",
       "      <td>1.422139</td>\n",
       "      <td>...</td>\n",
       "      <td>0.922630</td>\n",
       "      <td>1.305517</td>\n",
       "      <td>1.583844</td>\n",
       "      <td>1.333848</td>\n",
       "      <td>1.193247</td>\n",
       "      <td>0.0</td>\n",
       "      <td>1.137856</td>\n",
       "      <td>1.677797</td>\n",
       "      <td>2.230995</td>\n",
       "      <td>1.094863</td>\n",
       "    </tr>\n",
       "  </tbody>\n",
       "</table>\n",
       "<p>4 rows × 9262 columns</p>\n",
       "</div>"
      ],
      "text/plain": [
       "word                   AAA          AAC          AAD          AAE  \\\n",
       "observations                                                        \n",
       "count         13401.000000  1535.000000  2641.000000  4821.000000   \n",
       "freq              0.001179     0.000135     0.000232     0.000424   \n",
       "exp               0.000345     0.000113     0.000233     0.000349   \n",
       "freq/exp          3.421967     1.193803     0.998603     1.214486   \n",
       "\n",
       "word                  AAF          AAG          AAH          AAI          AAK  \\\n",
       "observations                                                                    \n",
       "count         2529.000000  6470.000000  1628.000000  2534.000000  3158.000000   \n",
       "freq             0.000223     0.000570     0.000143     0.000223     0.000278   \n",
       "exp              0.000179     0.000323     0.000129     0.000213     0.000282   \n",
       "freq/exp         1.240463     1.761144     1.110940     1.047225     0.986669   \n",
       "\n",
       "word                  AAL  ...         YYP         YYQ         YYR  \\\n",
       "observations               ...                                       \n",
       "count         7917.000000  ...  469.000000  501.000000  719.000000   \n",
       "freq             0.000697  ...    0.000041    0.000044    0.000063   \n",
       "exp              0.000490  ...    0.000045    0.000034    0.000040   \n",
       "freq/exp         1.422139  ...    0.922630    1.305517    1.583844   \n",
       "\n",
       "word                 YYS         YYT  YYU         YYV         YYW         YYY  \\\n",
       "observations                                                                    \n",
       "count         895.000000  514.000000  0.0  546.000000  164.000000  478.000000   \n",
       "freq            0.000079    0.000045  0.0    0.000048    0.000014    0.000042   \n",
       "exp             0.000059    0.000038  0.0    0.000042    0.000009    0.000019   \n",
       "freq/exp        1.333848    1.193247  0.0    1.137856    1.677797    2.230995   \n",
       "\n",
       "word              Other  \n",
       "observations             \n",
       "count         72.000000  \n",
       "freq           0.000006  \n",
       "exp            0.000006  \n",
       "freq/exp       1.094863  \n",
       "\n",
       "[4 rows x 9262 columns]"
      ]
     },
     "execution_count": 86,
     "metadata": {},
     "output_type": "execute_result"
    }
   ],
   "source": [
    "df"
   ]
  },
  {
   "cell_type": "code",
   "execution_count": 87,
   "metadata": {},
   "outputs": [
    {
     "data": {
      "text/plain": [
       "observations\n",
       "count       1.136161e+07\n",
       "freq        1.000005e+00\n",
       "exp         9.999825e-01\n",
       "freq/exp    2.899393e+05\n",
       "dtype: float64"
      ]
     },
     "execution_count": 87,
     "metadata": {},
     "output_type": "execute_result"
    }
   ],
   "source": [
    "total_count = df.sum(axis=1)\n",
    "total_count"
   ]
  },
  {
   "cell_type": "code",
   "execution_count": 88,
   "metadata": {},
   "outputs": [
    {
     "data": {
      "text/plain": [
       "0.0012931"
      ]
     },
     "execution_count": 88,
     "metadata": {},
     "output_type": "execute_result"
    }
   ],
   "source": [
    "t1 = \"AAA\"\n",
    "t2 = \"ACA\"\n",
    "\n",
    "df[[t1,t2]].sum(axis=1).freq"
   ]
  },
  {
   "cell_type": "code",
   "execution_count": 89,
   "metadata": {},
   "outputs": [
    {
     "data": {
      "text/plain": [
       "1323"
      ]
     },
     "execution_count": 89,
     "metadata": {},
     "output_type": "execute_result"
    }
   ],
   "source": [
    "psite_dict=get_triplet_dict(df, metric=\"freq\", amino_acids=None, centre_residue=\"STY\")\n",
    "len(psite_dict)"
   ]
  },
  {
   "cell_type": "code",
   "execution_count": 90,
   "metadata": {},
   "outputs": [
    {
     "data": {
      "text/plain": [
       "(1200, 1200)"
      ]
     },
     "execution_count": 90,
     "metadata": {},
     "output_type": "execute_result"
    }
   ],
   "source": [
    "std_residues = \"ACDEFGHIKLMNPQRSTVWY\"\n",
    "psite_dict=get_triplet_dict(df, metric=\"freq\", amino_acids=std_residues, centre_residue=\"STY\")\n",
    "len(psite_dict), 20*3*20"
   ]
  }
 ],
 "metadata": {
  "kernelspec": {
   "display_name": "Python 3.9.16 ('phosphosite')",
   "language": "python",
   "name": "python3"
  },
  "language_info": {
   "codemirror_mode": {
    "name": "ipython",
    "version": 3
   },
   "file_extension": ".py",
   "mimetype": "text/x-python",
   "name": "python",
   "nbconvert_exporter": "python",
   "pygments_lexer": "ipython3",
   "version": "3.9.16"
  },
  "orig_nbformat": 4,
  "vscode": {
   "interpreter": {
    "hash": "9edadec71027bc8d6f8f17d577ba0fe2884012c0dad6df4c8824f7cf865abdf8"
   }
  }
 },
 "nbformat": 4,
 "nbformat_minor": 2
}
